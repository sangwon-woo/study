{
 "cells": [
  {
   "cell_type": "code",
   "execution_count": 1,
   "metadata": {},
   "outputs": [],
   "source": [
    "import numpy as np\n",
    "import pandas as pd\n",
    "\n",
    "from IPython.core.interactiveshell import InteractiveShell\n",
    "InteractiveShell.ast_node_interactivity = \"all\"\n",
    "\n",
    "pd.set_option('display.float_format', lambda x: '%.3f' % x)\n",
    "pd.set_option('max_columns', None)"
   ]
  },
  {
   "cell_type": "markdown",
   "metadata": {},
   "source": [
    "# 데이터 준비"
   ]
  },
  {
   "cell_type": "code",
   "execution_count": 2,
   "metadata": {},
   "outputs": [],
   "source": [
    "df = pd.read_csv(\"my_data/naver_finance/2016_12.csv\")"
   ]
  },
  {
   "cell_type": "code",
   "execution_count": 3,
   "metadata": {},
   "outputs": [
    {
     "data": {
      "text/html": [
       "<div>\n",
       "<style scoped>\n",
       "    .dataframe tbody tr th:only-of-type {\n",
       "        vertical-align: middle;\n",
       "    }\n",
       "\n",
       "    .dataframe tbody tr th {\n",
       "        vertical-align: top;\n",
       "    }\n",
       "\n",
       "    .dataframe thead th {\n",
       "        text-align: right;\n",
       "    }\n",
       "</style>\n",
       "<table border=\"1\" class=\"dataframe\">\n",
       "  <thead>\n",
       "    <tr style=\"text-align: right;\">\n",
       "      <th></th>\n",
       "      <th>ticker</th>\n",
       "      <th>매출액(억원)</th>\n",
       "      <th>영업이익률(%)</th>\n",
       "      <th>순이익률(%)</th>\n",
       "      <th>당기순이익(억원)</th>\n",
       "      <th>ROE(%)</th>\n",
       "      <th>ROA(%)</th>\n",
       "      <th>ROIC(%)</th>\n",
       "      <th>EPS(원)</th>\n",
       "      <th>BPS(원)</th>\n",
       "      <th>SPS(원)</th>\n",
       "      <th>PER(배)</th>\n",
       "      <th>PBR(배)</th>\n",
       "      <th>PSR(배)</th>\n",
       "      <th>price</th>\n",
       "      <th>price2</th>\n",
       "    </tr>\n",
       "  </thead>\n",
       "  <tbody>\n",
       "    <tr>\n",
       "      <th>0</th>\n",
       "      <td>AK홀딩스</td>\n",
       "      <td>29218.310</td>\n",
       "      <td>7.313</td>\n",
       "      <td>4.563</td>\n",
       "      <td>1333.223</td>\n",
       "      <td>12.193</td>\n",
       "      <td>5.091</td>\n",
       "      <td>15.515</td>\n",
       "      <td>5436.413</td>\n",
       "      <td>48112.402</td>\n",
       "      <td>220556.160</td>\n",
       "      <td>10.301</td>\n",
       "      <td>1.164</td>\n",
       "      <td>0.254</td>\n",
       "      <td>56000.000</td>\n",
       "      <td>68500.000</td>\n",
       "    </tr>\n",
       "    <tr>\n",
       "      <th>1</th>\n",
       "      <td>BGF</td>\n",
       "      <td>860.773</td>\n",
       "      <td>9.315</td>\n",
       "      <td>214.481</td>\n",
       "      <td>1846.192</td>\n",
       "      <td>21.624</td>\n",
       "      <td>10.433</td>\n",
       "      <td>8.015</td>\n",
       "      <td>3703.577</td>\n",
       "      <td>18648.623</td>\n",
       "      <td>1737.263</td>\n",
       "      <td>22.757</td>\n",
       "      <td>4.519</td>\n",
       "      <td>48.514</td>\n",
       "      <td>42140.000</td>\n",
       "      <td>15250.000</td>\n",
       "    </tr>\n",
       "    <tr>\n",
       "      <th>2</th>\n",
       "      <td>BNK금융지주</td>\n",
       "      <td>49126.760</td>\n",
       "      <td>14.499</td>\n",
       "      <td>10.546</td>\n",
       "      <td>5181.144</td>\n",
       "      <td>7.919</td>\n",
       "      <td>0.564</td>\n",
       "      <td>NaN</td>\n",
       "      <td>1568.237</td>\n",
       "      <td>20810.660</td>\n",
       "      <td>15358.993</td>\n",
       "      <td>5.535</td>\n",
       "      <td>0.417</td>\n",
       "      <td>0.565</td>\n",
       "      <td>8680.000</td>\n",
       "      <td>9420.000</td>\n",
       "    </tr>\n",
       "    <tr>\n",
       "      <th>3</th>\n",
       "      <td>BYC</td>\n",
       "      <td>2118.576</td>\n",
       "      <td>7.625</td>\n",
       "      <td>8.281</td>\n",
       "      <td>175.433</td>\n",
       "      <td>4.543</td>\n",
       "      <td>2.463</td>\n",
       "      <td>10.748</td>\n",
       "      <td>20872.312</td>\n",
       "      <td>471887.000</td>\n",
       "      <td>252211.450</td>\n",
       "      <td>19.020</td>\n",
       "      <td>0.841</td>\n",
       "      <td>1.574</td>\n",
       "      <td>397000.000</td>\n",
       "      <td>306000.000</td>\n",
       "    </tr>\n",
       "    <tr>\n",
       "      <th>4</th>\n",
       "      <td>CJ</td>\n",
       "      <td>239541.970</td>\n",
       "      <td>5.230</td>\n",
       "      <td>2.379</td>\n",
       "      <td>5698.234</td>\n",
       "      <td>6.080</td>\n",
       "      <td>2.253</td>\n",
       "      <td>5.158</td>\n",
       "      <td>6257.152</td>\n",
       "      <td>114276.080</td>\n",
       "      <td>672045.900</td>\n",
       "      <td>28.181</td>\n",
       "      <td>1.543</td>\n",
       "      <td>0.262</td>\n",
       "      <td>176334.000</td>\n",
       "      <td>171148.000</td>\n",
       "    </tr>\n",
       "  </tbody>\n",
       "</table>\n",
       "</div>"
      ],
      "text/plain": [
       "    ticker    매출액(억원)  영업이익률(%)  순이익률(%)  당기순이익(억원)  ROE(%)  ROA(%)  ROIC(%)  \\\n",
       "0    AK홀딩스  29218.310     7.313    4.563   1333.223  12.193   5.091   15.515   \n",
       "1      BGF    860.773     9.315  214.481   1846.192  21.624  10.433    8.015   \n",
       "2  BNK금융지주  49126.760    14.499   10.546   5181.144   7.919   0.564      NaN   \n",
       "3      BYC   2118.576     7.625    8.281    175.433   4.543   2.463   10.748   \n",
       "4       CJ 239541.970     5.230    2.379   5698.234   6.080   2.253    5.158   \n",
       "\n",
       "     EPS(원)     BPS(원)     SPS(원)  PER(배)  PBR(배)  PSR(배)      price  \\\n",
       "0  5436.413  48112.402 220556.160  10.301   1.164   0.254  56000.000   \n",
       "1  3703.577  18648.623   1737.263  22.757   4.519  48.514  42140.000   \n",
       "2  1568.237  20810.660  15358.993   5.535   0.417   0.565   8680.000   \n",
       "3 20872.312 471887.000 252211.450  19.020   0.841   1.574 397000.000   \n",
       "4  6257.152 114276.080 672045.900  28.181   1.543   0.262 176334.000   \n",
       "\n",
       "      price2  \n",
       "0  68500.000  \n",
       "1  15250.000  \n",
       "2   9420.000  \n",
       "3 306000.000  \n",
       "4 171148.000  "
      ]
     },
     "execution_count": 3,
     "metadata": {},
     "output_type": "execute_result"
    }
   ],
   "source": [
    "df.head()"
   ]
  },
  {
   "cell_type": "markdown",
   "metadata": {},
   "source": [
    " "
   ]
  },
  {
   "cell_type": "markdown",
   "metadata": {},
   "source": [
    "## 수익률 구하기 (16.12 ~ 17.12)"
   ]
  },
  {
   "cell_type": "code",
   "execution_count": 4,
   "metadata": {},
   "outputs": [],
   "source": [
    "df['rtn'] = df['price2'] / df['price'] - 1"
   ]
  },
  {
   "cell_type": "markdown",
   "metadata": {},
   "source": [
    " "
   ]
  },
  {
   "cell_type": "markdown",
   "metadata": {},
   "source": [
    " "
   ]
  },
  {
   "cell_type": "markdown",
   "metadata": {
    "toc-hr-collapsed": false
   },
   "source": [
    "# PER 값에 따라 group number 부여하기"
   ]
  },
  {
   "cell_type": "markdown",
   "metadata": {},
   "source": [
    "## 값을 기준으로 grouping 하기 (DIFFERENT number of members in each  group)"
   ]
  },
  {
   "cell_type": "markdown",
   "metadata": {},
   "source": [
    "### boolean selection & loc 사용"
   ]
  },
  {
   "cell_type": "markdown",
   "metadata": {},
   "source": [
    "- 곧 뒤에서 배울 `cut()` 을 사용하면 아래 방법보다 더 쉽게 가능합니다. 하지만 여기서 진행하는 방식들도 매우 중요하니 반드시 익혀두세요!"
   ]
  },
  {
   "cell_type": "code",
   "execution_count": 5,
   "metadata": {},
   "outputs": [
    {
     "data": {
      "text/plain": [
       "0     True\n",
       "1     True\n",
       "2    False\n",
       "3     True\n",
       "4     True\n",
       "Name: PER(배), dtype: bool"
      ]
     },
     "execution_count": 5,
     "metadata": {},
     "output_type": "execute_result"
    }
   ],
   "source": [
    "(df['PER(배)'] >= 10).head()"
   ]
  },
  {
   "cell_type": "code",
   "execution_count": 6,
   "metadata": {},
   "outputs": [],
   "source": [
    "bound1 = df['PER(배)'] >= 10\n",
    "bound2 = (5 <= df['PER(배)']) & (df['PER(배)'] < 10)\n",
    "bound3 = (0 <= df['PER(배)']) & (df['PER(배)'] < 5)\n",
    "bound4 = df['PER(배)'] < 0"
   ]
  },
  {
   "cell_type": "code",
   "execution_count": 7,
   "metadata": {},
   "outputs": [
    {
     "data": {
      "text/plain": [
       "(681, 17)"
      ]
     },
     "execution_count": 7,
     "metadata": {},
     "output_type": "execute_result"
    }
   ],
   "source": [
    "df.shape"
   ]
  },
  {
   "cell_type": "code",
   "execution_count": 8,
   "metadata": {},
   "outputs": [
    {
     "data": {
      "text/plain": [
       "(378, 17)"
      ]
     },
     "execution_count": 8,
     "metadata": {},
     "output_type": "execute_result"
    }
   ],
   "source": [
    "df[bound1].shape # = df.loc[bound1].shape"
   ]
  },
  {
   "cell_type": "code",
   "execution_count": 9,
   "metadata": {},
   "outputs": [],
   "source": [
    "df.loc[bound1, 'PER_Score'] = 1\n",
    "df.loc[bound2, 'PER_Score'] = 2\n",
    "df.loc[bound3, 'PER_Score'] = 3\n",
    "df.loc[bound4, 'PER_Score'] = -1"
   ]
  },
  {
   "cell_type": "code",
   "execution_count": 10,
   "metadata": {},
   "outputs": [
    {
     "data": {
      "text/plain": [
       "0   1.000\n",
       "1   1.000\n",
       "2   2.000\n",
       "3   1.000\n",
       "4   1.000\n",
       "Name: PER_Score, dtype: float64"
      ]
     },
     "execution_count": 10,
     "metadata": {},
     "output_type": "execute_result"
    }
   ],
   "source": [
    "df['PER_Score'].head()"
   ]
  },
  {
   "cell_type": "code",
   "execution_count": 12,
   "metadata": {},
   "outputs": [
    {
     "data": {
      "text/plain": [
       "4"
      ]
     },
     "execution_count": 12,
     "metadata": {},
     "output_type": "execute_result"
    }
   ],
   "source": [
    "df['PER_Score'].nunique()"
   ]
  },
  {
   "cell_type": "code",
   "execution_count": 13,
   "metadata": {},
   "outputs": [
    {
     "data": {
      "text/plain": [
       "1.000     378\n",
       "2.000     148\n",
       "-1.000    120\n",
       "3.000      23\n",
       "Name: PER_Score, dtype: int64"
      ]
     },
     "execution_count": 13,
     "metadata": {},
     "output_type": "execute_result"
    }
   ],
   "source": [
    "df['PER_Score'].value_counts()"
   ]
  },
  {
   "cell_type": "markdown",
   "metadata": {},
   "source": [
    "- `PER_Score`가 float number로 나오는 이유?"
   ]
  },
  {
   "cell_type": "code",
   "execution_count": 14,
   "metadata": {},
   "outputs": [
    {
     "data": {
      "text/plain": [
       "True"
      ]
     },
     "execution_count": 14,
     "metadata": {},
     "output_type": "execute_result"
    }
   ],
   "source": [
    "df['PER_Score'].hasnans"
   ]
  },
  {
   "cell_type": "code",
   "execution_count": 15,
   "metadata": {},
   "outputs": [
    {
     "data": {
      "text/plain": [
       "12"
      ]
     },
     "execution_count": 15,
     "metadata": {},
     "output_type": "execute_result"
    }
   ],
   "source": [
    "df['PER_Score'].isna().sum()"
   ]
  },
  {
   "cell_type": "code",
   "execution_count": 16,
   "metadata": {},
   "outputs": [
    {
     "data": {
      "text/plain": [
       "12"
      ]
     },
     "execution_count": 16,
     "metadata": {},
     "output_type": "execute_result"
    }
   ],
   "source": [
    "df['PER(배)'].isna().sum()"
   ]
  },
  {
   "cell_type": "code",
   "execution_count": 17,
   "metadata": {},
   "outputs": [
    {
     "data": {
      "text/html": [
       "<div>\n",
       "<style scoped>\n",
       "    .dataframe tbody tr th:only-of-type {\n",
       "        vertical-align: middle;\n",
       "    }\n",
       "\n",
       "    .dataframe tbody tr th {\n",
       "        vertical-align: top;\n",
       "    }\n",
       "\n",
       "    .dataframe thead th {\n",
       "        text-align: right;\n",
       "    }\n",
       "</style>\n",
       "<table border=\"1\" class=\"dataframe\">\n",
       "  <thead>\n",
       "    <tr style=\"text-align: right;\">\n",
       "      <th></th>\n",
       "      <th>ticker</th>\n",
       "      <th>매출액(억원)</th>\n",
       "      <th>영업이익률(%)</th>\n",
       "      <th>순이익률(%)</th>\n",
       "      <th>당기순이익(억원)</th>\n",
       "      <th>ROE(%)</th>\n",
       "      <th>ROA(%)</th>\n",
       "      <th>ROIC(%)</th>\n",
       "      <th>EPS(원)</th>\n",
       "      <th>BPS(원)</th>\n",
       "      <th>SPS(원)</th>\n",
       "      <th>PER(배)</th>\n",
       "      <th>PBR(배)</th>\n",
       "      <th>PSR(배)</th>\n",
       "      <th>price</th>\n",
       "      <th>price2</th>\n",
       "      <th>rtn</th>\n",
       "      <th>PER_Score</th>\n",
       "    </tr>\n",
       "  </thead>\n",
       "  <tbody>\n",
       "    <tr>\n",
       "      <th>27</th>\n",
       "      <td>HSD엔진</td>\n",
       "      <td>8029.166</td>\n",
       "      <td>0.528</td>\n",
       "      <td>-22.571</td>\n",
       "      <td>-1812.265</td>\n",
       "      <td>-32.685</td>\n",
       "      <td>-13.120</td>\n",
       "      <td>2.749</td>\n",
       "      <td>-2607.575</td>\n",
       "      <td>7687.264</td>\n",
       "      <td>11552.757</td>\n",
       "      <td>NaN</td>\n",
       "      <td>0.404</td>\n",
       "      <td>NaN</td>\n",
       "      <td>2290.000</td>\n",
       "      <td>2569.000</td>\n",
       "      <td>0.122</td>\n",
       "      <td>NaN</td>\n",
       "    </tr>\n",
       "    <tr>\n",
       "      <th>103</th>\n",
       "      <td>고려개발</td>\n",
       "      <td>6238.648</td>\n",
       "      <td>4.223</td>\n",
       "      <td>-4.895</td>\n",
       "      <td>-305.362</td>\n",
       "      <td>141.454</td>\n",
       "      <td>-4.903</td>\n",
       "      <td>20.462</td>\n",
       "      <td>-3118.716</td>\n",
       "      <td>1988.392</td>\n",
       "      <td>63716.438</td>\n",
       "      <td>NaN</td>\n",
       "      <td>6.327</td>\n",
       "      <td>NaN</td>\n",
       "      <td>12430.000</td>\n",
       "      <td>11659.000</td>\n",
       "      <td>-0.062</td>\n",
       "      <td>NaN</td>\n",
       "    </tr>\n",
       "    <tr>\n",
       "      <th>126</th>\n",
       "      <td>까뮤이앤씨</td>\n",
       "      <td>1397.081</td>\n",
       "      <td>3.180</td>\n",
       "      <td>2.331</td>\n",
       "      <td>32.563</td>\n",
       "      <td>6.721</td>\n",
       "      <td>2.390</td>\n",
       "      <td>7.808</td>\n",
       "      <td>72.117</td>\n",
       "      <td>1153.474</td>\n",
       "      <td>3094.153</td>\n",
       "      <td>NaN</td>\n",
       "      <td>0.958</td>\n",
       "      <td>NaN</td>\n",
       "      <td>1105.000</td>\n",
       "      <td>1010.000</td>\n",
       "      <td>-0.086</td>\n",
       "      <td>NaN</td>\n",
       "    </tr>\n",
       "    <tr>\n",
       "      <th>133</th>\n",
       "      <td>남영비비안</td>\n",
       "      <td>2074.953</td>\n",
       "      <td>-0.949</td>\n",
       "      <td>-1.103</td>\n",
       "      <td>-22.895</td>\n",
       "      <td>-1.667</td>\n",
       "      <td>-1.371</td>\n",
       "      <td>-2.101</td>\n",
       "      <td>-32.324</td>\n",
       "      <td>2031.729</td>\n",
       "      <td>3021.213</td>\n",
       "      <td>NaN</td>\n",
       "      <td>0.436</td>\n",
       "      <td>NaN</td>\n",
       "      <td>885.000</td>\n",
       "      <td>777.000</td>\n",
       "      <td>-0.122</td>\n",
       "      <td>NaN</td>\n",
       "    </tr>\n",
       "    <tr>\n",
       "      <th>203</th>\n",
       "      <td>티탑스</td>\n",
       "      <td>940.880</td>\n",
       "      <td>-7.061</td>\n",
       "      <td>-4.217</td>\n",
       "      <td>-39.673</td>\n",
       "      <td>-8.980</td>\n",
       "      <td>-4.092</td>\n",
       "      <td>NaN</td>\n",
       "      <td>-1917.146</td>\n",
       "      <td>19287.736</td>\n",
       "      <td>44614.258</td>\n",
       "      <td>NaN</td>\n",
       "      <td>0.058</td>\n",
       "      <td>NaN</td>\n",
       "      <td>1115.000</td>\n",
       "      <td>1575.000</td>\n",
       "      <td>0.413</td>\n",
       "      <td>NaN</td>\n",
       "    </tr>\n",
       "    <tr>\n",
       "      <th>231</th>\n",
       "      <td>롯데칠성음료</td>\n",
       "      <td>22642.120</td>\n",
       "      <td>6.463</td>\n",
       "      <td>3.054</td>\n",
       "      <td>691.439</td>\n",
       "      <td>2.961</td>\n",
       "      <td>1.531</td>\n",
       "      <td>3.109</td>\n",
       "      <td>5107.448</td>\n",
       "      <td>172911.200</td>\n",
       "      <td>166829.270</td>\n",
       "      <td>NaN</td>\n",
       "      <td>8.363</td>\n",
       "      <td>NaN</td>\n",
       "      <td>145675.000</td>\n",
       "      <td>132900.000</td>\n",
       "      <td>-0.088</td>\n",
       "      <td>NaN</td>\n",
       "    </tr>\n",
       "    <tr>\n",
       "      <th>371</th>\n",
       "      <td>쌍용양회공업</td>\n",
       "      <td>14302.892</td>\n",
       "      <td>18.027</td>\n",
       "      <td>12.243</td>\n",
       "      <td>1751.111</td>\n",
       "      <td>11.589</td>\n",
       "      <td>5.694</td>\n",
       "      <td>9.037</td>\n",
       "      <td>400.919</td>\n",
       "      <td>3627.562</td>\n",
       "      <td>3319.079</td>\n",
       "      <td>NaN</td>\n",
       "      <td>0.816</td>\n",
       "      <td>NaN</td>\n",
       "      <td>2960.000</td>\n",
       "      <td>3730.000</td>\n",
       "      <td>0.260</td>\n",
       "      <td>NaN</td>\n",
       "    </tr>\n",
       "    <tr>\n",
       "      <th>507</th>\n",
       "      <td>컨버즈</td>\n",
       "      <td>459.748</td>\n",
       "      <td>-19.328</td>\n",
       "      <td>-35.526</td>\n",
       "      <td>-163.331</td>\n",
       "      <td>NaN</td>\n",
       "      <td>NaN</td>\n",
       "      <td>NaN</td>\n",
       "      <td>-33811.426</td>\n",
       "      <td>20164.525</td>\n",
       "      <td>95172.870</td>\n",
       "      <td>NaN</td>\n",
       "      <td>0.397</td>\n",
       "      <td>NaN</td>\n",
       "      <td>4416.000</td>\n",
       "      <td>1750.000</td>\n",
       "      <td>-0.604</td>\n",
       "      <td>NaN</td>\n",
       "    </tr>\n",
       "    <tr>\n",
       "      <th>560</th>\n",
       "      <td>풀무원</td>\n",
       "      <td>20306.730</td>\n",
       "      <td>1.869</td>\n",
       "      <td>0.491</td>\n",
       "      <td>99.778</td>\n",
       "      <td>6.765</td>\n",
       "      <td>0.979</td>\n",
       "      <td>1.933</td>\n",
       "      <td>4881.663</td>\n",
       "      <td>6986.189</td>\n",
       "      <td>533111.700</td>\n",
       "      <td>NaN</td>\n",
       "      <td>2.011</td>\n",
       "      <td>NaN</td>\n",
       "      <td>14050.000</td>\n",
       "      <td>17200.000</td>\n",
       "      <td>0.224</td>\n",
       "      <td>NaN</td>\n",
       "    </tr>\n",
       "    <tr>\n",
       "      <th>622</th>\n",
       "      <td>한일철강</td>\n",
       "      <td>1112.614</td>\n",
       "      <td>5.475</td>\n",
       "      <td>4.236</td>\n",
       "      <td>47.131</td>\n",
       "      <td>3.405</td>\n",
       "      <td>1.467</td>\n",
       "      <td>4.510</td>\n",
       "      <td>249.431</td>\n",
       "      <td>8408.528</td>\n",
       "      <td>5453.988</td>\n",
       "      <td>NaN</td>\n",
       "      <td>0.297</td>\n",
       "      <td>NaN</td>\n",
       "      <td>2500.000</td>\n",
       "      <td>2645.000</td>\n",
       "      <td>0.058</td>\n",
       "      <td>NaN</td>\n",
       "    </tr>\n",
       "    <tr>\n",
       "      <th>647</th>\n",
       "      <td>현대미포조선</td>\n",
       "      <td>34464.586</td>\n",
       "      <td>5.544</td>\n",
       "      <td>1.149</td>\n",
       "      <td>395.997</td>\n",
       "      <td>1.811</td>\n",
       "      <td>0.424</td>\n",
       "      <td>21.172</td>\n",
       "      <td>865.570</td>\n",
       "      <td>53716.750</td>\n",
       "      <td>86286.260</td>\n",
       "      <td>NaN</td>\n",
       "      <td>0.627</td>\n",
       "      <td>NaN</td>\n",
       "      <td>33689.000</td>\n",
       "      <td>39454.000</td>\n",
       "      <td>0.171</td>\n",
       "      <td>NaN</td>\n",
       "    </tr>\n",
       "    <tr>\n",
       "      <th>667</th>\n",
       "      <td>화천기계</td>\n",
       "      <td>1954.730</td>\n",
       "      <td>-0.135</td>\n",
       "      <td>-1.282</td>\n",
       "      <td>-25.052</td>\n",
       "      <td>-2.012</td>\n",
       "      <td>-1.559</td>\n",
       "      <td>-1.413</td>\n",
       "      <td>-113.874</td>\n",
       "      <td>6201.020</td>\n",
       "      <td>8885.138</td>\n",
       "      <td>NaN</td>\n",
       "      <td>0.348</td>\n",
       "      <td>NaN</td>\n",
       "      <td>2160.000</td>\n",
       "      <td>2170.000</td>\n",
       "      <td>0.005</td>\n",
       "      <td>NaN</td>\n",
       "    </tr>\n",
       "  </tbody>\n",
       "</table>\n",
       "</div>"
      ],
      "text/plain": [
       "     ticker   매출액(억원)  영업이익률(%)  순이익률(%)  당기순이익(억원)  ROE(%)  ROA(%)  ROIC(%)  \\\n",
       "27    HSD엔진  8029.166     0.528  -22.571  -1812.265 -32.685 -13.120    2.749   \n",
       "103    고려개발  6238.648     4.223   -4.895   -305.362 141.454  -4.903   20.462   \n",
       "126   까뮤이앤씨  1397.081     3.180    2.331     32.563   6.721   2.390    7.808   \n",
       "133   남영비비안  2074.953    -0.949   -1.103    -22.895  -1.667  -1.371   -2.101   \n",
       "203     티탑스   940.880    -7.061   -4.217    -39.673  -8.980  -4.092      NaN   \n",
       "231  롯데칠성음료 22642.120     6.463    3.054    691.439   2.961   1.531    3.109   \n",
       "371  쌍용양회공업 14302.892    18.027   12.243   1751.111  11.589   5.694    9.037   \n",
       "507     컨버즈   459.748   -19.328  -35.526   -163.331     NaN     NaN      NaN   \n",
       "560     풀무원 20306.730     1.869    0.491     99.778   6.765   0.979    1.933   \n",
       "622    한일철강  1112.614     5.475    4.236     47.131   3.405   1.467    4.510   \n",
       "647  현대미포조선 34464.586     5.544    1.149    395.997   1.811   0.424   21.172   \n",
       "667    화천기계  1954.730    -0.135   -1.282    -25.052  -2.012  -1.559   -1.413   \n",
       "\n",
       "        EPS(원)     BPS(원)     SPS(원)  PER(배)  PBR(배)  PSR(배)      price  \\\n",
       "27   -2607.575   7687.264  11552.757     NaN   0.404     NaN   2290.000   \n",
       "103  -3118.716   1988.392  63716.438     NaN   6.327     NaN  12430.000   \n",
       "126     72.117   1153.474   3094.153     NaN   0.958     NaN   1105.000   \n",
       "133    -32.324   2031.729   3021.213     NaN   0.436     NaN    885.000   \n",
       "203  -1917.146  19287.736  44614.258     NaN   0.058     NaN   1115.000   \n",
       "231   5107.448 172911.200 166829.270     NaN   8.363     NaN 145675.000   \n",
       "371    400.919   3627.562   3319.079     NaN   0.816     NaN   2960.000   \n",
       "507 -33811.426  20164.525  95172.870     NaN   0.397     NaN   4416.000   \n",
       "560   4881.663   6986.189 533111.700     NaN   2.011     NaN  14050.000   \n",
       "622    249.431   8408.528   5453.988     NaN   0.297     NaN   2500.000   \n",
       "647    865.570  53716.750  86286.260     NaN   0.627     NaN  33689.000   \n",
       "667   -113.874   6201.020   8885.138     NaN   0.348     NaN   2160.000   \n",
       "\n",
       "        price2    rtn  PER_Score  \n",
       "27    2569.000  0.122        NaN  \n",
       "103  11659.000 -0.062        NaN  \n",
       "126   1010.000 -0.086        NaN  \n",
       "133    777.000 -0.122        NaN  \n",
       "203   1575.000  0.413        NaN  \n",
       "231 132900.000 -0.088        NaN  \n",
       "371   3730.000  0.260        NaN  \n",
       "507   1750.000 -0.604        NaN  \n",
       "560  17200.000  0.224        NaN  \n",
       "622   2645.000  0.058        NaN  \n",
       "647  39454.000  0.171        NaN  \n",
       "667   2170.000  0.005        NaN  "
      ]
     },
     "execution_count": 17,
     "metadata": {},
     "output_type": "execute_result"
    }
   ],
   "source": [
    "df[df['PER(배)'].isna()]"
   ]
  },
  {
   "cell_type": "code",
   "execution_count": 18,
   "metadata": {},
   "outputs": [],
   "source": [
    "df.loc[df['PER_Score'].isna(), \"PER_Score\"] = 0\n",
    "\n",
    "# 아래와 같은 방식으로도 가능\n",
    "# df['PER_Score'] = df['PER_Score'].fillna(0) \n",
    "# df.loc[:, 'PER_Score'] = df['PER_Score'].fillna(0)"
   ]
  },
  {
   "cell_type": "markdown",
   "metadata": {},
   "source": [
    " "
   ]
  },
  {
   "cell_type": "markdown",
   "metadata": {},
   "source": [
    " "
   ]
  },
  {
   "cell_type": "markdown",
   "metadata": {},
   "source": [
    "### boolean series 의 연산 특성 사용"
   ]
  },
  {
   "cell_type": "code",
   "execution_count": 19,
   "metadata": {},
   "outputs": [],
   "source": [
    "df.loc[:, \"PER_Score1\"] = (bound1 * 1)  + (bound2 * 2) + (bound3 * 3) + (bound4 * -1) "
   ]
  },
  {
   "cell_type": "code",
   "execution_count": 20,
   "metadata": {},
   "outputs": [
    {
     "data": {
      "text/plain": [
       "0    1\n",
       "1    1\n",
       "2    2\n",
       "3    1\n",
       "4    1\n",
       "Name: PER_Score1, dtype: int32"
      ]
     },
     "execution_count": 20,
     "metadata": {},
     "output_type": "execute_result"
    }
   ],
   "source": [
    "df['PER_Score1'].head()"
   ]
  },
  {
   "cell_type": "code",
   "execution_count": 21,
   "metadata": {},
   "outputs": [
    {
     "data": {
      "text/plain": [
       " 1    378\n",
       " 2    148\n",
       "-1    120\n",
       " 3     23\n",
       " 0     12\n",
       "Name: PER_Score1, dtype: int64"
      ]
     },
     "execution_count": 21,
     "metadata": {},
     "output_type": "execute_result"
    }
   ],
   "source": [
    "df['PER_Score1'].value_counts()"
   ]
  },
  {
   "cell_type": "code",
   "execution_count": 22,
   "metadata": {},
   "outputs": [
    {
     "data": {
      "text/plain": [
       "1.000     378\n",
       "2.000     148\n",
       "-1.000    120\n",
       "3.000      23\n",
       "0.000      12\n",
       "Name: PER_Score, dtype: int64"
      ]
     },
     "execution_count": 22,
     "metadata": {},
     "output_type": "execute_result"
    }
   ],
   "source": [
    "df['PER_Score'].value_counts()"
   ]
  },
  {
   "cell_type": "markdown",
   "metadata": {},
   "source": [
    " "
   ]
  },
  {
   "cell_type": "markdown",
   "metadata": {},
   "source": [
    "### 위의 두 score series는 서로 같을까? "
   ]
  },
  {
   "cell_type": "code",
   "execution_count": 23,
   "metadata": {},
   "outputs": [
    {
     "data": {
      "text/plain": [
       "False"
      ]
     },
     "execution_count": 23,
     "metadata": {},
     "output_type": "execute_result"
    }
   ],
   "source": [
    "df['PER_Score'].equals(df['PER_Score1'])"
   ]
  },
  {
   "cell_type": "code",
   "execution_count": 24,
   "metadata": {},
   "outputs": [
    {
     "data": {
      "text/plain": [
       "dtype('float64')"
      ]
     },
     "execution_count": 24,
     "metadata": {},
     "output_type": "execute_result"
    },
    {
     "data": {
      "text/plain": [
       "dtype('int32')"
      ]
     },
     "execution_count": 24,
     "metadata": {},
     "output_type": "execute_result"
    }
   ],
   "source": [
    "df['PER_Score'].dtypes\n",
    "df['PER_Score1'].dtypes"
   ]
  },
  {
   "cell_type": "code",
   "execution_count": 25,
   "metadata": {},
   "outputs": [
    {
     "data": {
      "text/plain": [
       "True"
      ]
     },
     "execution_count": 25,
     "metadata": {},
     "output_type": "execute_result"
    }
   ],
   "source": [
    "df['PER_Score'].astype(int).equals(df['PER_Score1'])"
   ]
  },
  {
   "cell_type": "markdown",
   "metadata": {},
   "source": [
    " "
   ]
  },
  {
   "cell_type": "markdown",
   "metadata": {},
   "source": [
    " "
   ]
  },
  {
   "cell_type": "markdown",
   "metadata": {},
   "source": [
    " "
   ]
  },
  {
   "cell_type": "markdown",
   "metadata": {},
   "source": [
    "### `cut()`"
   ]
  },
  {
   "cell_type": "code",
   "execution_count": 26,
   "metadata": {},
   "outputs": [
    {
     "data": {
      "text/plain": [
       "0    (10.0, inf]\n",
       "1    (10.0, inf]\n",
       "2    (5.0, 10.0]\n",
       "3    (10.0, inf]\n",
       "4    (10.0, inf]\n",
       "Name: PER(배), dtype: category\n",
       "Categories (4, interval[float64, right]): [(-inf, 0.0] < (0.0, 5.0] < (5.0, 10.0] < (10.0, inf]]"
      ]
     },
     "execution_count": 26,
     "metadata": {},
     "output_type": "execute_result"
    }
   ],
   "source": [
    "per_cuts = pd.cut(\n",
    "    df['PER(배)'],\n",
    "    [-np.inf, 0, 5, 10, np.inf], \n",
    ")\n",
    "\n",
    "per_cuts.head()"
   ]
  },
  {
   "cell_type": "code",
   "execution_count": 27,
   "metadata": {},
   "outputs": [
    {
     "data": {
      "text/plain": [
       "Interval(10.0, inf, closed='right')"
      ]
     },
     "execution_count": 27,
     "metadata": {},
     "output_type": "execute_result"
    }
   ],
   "source": [
    "per_cuts.iloc[0]"
   ]
  },
  {
   "cell_type": "code",
   "execution_count": 28,
   "metadata": {},
   "outputs": [
    {
     "data": {
      "text/plain": [
       "(10.0, inf]    378\n",
       "(5.0, 10.0]    148\n",
       "(-inf, 0.0]    120\n",
       "(0.0, 5.0]      23\n",
       "Name: PER(배), dtype: int64"
      ]
     },
     "execution_count": 28,
     "metadata": {},
     "output_type": "execute_result"
    }
   ],
   "source": [
    "per_cuts.value_counts()"
   ]
  },
  {
   "cell_type": "code",
   "execution_count": 29,
   "metadata": {},
   "outputs": [
    {
     "data": {
      "text/plain": [
       "12"
      ]
     },
     "execution_count": 29,
     "metadata": {},
     "output_type": "execute_result"
    }
   ],
   "source": [
    "per_cuts.isna().sum()"
   ]
  },
  {
   "cell_type": "markdown",
   "metadata": {},
   "source": [
    " "
   ]
  },
  {
   "cell_type": "markdown",
   "metadata": {},
   "source": [
    "- cut()과 동시에 label 달아주기"
   ]
  },
  {
   "cell_type": "code",
   "execution_count": 30,
   "metadata": {},
   "outputs": [
    {
     "data": {
      "text/plain": [
       "0     보통주\n",
       "1    고평가주\n",
       "2    저평가주\n",
       "3     보통주\n",
       "4    고평가주\n",
       "Name: PER(배), dtype: category\n",
       "Categories (3, object): ['저평가주' < '보통주' < '고평가주']"
      ]
     },
     "execution_count": 30,
     "metadata": {},
     "output_type": "execute_result"
    }
   ],
   "source": [
    "bins = [-np.inf, 10, 20, np.inf]\n",
    "labels = ['저평가주', '보통주', '고평가주']\n",
    "per_cuts2 = pd.cut(\n",
    "    df['PER(배)'], \n",
    "    bins=bins, \n",
    "    labels=labels\n",
    ")\n",
    "per_cuts2.head()"
   ]
  },
  {
   "cell_type": "code",
   "execution_count": null,
   "metadata": {},
   "outputs": [],
   "source": [
    "# df.loc[:, 'PER_score2'] = per_cuts  # or per_cuts2\n",
    "# df['PER_score2'] = per_cuts         # or per_cuts2"
   ]
  },
  {
   "cell_type": "markdown",
   "metadata": {},
   "source": [
    " "
   ]
  },
  {
   "cell_type": "markdown",
   "metadata": {},
   "source": [
    " "
   ]
  },
  {
   "cell_type": "markdown",
   "metadata": {},
   "source": [
    " "
   ]
  },
  {
   "cell_type": "markdown",
   "metadata": {},
   "source": [
    " "
   ]
  },
  {
   "cell_type": "markdown",
   "metadata": {},
   "source": [
    "## Group내 데이터 갯수를 기준으로 grouping 하기 (SAME number of members in each  group)"
   ]
  },
  {
   "cell_type": "markdown",
   "metadata": {},
   "source": [
    "### `qcut()`"
   ]
  },
  {
   "cell_type": "code",
   "execution_count": 32,
   "metadata": {},
   "outputs": [
    {
     "data": {
      "text/plain": [
       "0    2\n",
       "1    3\n",
       "2    1\n",
       "3    3\n",
       "4    3\n",
       "Name: PER(배), dtype: category\n",
       "Categories (3, int64): [1 < 2 < 3]"
      ]
     },
     "execution_count": 32,
     "metadata": {},
     "output_type": "execute_result"
    }
   ],
   "source": [
    "pd.qcut(df['PER(배)'], 3, labels=[1,2,3]).head()"
   ]
  },
  {
   "cell_type": "code",
   "execution_count": 33,
   "metadata": {},
   "outputs": [
    {
     "data": {
      "text/html": [
       "<div>\n",
       "<style scoped>\n",
       "    .dataframe tbody tr th:only-of-type {\n",
       "        vertical-align: middle;\n",
       "    }\n",
       "\n",
       "    .dataframe tbody tr th {\n",
       "        vertical-align: top;\n",
       "    }\n",
       "\n",
       "    .dataframe thead th {\n",
       "        text-align: right;\n",
       "    }\n",
       "</style>\n",
       "<table border=\"1\" class=\"dataframe\">\n",
       "  <thead>\n",
       "    <tr style=\"text-align: right;\">\n",
       "      <th></th>\n",
       "      <th>ticker</th>\n",
       "      <th>매출액(억원)</th>\n",
       "      <th>영업이익률(%)</th>\n",
       "      <th>순이익률(%)</th>\n",
       "      <th>당기순이익(억원)</th>\n",
       "      <th>ROE(%)</th>\n",
       "      <th>ROA(%)</th>\n",
       "      <th>ROIC(%)</th>\n",
       "      <th>EPS(원)</th>\n",
       "      <th>BPS(원)</th>\n",
       "      <th>SPS(원)</th>\n",
       "      <th>PER(배)</th>\n",
       "      <th>PBR(배)</th>\n",
       "      <th>PSR(배)</th>\n",
       "      <th>price</th>\n",
       "      <th>price2</th>\n",
       "      <th>rtn</th>\n",
       "      <th>PER_Score</th>\n",
       "      <th>PER_Score1</th>\n",
       "      <th>PER_Score2</th>\n",
       "    </tr>\n",
       "  </thead>\n",
       "  <tbody>\n",
       "    <tr>\n",
       "      <th>0</th>\n",
       "      <td>AK홀딩스</td>\n",
       "      <td>29218.310</td>\n",
       "      <td>7.313</td>\n",
       "      <td>4.563</td>\n",
       "      <td>1333.223</td>\n",
       "      <td>12.193</td>\n",
       "      <td>5.091</td>\n",
       "      <td>15.515</td>\n",
       "      <td>5436.413</td>\n",
       "      <td>48112.402</td>\n",
       "      <td>220556.160</td>\n",
       "      <td>10.301</td>\n",
       "      <td>1.164</td>\n",
       "      <td>0.254</td>\n",
       "      <td>56000.000</td>\n",
       "      <td>68500.000</td>\n",
       "      <td>0.223</td>\n",
       "      <td>1.000</td>\n",
       "      <td>1</td>\n",
       "      <td>5</td>\n",
       "    </tr>\n",
       "    <tr>\n",
       "      <th>1</th>\n",
       "      <td>BGF</td>\n",
       "      <td>860.773</td>\n",
       "      <td>9.315</td>\n",
       "      <td>214.481</td>\n",
       "      <td>1846.192</td>\n",
       "      <td>21.624</td>\n",
       "      <td>10.433</td>\n",
       "      <td>8.015</td>\n",
       "      <td>3703.577</td>\n",
       "      <td>18648.623</td>\n",
       "      <td>1737.263</td>\n",
       "      <td>22.757</td>\n",
       "      <td>4.519</td>\n",
       "      <td>48.514</td>\n",
       "      <td>42140.000</td>\n",
       "      <td>15250.000</td>\n",
       "      <td>-0.638</td>\n",
       "      <td>1.000</td>\n",
       "      <td>1</td>\n",
       "      <td>8</td>\n",
       "    </tr>\n",
       "    <tr>\n",
       "      <th>2</th>\n",
       "      <td>BNK금융지주</td>\n",
       "      <td>49126.760</td>\n",
       "      <td>14.499</td>\n",
       "      <td>10.546</td>\n",
       "      <td>5181.144</td>\n",
       "      <td>7.919</td>\n",
       "      <td>0.564</td>\n",
       "      <td>NaN</td>\n",
       "      <td>1568.237</td>\n",
       "      <td>20810.660</td>\n",
       "      <td>15358.993</td>\n",
       "      <td>5.535</td>\n",
       "      <td>0.417</td>\n",
       "      <td>0.565</td>\n",
       "      <td>8680.000</td>\n",
       "      <td>9420.000</td>\n",
       "      <td>0.085</td>\n",
       "      <td>2.000</td>\n",
       "      <td>2</td>\n",
       "      <td>3</td>\n",
       "    </tr>\n",
       "    <tr>\n",
       "      <th>3</th>\n",
       "      <td>BYC</td>\n",
       "      <td>2118.576</td>\n",
       "      <td>7.625</td>\n",
       "      <td>8.281</td>\n",
       "      <td>175.433</td>\n",
       "      <td>4.543</td>\n",
       "      <td>2.463</td>\n",
       "      <td>10.748</td>\n",
       "      <td>20872.312</td>\n",
       "      <td>471887.000</td>\n",
       "      <td>252211.450</td>\n",
       "      <td>19.020</td>\n",
       "      <td>0.841</td>\n",
       "      <td>1.574</td>\n",
       "      <td>397000.000</td>\n",
       "      <td>306000.000</td>\n",
       "      <td>-0.229</td>\n",
       "      <td>1.000</td>\n",
       "      <td>1</td>\n",
       "      <td>8</td>\n",
       "    </tr>\n",
       "    <tr>\n",
       "      <th>4</th>\n",
       "      <td>CJ</td>\n",
       "      <td>239541.970</td>\n",
       "      <td>5.230</td>\n",
       "      <td>2.379</td>\n",
       "      <td>5698.234</td>\n",
       "      <td>6.080</td>\n",
       "      <td>2.253</td>\n",
       "      <td>5.158</td>\n",
       "      <td>6257.152</td>\n",
       "      <td>114276.080</td>\n",
       "      <td>672045.900</td>\n",
       "      <td>28.181</td>\n",
       "      <td>1.543</td>\n",
       "      <td>0.262</td>\n",
       "      <td>176334.000</td>\n",
       "      <td>171148.000</td>\n",
       "      <td>-0.029</td>\n",
       "      <td>1.000</td>\n",
       "      <td>1</td>\n",
       "      <td>9</td>\n",
       "    </tr>\n",
       "  </tbody>\n",
       "</table>\n",
       "</div>"
      ],
      "text/plain": [
       "    ticker    매출액(억원)  영업이익률(%)  순이익률(%)  당기순이익(억원)  ROE(%)  ROA(%)  ROIC(%)  \\\n",
       "0    AK홀딩스  29218.310     7.313    4.563   1333.223  12.193   5.091   15.515   \n",
       "1      BGF    860.773     9.315  214.481   1846.192  21.624  10.433    8.015   \n",
       "2  BNK금융지주  49126.760    14.499   10.546   5181.144   7.919   0.564      NaN   \n",
       "3      BYC   2118.576     7.625    8.281    175.433   4.543   2.463   10.748   \n",
       "4       CJ 239541.970     5.230    2.379   5698.234   6.080   2.253    5.158   \n",
       "\n",
       "     EPS(원)     BPS(원)     SPS(원)  PER(배)  PBR(배)  PSR(배)      price  \\\n",
       "0  5436.413  48112.402 220556.160  10.301   1.164   0.254  56000.000   \n",
       "1  3703.577  18648.623   1737.263  22.757   4.519  48.514  42140.000   \n",
       "2  1568.237  20810.660  15358.993   5.535   0.417   0.565   8680.000   \n",
       "3 20872.312 471887.000 252211.450  19.020   0.841   1.574 397000.000   \n",
       "4  6257.152 114276.080 672045.900  28.181   1.543   0.262 176334.000   \n",
       "\n",
       "      price2    rtn  PER_Score  PER_Score1 PER_Score2  \n",
       "0  68500.000  0.223      1.000           1          5  \n",
       "1  15250.000 -0.638      1.000           1          8  \n",
       "2   9420.000  0.085      2.000           2          3  \n",
       "3 306000.000 -0.229      1.000           1          8  \n",
       "4 171148.000 -0.029      1.000           1          9  "
      ]
     },
     "execution_count": 33,
     "metadata": {},
     "output_type": "execute_result"
    }
   ],
   "source": [
    "df.loc[:, 'PER_Score2'] = pd.qcut(df['PER(배)'], 10, labels=range(1, 11))\n",
    "df.head()"
   ]
  },
  {
   "cell_type": "code",
   "execution_count": 34,
   "metadata": {},
   "outputs": [
    {
     "data": {
      "text/plain": [
       "1     67\n",
       "2     67\n",
       "3     67\n",
       "4     67\n",
       "5     67\n",
       "7     67\n",
       "8     67\n",
       "9     67\n",
       "10    67\n",
       "6     66\n",
       "Name: PER_Score2, dtype: int64"
      ]
     },
     "execution_count": 34,
     "metadata": {},
     "output_type": "execute_result"
    }
   ],
   "source": [
    "df['PER_Score2'].value_counts()"
   ]
  },
  {
   "cell_type": "code",
   "execution_count": 35,
   "metadata": {},
   "outputs": [
    {
     "data": {
      "text/plain": [
       "True"
      ]
     },
     "execution_count": 35,
     "metadata": {},
     "output_type": "execute_result"
    }
   ],
   "source": [
    "df['PER_Score2'].hasnans"
   ]
  },
  {
   "cell_type": "code",
   "execution_count": 36,
   "metadata": {},
   "outputs": [
    {
     "data": {
      "text/plain": [
       "12"
      ]
     },
     "execution_count": 36,
     "metadata": {},
     "output_type": "execute_result"
    }
   ],
   "source": [
    "df['PER_Score2'].isna().sum()"
   ]
  },
  {
   "cell_type": "code",
   "execution_count": 37,
   "metadata": {},
   "outputs": [
    {
     "data": {
      "text/plain": [
       "CategoricalDtype(categories=range(1, 11), ordered=True)"
      ]
     },
     "execution_count": 37,
     "metadata": {},
     "output_type": "execute_result"
    }
   ],
   "source": [
    "df['PER_Score2'].dtype"
   ]
  },
  {
   "cell_type": "markdown",
   "metadata": {},
   "source": [
    "- 'category' type: A string variable consisting of only a few different values"
   ]
  },
  {
   "cell_type": "code",
   "execution_count": 38,
   "metadata": {},
   "outputs": [],
   "source": [
    "# DataFrame에서 category dtype인 columns들 추출하기\n",
    "# df.select_dtypes(include=['category']).columns"
   ]
  },
  {
   "cell_type": "code",
   "execution_count": 39,
   "metadata": {},
   "outputs": [
    {
     "data": {
      "text/plain": [
       "0    5\n",
       "1    8\n",
       "2    3\n",
       "3    8\n",
       "4    9\n",
       "Name: PER_Score2, dtype: category\n",
       "Categories (10, int64): [1 < 2 < 3 < 4 ... 7 < 8 < 9 < 10]"
      ]
     },
     "execution_count": 39,
     "metadata": {},
     "output_type": "execute_result"
    }
   ],
   "source": [
    "df['PER_Score2'].head()"
   ]
  },
  {
   "cell_type": "code",
   "execution_count": 40,
   "metadata": {},
   "outputs": [
    {
     "data": {
      "text/plain": [
       "1     67\n",
       "2     67\n",
       "3     67\n",
       "4     67\n",
       "5     67\n",
       "7     67\n",
       "8     67\n",
       "9     67\n",
       "10    67\n",
       "6     66\n",
       "Name: PER_Score2, dtype: int64"
      ]
     },
     "execution_count": 40,
     "metadata": {},
     "output_type": "execute_result"
    }
   ],
   "source": [
    "df['PER_Score2'].value_counts()"
   ]
  },
  {
   "cell_type": "code",
   "execution_count": 41,
   "metadata": {},
   "outputs": [],
   "source": [
    "df = df.dropna(subset=['PER(배)'])"
   ]
  },
  {
   "cell_type": "code",
   "execution_count": 42,
   "metadata": {},
   "outputs": [
    {
     "data": {
      "text/plain": [
       "0"
      ]
     },
     "execution_count": 42,
     "metadata": {},
     "output_type": "execute_result"
    }
   ],
   "source": [
    "df['PER_Score2'].isna().sum()"
   ]
  },
  {
   "cell_type": "markdown",
   "metadata": {},
   "source": [
    " "
   ]
  },
  {
   "cell_type": "markdown",
   "metadata": {},
   "source": [
    " "
   ]
  },
  {
   "cell_type": "markdown",
   "metadata": {},
   "source": [
    " "
   ]
  },
  {
   "cell_type": "markdown",
   "metadata": {},
   "source": [
    " "
   ]
  },
  {
   "cell_type": "markdown",
   "metadata": {},
   "source": [
    "# Split - Apply - Combine "
   ]
  },
  {
   "cell_type": "code",
   "execution_count": 43,
   "metadata": {},
   "outputs": [
    {
     "data": {
      "text/plain": [
       "(681, 16)"
      ]
     },
     "execution_count": 43,
     "metadata": {},
     "output_type": "execute_result"
    }
   ],
   "source": [
    "df = pd.read_csv(\"my_data/naver_finance/2016_12.csv\")\n",
    "df.shape"
   ]
  },
  {
   "cell_type": "code",
   "execution_count": 44,
   "metadata": {},
   "outputs": [
    {
     "data": {
      "text/plain": [
       "(609, 16)"
      ]
     },
     "execution_count": 44,
     "metadata": {},
     "output_type": "execute_result"
    }
   ],
   "source": [
    "df = df.dropna()\n",
    "df.shape"
   ]
  },
  {
   "cell_type": "code",
   "execution_count": 45,
   "metadata": {},
   "outputs": [
    {
     "data": {
      "text/html": [
       "<div>\n",
       "<style scoped>\n",
       "    .dataframe tbody tr th:only-of-type {\n",
       "        vertical-align: middle;\n",
       "    }\n",
       "\n",
       "    .dataframe tbody tr th {\n",
       "        vertical-align: top;\n",
       "    }\n",
       "\n",
       "    .dataframe thead th {\n",
       "        text-align: right;\n",
       "    }\n",
       "</style>\n",
       "<table border=\"1\" class=\"dataframe\">\n",
       "  <thead>\n",
       "    <tr style=\"text-align: right;\">\n",
       "      <th></th>\n",
       "      <th>ticker</th>\n",
       "      <th>매출액(억원)</th>\n",
       "      <th>영업이익률(%)</th>\n",
       "      <th>순이익률(%)</th>\n",
       "      <th>당기순이익(억원)</th>\n",
       "      <th>ROE(%)</th>\n",
       "      <th>ROA(%)</th>\n",
       "      <th>ROIC(%)</th>\n",
       "      <th>EPS(원)</th>\n",
       "      <th>BPS(원)</th>\n",
       "      <th>SPS(원)</th>\n",
       "      <th>PER(배)</th>\n",
       "      <th>PBR(배)</th>\n",
       "      <th>PSR(배)</th>\n",
       "      <th>price</th>\n",
       "      <th>price2</th>\n",
       "    </tr>\n",
       "  </thead>\n",
       "  <tbody>\n",
       "    <tr>\n",
       "      <th>0</th>\n",
       "      <td>AK홀딩스</td>\n",
       "      <td>29218.310</td>\n",
       "      <td>7.313</td>\n",
       "      <td>4.563</td>\n",
       "      <td>1333.223</td>\n",
       "      <td>12.193</td>\n",
       "      <td>5.091</td>\n",
       "      <td>15.515</td>\n",
       "      <td>5436.413</td>\n",
       "      <td>48112.402</td>\n",
       "      <td>220556.160</td>\n",
       "      <td>10.301</td>\n",
       "      <td>1.164</td>\n",
       "      <td>0.254</td>\n",
       "      <td>56000.000</td>\n",
       "      <td>68500.000</td>\n",
       "    </tr>\n",
       "    <tr>\n",
       "      <th>1</th>\n",
       "      <td>BGF</td>\n",
       "      <td>860.773</td>\n",
       "      <td>9.315</td>\n",
       "      <td>214.481</td>\n",
       "      <td>1846.192</td>\n",
       "      <td>21.624</td>\n",
       "      <td>10.433</td>\n",
       "      <td>8.015</td>\n",
       "      <td>3703.577</td>\n",
       "      <td>18648.623</td>\n",
       "      <td>1737.263</td>\n",
       "      <td>22.757</td>\n",
       "      <td>4.519</td>\n",
       "      <td>48.514</td>\n",
       "      <td>42140.000</td>\n",
       "      <td>15250.000</td>\n",
       "    </tr>\n",
       "    <tr>\n",
       "      <th>3</th>\n",
       "      <td>BYC</td>\n",
       "      <td>2118.576</td>\n",
       "      <td>7.625</td>\n",
       "      <td>8.281</td>\n",
       "      <td>175.433</td>\n",
       "      <td>4.543</td>\n",
       "      <td>2.463</td>\n",
       "      <td>10.748</td>\n",
       "      <td>20872.312</td>\n",
       "      <td>471887.000</td>\n",
       "      <td>252211.450</td>\n",
       "      <td>19.020</td>\n",
       "      <td>0.841</td>\n",
       "      <td>1.574</td>\n",
       "      <td>397000.000</td>\n",
       "      <td>306000.000</td>\n",
       "    </tr>\n",
       "    <tr>\n",
       "      <th>4</th>\n",
       "      <td>CJ</td>\n",
       "      <td>239541.970</td>\n",
       "      <td>5.230</td>\n",
       "      <td>2.379</td>\n",
       "      <td>5698.234</td>\n",
       "      <td>6.080</td>\n",
       "      <td>2.253</td>\n",
       "      <td>5.158</td>\n",
       "      <td>6257.152</td>\n",
       "      <td>114276.080</td>\n",
       "      <td>672045.900</td>\n",
       "      <td>28.181</td>\n",
       "      <td>1.543</td>\n",
       "      <td>0.262</td>\n",
       "      <td>176334.000</td>\n",
       "      <td>171148.000</td>\n",
       "    </tr>\n",
       "    <tr>\n",
       "      <th>5</th>\n",
       "      <td>CJ CGV</td>\n",
       "      <td>14322.454</td>\n",
       "      <td>4.911</td>\n",
       "      <td>0.393</td>\n",
       "      <td>56.217</td>\n",
       "      <td>3.105</td>\n",
       "      <td>0.284</td>\n",
       "      <td>2.919</td>\n",
       "      <td>583.051</td>\n",
       "      <td>17654.154</td>\n",
       "      <td>67682.260</td>\n",
       "      <td>120.744</td>\n",
       "      <td>3.988</td>\n",
       "      <td>1.040</td>\n",
       "      <td>70400.000</td>\n",
       "      <td>74200.000</td>\n",
       "    </tr>\n",
       "  </tbody>\n",
       "</table>\n",
       "</div>"
      ],
      "text/plain": [
       "   ticker    매출액(억원)  영업이익률(%)  순이익률(%)  당기순이익(억원)  ROE(%)  ROA(%)  ROIC(%)  \\\n",
       "0   AK홀딩스  29218.310     7.313    4.563   1333.223  12.193   5.091   15.515   \n",
       "1     BGF    860.773     9.315  214.481   1846.192  21.624  10.433    8.015   \n",
       "3     BYC   2118.576     7.625    8.281    175.433   4.543   2.463   10.748   \n",
       "4      CJ 239541.970     5.230    2.379   5698.234   6.080   2.253    5.158   \n",
       "5  CJ CGV  14322.454     4.911    0.393     56.217   3.105   0.284    2.919   \n",
       "\n",
       "     EPS(원)     BPS(원)     SPS(원)  PER(배)  PBR(배)  PSR(배)      price  \\\n",
       "0  5436.413  48112.402 220556.160  10.301   1.164   0.254  56000.000   \n",
       "1  3703.577  18648.623   1737.263  22.757   4.519  48.514  42140.000   \n",
       "3 20872.312 471887.000 252211.450  19.020   0.841   1.574 397000.000   \n",
       "4  6257.152 114276.080 672045.900  28.181   1.543   0.262 176334.000   \n",
       "5   583.051  17654.154  67682.260 120.744   3.988   1.040  70400.000   \n",
       "\n",
       "      price2  \n",
       "0  68500.000  \n",
       "1  15250.000  \n",
       "3 306000.000  \n",
       "4 171148.000  \n",
       "5  74200.000  "
      ]
     },
     "execution_count": 45,
     "metadata": {},
     "output_type": "execute_result"
    }
   ],
   "source": [
    "g_df = df.copy()\n",
    "g_df.head()"
   ]
  },
  {
   "cell_type": "markdown",
   "metadata": {},
   "source": [
    "## Group score 생성"
   ]
  },
  {
   "cell_type": "code",
   "execution_count": 46,
   "metadata": {},
   "outputs": [],
   "source": [
    "g_df['rtn'] = g_df['price2'] / g_df['price'] - 1"
   ]
  },
  {
   "cell_type": "code",
   "execution_count": 47,
   "metadata": {},
   "outputs": [],
   "source": [
    "g_df.loc[:, 'PER_score'] = pd.qcut(g_df['PER(배)'], 10, labels=range(1, 11))\n",
    "g_df.loc[:, 'PBR_score'] = pd.qcut(g_df['PBR(배)'], 10, labels=range(1, 11))"
   ]
  },
  {
   "cell_type": "code",
   "execution_count": 48,
   "metadata": {},
   "outputs": [],
   "source": [
    "g_df.set_index('ticker', inplace=True)"
   ]
  },
  {
   "cell_type": "code",
   "execution_count": 49,
   "metadata": {},
   "outputs": [
    {
     "data": {
      "text/html": [
       "<div>\n",
       "<style scoped>\n",
       "    .dataframe tbody tr th:only-of-type {\n",
       "        vertical-align: middle;\n",
       "    }\n",
       "\n",
       "    .dataframe tbody tr th {\n",
       "        vertical-align: top;\n",
       "    }\n",
       "\n",
       "    .dataframe thead th {\n",
       "        text-align: right;\n",
       "    }\n",
       "</style>\n",
       "<table border=\"1\" class=\"dataframe\">\n",
       "  <thead>\n",
       "    <tr style=\"text-align: right;\">\n",
       "      <th></th>\n",
       "      <th>매출액(억원)</th>\n",
       "      <th>영업이익률(%)</th>\n",
       "      <th>순이익률(%)</th>\n",
       "      <th>당기순이익(억원)</th>\n",
       "      <th>ROE(%)</th>\n",
       "      <th>ROA(%)</th>\n",
       "      <th>ROIC(%)</th>\n",
       "      <th>EPS(원)</th>\n",
       "      <th>BPS(원)</th>\n",
       "      <th>SPS(원)</th>\n",
       "      <th>PER(배)</th>\n",
       "      <th>PBR(배)</th>\n",
       "      <th>PSR(배)</th>\n",
       "      <th>price</th>\n",
       "      <th>price2</th>\n",
       "      <th>rtn</th>\n",
       "      <th>PER_score</th>\n",
       "      <th>PBR_score</th>\n",
       "    </tr>\n",
       "    <tr>\n",
       "      <th>ticker</th>\n",
       "      <th></th>\n",
       "      <th></th>\n",
       "      <th></th>\n",
       "      <th></th>\n",
       "      <th></th>\n",
       "      <th></th>\n",
       "      <th></th>\n",
       "      <th></th>\n",
       "      <th></th>\n",
       "      <th></th>\n",
       "      <th></th>\n",
       "      <th></th>\n",
       "      <th></th>\n",
       "      <th></th>\n",
       "      <th></th>\n",
       "      <th></th>\n",
       "      <th></th>\n",
       "      <th></th>\n",
       "    </tr>\n",
       "  </thead>\n",
       "  <tbody>\n",
       "    <tr>\n",
       "      <th>AK홀딩스</th>\n",
       "      <td>29218.310</td>\n",
       "      <td>7.313</td>\n",
       "      <td>4.563</td>\n",
       "      <td>1333.223</td>\n",
       "      <td>12.193</td>\n",
       "      <td>5.091</td>\n",
       "      <td>15.515</td>\n",
       "      <td>5436.413</td>\n",
       "      <td>48112.402</td>\n",
       "      <td>220556.160</td>\n",
       "      <td>10.301</td>\n",
       "      <td>1.164</td>\n",
       "      <td>0.254</td>\n",
       "      <td>56000.000</td>\n",
       "      <td>68500.000</td>\n",
       "      <td>0.223</td>\n",
       "      <td>5</td>\n",
       "      <td>7</td>\n",
       "    </tr>\n",
       "    <tr>\n",
       "      <th>BGF</th>\n",
       "      <td>860.773</td>\n",
       "      <td>9.315</td>\n",
       "      <td>214.481</td>\n",
       "      <td>1846.192</td>\n",
       "      <td>21.624</td>\n",
       "      <td>10.433</td>\n",
       "      <td>8.015</td>\n",
       "      <td>3703.577</td>\n",
       "      <td>18648.623</td>\n",
       "      <td>1737.263</td>\n",
       "      <td>22.757</td>\n",
       "      <td>4.519</td>\n",
       "      <td>48.514</td>\n",
       "      <td>42140.000</td>\n",
       "      <td>15250.000</td>\n",
       "      <td>-0.638</td>\n",
       "      <td>8</td>\n",
       "      <td>10</td>\n",
       "    </tr>\n",
       "    <tr>\n",
       "      <th>BYC</th>\n",
       "      <td>2118.576</td>\n",
       "      <td>7.625</td>\n",
       "      <td>8.281</td>\n",
       "      <td>175.433</td>\n",
       "      <td>4.543</td>\n",
       "      <td>2.463</td>\n",
       "      <td>10.748</td>\n",
       "      <td>20872.312</td>\n",
       "      <td>471887.000</td>\n",
       "      <td>252211.450</td>\n",
       "      <td>19.020</td>\n",
       "      <td>0.841</td>\n",
       "      <td>1.574</td>\n",
       "      <td>397000.000</td>\n",
       "      <td>306000.000</td>\n",
       "      <td>-0.229</td>\n",
       "      <td>8</td>\n",
       "      <td>5</td>\n",
       "    </tr>\n",
       "    <tr>\n",
       "      <th>CJ</th>\n",
       "      <td>239541.970</td>\n",
       "      <td>5.230</td>\n",
       "      <td>2.379</td>\n",
       "      <td>5698.234</td>\n",
       "      <td>6.080</td>\n",
       "      <td>2.253</td>\n",
       "      <td>5.158</td>\n",
       "      <td>6257.152</td>\n",
       "      <td>114276.080</td>\n",
       "      <td>672045.900</td>\n",
       "      <td>28.181</td>\n",
       "      <td>1.543</td>\n",
       "      <td>0.262</td>\n",
       "      <td>176334.000</td>\n",
       "      <td>171148.000</td>\n",
       "      <td>-0.029</td>\n",
       "      <td>9</td>\n",
       "      <td>8</td>\n",
       "    </tr>\n",
       "    <tr>\n",
       "      <th>CJ CGV</th>\n",
       "      <td>14322.454</td>\n",
       "      <td>4.911</td>\n",
       "      <td>0.393</td>\n",
       "      <td>56.217</td>\n",
       "      <td>3.105</td>\n",
       "      <td>0.284</td>\n",
       "      <td>2.919</td>\n",
       "      <td>583.051</td>\n",
       "      <td>17654.154</td>\n",
       "      <td>67682.260</td>\n",
       "      <td>120.744</td>\n",
       "      <td>3.988</td>\n",
       "      <td>1.040</td>\n",
       "      <td>70400.000</td>\n",
       "      <td>74200.000</td>\n",
       "      <td>0.054</td>\n",
       "      <td>10</td>\n",
       "      <td>10</td>\n",
       "    </tr>\n",
       "  </tbody>\n",
       "</table>\n",
       "</div>"
      ],
      "text/plain": [
       "          매출액(억원)  영업이익률(%)  순이익률(%)  당기순이익(억원)  ROE(%)  ROA(%)  ROIC(%)  \\\n",
       "ticker                                                                     \n",
       "AK홀딩스   29218.310     7.313    4.563   1333.223  12.193   5.091   15.515   \n",
       "BGF       860.773     9.315  214.481   1846.192  21.624  10.433    8.015   \n",
       "BYC      2118.576     7.625    8.281    175.433   4.543   2.463   10.748   \n",
       "CJ     239541.970     5.230    2.379   5698.234   6.080   2.253    5.158   \n",
       "CJ CGV  14322.454     4.911    0.393     56.217   3.105   0.284    2.919   \n",
       "\n",
       "          EPS(원)     BPS(원)     SPS(원)  PER(배)  PBR(배)  PSR(배)      price  \\\n",
       "ticker                                                                      \n",
       "AK홀딩스   5436.413  48112.402 220556.160  10.301   1.164   0.254  56000.000   \n",
       "BGF     3703.577  18648.623   1737.263  22.757   4.519  48.514  42140.000   \n",
       "BYC    20872.312 471887.000 252211.450  19.020   0.841   1.574 397000.000   \n",
       "CJ      6257.152 114276.080 672045.900  28.181   1.543   0.262 176334.000   \n",
       "CJ CGV   583.051  17654.154  67682.260 120.744   3.988   1.040  70400.000   \n",
       "\n",
       "           price2    rtn PER_score PBR_score  \n",
       "ticker                                        \n",
       "AK홀딩스   68500.000  0.223         5         7  \n",
       "BGF     15250.000 -0.638         8        10  \n",
       "BYC    306000.000 -0.229         8         5  \n",
       "CJ     171148.000 -0.029         9         8  \n",
       "CJ CGV  74200.000  0.054        10        10  "
      ]
     },
     "execution_count": 49,
     "metadata": {},
     "output_type": "execute_result"
    }
   ],
   "source": [
    "g_df.head()"
   ]
  },
  {
   "cell_type": "code",
   "execution_count": 55,
   "metadata": {},
   "outputs": [
    {
     "data": {
      "text/plain": [
       "float64     16\n",
       "category     2\n",
       "dtype: int64"
      ]
     },
     "execution_count": 55,
     "metadata": {},
     "output_type": "execute_result"
    }
   ],
   "source": [
    "g_df.dtypes.value_counts()"
   ]
  },
  {
   "cell_type": "markdown",
   "metadata": {},
   "source": [
    "## groupby() & aggregation"
   ]
  },
  {
   "cell_type": "markdown",
   "metadata": {},
   "source": [
    "- `groupby()`\n",
    "    - 실제로 grouping까지는 하지 않고, grouping이 가능한지 validation만 진행(preparation)\n",
    "- Aggregation\n",
    "    - 2가지 요소로 구성\n",
    "        - aggregating columns\n",
    "        - aggregating functions\n",
    "            - e.g. `sum, min, max, mean, count, variance, std` etc"
   ]
  },
  {
   "cell_type": "markdown",
   "metadata": {},
   "source": [
    "- 결국, 3가지 요소만 충족시키면 됨!\n",
    "    - Grouping columns (cateogorial data type)\n",
    "    - Aggregating columns\n",
    "    - Aggregating functions"
   ]
  },
  {
   "cell_type": "markdown",
   "metadata": {},
   "source": [
    "### `groupby` object 살펴보기"
   ]
  },
  {
   "cell_type": "code",
   "execution_count": 56,
   "metadata": {},
   "outputs": [
    {
     "data": {
      "text/plain": [
       "<pandas.core.groupby.generic.DataFrameGroupBy object at 0x0000014D9BE77D00>"
      ]
     },
     "execution_count": 56,
     "metadata": {},
     "output_type": "execute_result"
    }
   ],
   "source": [
    "g_df.groupby('PER_score')"
   ]
  },
  {
   "cell_type": "code",
   "execution_count": 57,
   "metadata": {},
   "outputs": [
    {
     "data": {
      "text/plain": [
       "<pandas.core.groupby.generic.DataFrameGroupBy object at 0x0000014D9BE77EB0>"
      ]
     },
     "execution_count": 57,
     "metadata": {},
     "output_type": "execute_result"
    }
   ],
   "source": [
    "g_df_obj = g_df.groupby([\"PBR_score\", \"PER_score\"])\n",
    "g_df_obj"
   ]
  },
  {
   "cell_type": "code",
   "execution_count": 58,
   "metadata": {},
   "outputs": [
    {
     "data": {
      "text/plain": [
       "pandas.core.groupby.generic.DataFrameGroupBy"
      ]
     },
     "execution_count": 58,
     "metadata": {},
     "output_type": "execute_result"
    }
   ],
   "source": [
    "type(g_df_obj)"
   ]
  },
  {
   "cell_type": "code",
   "execution_count": 59,
   "metadata": {},
   "outputs": [
    {
     "data": {
      "text/plain": [
       "96"
      ]
     },
     "execution_count": 59,
     "metadata": {},
     "output_type": "execute_result"
    }
   ],
   "source": [
    "g_df_obj.ngroups"
   ]
  },
  {
   "cell_type": "code",
   "execution_count": 60,
   "metadata": {},
   "outputs": [
    {
     "data": {
      "text/plain": [
       "10"
      ]
     },
     "execution_count": 60,
     "metadata": {},
     "output_type": "execute_result"
    },
    {
     "data": {
      "text/plain": [
       "10"
      ]
     },
     "execution_count": 60,
     "metadata": {},
     "output_type": "execute_result"
    }
   ],
   "source": [
    "g_df['PBR_score'].nunique()\n",
    "g_df['PER_score'].nunique()"
   ]
  },
  {
   "cell_type": "markdown",
   "metadata": {},
   "source": [
    "- \"ngroups와 (g_df['PBR_score'].nunique() x g_df['PER_score'].nunique())가 차이가 나는 이유\"에 대해서 생각해보기"
   ]
  },
  {
   "cell_type": "code",
   "execution_count": 61,
   "metadata": {},
   "outputs": [
    {
     "data": {
      "text/plain": [
       "pandas.core.series.Series"
      ]
     },
     "execution_count": 61,
     "metadata": {},
     "output_type": "execute_result"
    }
   ],
   "source": [
    "type(g_df_obj.size())"
   ]
  },
  {
   "cell_type": "code",
   "execution_count": 62,
   "metadata": {},
   "outputs": [
    {
     "data": {
      "text/plain": [
       "PBR_score  PER_score\n",
       "1          1             5\n",
       "           2            11\n",
       "           3            11\n",
       "           4            11\n",
       "           5             7\n",
       "dtype: int64"
      ]
     },
     "execution_count": 62,
     "metadata": {},
     "output_type": "execute_result"
    }
   ],
   "source": [
    "g_df_obj.size().head()"
   ]
  },
  {
   "cell_type": "code",
   "execution_count": 63,
   "metadata": {},
   "outputs": [
    {
     "data": {
      "text/plain": [
       "PER_score\n",
       "1      5\n",
       "2     11\n",
       "3     11\n",
       "4     11\n",
       "5      7\n",
       "6      2\n",
       "7      4\n",
       "8      0\n",
       "9      3\n",
       "10     7\n",
       "dtype: int64"
      ]
     },
     "execution_count": 63,
     "metadata": {},
     "output_type": "execute_result"
    },
    {
     "data": {
      "text/plain": [
       "5"
      ]
     },
     "execution_count": 63,
     "metadata": {},
     "output_type": "execute_result"
    }
   ],
   "source": [
    "# Multi-level index를 가진 Series indexing하는 법 \n",
    "g_df_obj.size().loc[1]\n",
    "g_df_obj.size().loc[(1, 1)]"
   ]
  },
  {
   "cell_type": "code",
   "execution_count": 64,
   "metadata": {},
   "outputs": [
    {
     "data": {
      "text/html": [
       "<div>\n",
       "<style scoped>\n",
       "    .dataframe tbody tr th:only-of-type {\n",
       "        vertical-align: middle;\n",
       "    }\n",
       "\n",
       "    .dataframe tbody tr th {\n",
       "        vertical-align: top;\n",
       "    }\n",
       "\n",
       "    .dataframe thead th {\n",
       "        text-align: right;\n",
       "    }\n",
       "</style>\n",
       "<table border=\"1\" class=\"dataframe\">\n",
       "  <thead>\n",
       "    <tr style=\"text-align: right;\">\n",
       "      <th></th>\n",
       "      <th></th>\n",
       "      <th>0</th>\n",
       "    </tr>\n",
       "    <tr>\n",
       "      <th>PBR_score</th>\n",
       "      <th>PER_score</th>\n",
       "      <th></th>\n",
       "    </tr>\n",
       "  </thead>\n",
       "  <tbody>\n",
       "    <tr>\n",
       "      <th rowspan=\"5\" valign=\"top\">1</th>\n",
       "      <th>1</th>\n",
       "      <td>5</td>\n",
       "    </tr>\n",
       "    <tr>\n",
       "      <th>2</th>\n",
       "      <td>11</td>\n",
       "    </tr>\n",
       "    <tr>\n",
       "      <th>3</th>\n",
       "      <td>11</td>\n",
       "    </tr>\n",
       "    <tr>\n",
       "      <th>4</th>\n",
       "      <td>11</td>\n",
       "    </tr>\n",
       "    <tr>\n",
       "      <th>5</th>\n",
       "      <td>7</td>\n",
       "    </tr>\n",
       "  </tbody>\n",
       "</table>\n",
       "</div>"
      ],
      "text/plain": [
       "                      0\n",
       "PBR_score PER_score    \n",
       "1         1           5\n",
       "          2          11\n",
       "          3          11\n",
       "          4          11\n",
       "          5           7"
      ]
     },
     "execution_count": 64,
     "metadata": {},
     "output_type": "execute_result"
    }
   ],
   "source": [
    "# Series -> DataFrame으로 변환\n",
    "g_df_obj.size().to_frame().head()"
   ]
  },
  {
   "cell_type": "code",
   "execution_count": 65,
   "metadata": {},
   "outputs": [
    {
     "data": {
      "text/plain": [
       "pandas.io.formats.printing.PrettyDict"
      ]
     },
     "execution_count": 65,
     "metadata": {},
     "output_type": "execute_result"
    },
    {
     "data": {
      "text/plain": [
       "dict_keys([(1, 1), (1, 2), (1, 3), (1, 4), (1, 5), (1, 6), (1, 7), (1, 9), (1, 10), (2, 1), (2, 2), (2, 3), (2, 4), (2, 5), (2, 6), (2, 7), (2, 8), (2, 9), (2, 10), (3, 2), (3, 3), (3, 4), (3, 5), (3, 6), (3, 7), (3, 8), (3, 9), (3, 10), (4, 1), (4, 2), (4, 3), (4, 4), (4, 5), (4, 6), (4, 7), (4, 8), (4, 9), (4, 10), (5, 1), (5, 2), (5, 3), (5, 4), (5, 5), (5, 6), (5, 7), (5, 8), (5, 9), (5, 10), (6, 1), (6, 2), (6, 3), (6, 4), (6, 5), (6, 6), (6, 7), (6, 8), (6, 9), (6, 10), (7, 1), (7, 2), (7, 3), (7, 4), (7, 5), (7, 6), (7, 7), (7, 8), (7, 9), (7, 10), (8, 1), (8, 2), (8, 3), (8, 4), (8, 5), (8, 6), (8, 7), (8, 8), (8, 9), (8, 10), (9, 1), (9, 2), (9, 4), (9, 5), (9, 6), (9, 7), (9, 8), (9, 9), (9, 10), (10, 1), (10, 2), (10, 4), (10, 5), (10, 6), (10, 7), (10, 8), (10, 9), (10, 10)])"
      ]
     },
     "execution_count": 65,
     "metadata": {},
     "output_type": "execute_result"
    },
    {
     "data": {
      "text/plain": [
       "dict_values([Index(['E1', 'S&T중공업', '디아이동일', '한국수출포장공업', '휴스틸'], dtype='object', name='ticker'), Index(['LS네트웍스', 'STX', 'STX중공업', '두산건설', '삼부토건', '서연', '전방', '한국가스공사',\n",
       "       '한국전자홀딩스', '한진중공업', '한진중공업홀딩스'],\n",
       "      dtype='object', name='ticker'), Index(['KISCO홀딩스', '세아홀딩스', '신대양제지', '아세아', '아세아시멘트', '예스코홀딩스', '지엠비코리아',\n",
       "       '지역난방공사', '케이비아이동국실업', '한국전력공사', '한국프랜지공업'],\n",
       "      dtype='object', name='ticker'), Index(['계룡건설산업', '대한화섬', '아세아제지', '인지컨트롤스', '평화홀딩스', '한국공항', '한국제지', '한국철강',\n",
       "       '한일홀딩스', '한진', '현대제철'],\n",
       "      dtype='object', name='ticker'), Index(['CS홀딩스', '대성홀딩스', '대한제분', '삼성공조', '삼천리', '성창기업지주', '하이스틸'], dtype='object', name='ticker'), Index(['경동인베스트', '유성기업'], dtype='object', name='ticker'), Index(['서울도시가스', '선창산업', '일신방직', '화천기공'], dtype='object', name='ticker'), Index(['가온전선', '롯데쇼핑', '삼아알미늄'], dtype='object', name='ticker'), Index(['KEC', 'S&T홀딩스', '무림페이퍼', '영흥철강', '유니온', '태광산업', '혜인'], dtype='object', name='ticker'), Index(['GS건설', '대한방직', '무림P&P', '삼성중공업', '신원', '한솔홀딩스'], dtype='object', name='ticker'), Index(['금호전기', '신송홀딩스'], dtype='object', name='ticker'), Index(['TCC스틸', '강남제비스코', '넥센', '대한제강', '서연이화', '우신시스템', '원림', '풍산홀딩스',\n",
       "       '한국석유공업', '화성산업'],\n",
       "      dtype='object', name='ticker'), Index(['SIMPAC', '롯데하이마트', '문배철강', '세방', '세이브존I&C', '신라교역', '신세계', '신영와코루',\n",
       "       '현대비앤지스틸'],\n",
       "      dtype='object', name='ticker'), Index(['KPX홀딩스', '경인전자', '대창', '대한제당', '세아베스틸', '세아제강지주', '하이트론씨스템즈',\n",
       "       '하이트진로홀딩스'],\n",
       "      dtype='object', name='ticker'), Index(['디와이', '모토닉', '성신양회', '세종공업', '에스제이엠홀딩스', '인터지스', '케이씨티시'], dtype='object', name='ticker'), Index(['고려제강', '동국제강', '삼영전자공업', '포스코', '한국조선해양'], dtype='object', name='ticker'), Index(['노루홀딩스', '부국철강', '일성건설', '조선내화', '한국종합기술'], dtype='object', name='ticker'), Index(['SBS미디어홀딩스', 'WISCOM', '남성', '코오롱글로벌', '코오롱머티리얼'], dtype='object', name='ticker'), Index(['샘표', '우성사료', '일성신약', '태영건설'], dtype='object', name='ticker'), Index(['삼영화학공업', '신한', '웅진', '한국주강'], dtype='object', name='ticker'), Index(['DRB동일', '금강공업', '기아자동차', '농심홀딩스', '대창단조', '동방', '미창석유공업', '삼양통상',\n",
       "       '삼호개발', '에스제이엠', '인팩', '조일알미늄', '화승알앤에이', '화신', '황금에스티'],\n",
       "      dtype='object', name='ticker'), Index(['KPX케미칼', 'OCI', '대원강업', '부산도시가스', '세방전지', '세아특수강', '유니드', '조광페인트',\n",
       "       '현대백화점', '현대자동차'],\n",
       "      dtype='object', name='ticker'), Index(['LS', '삼화왕관', '영풍', '일정실업', '진양홀딩스', '케이티'], dtype='object', name='ticker'), Index(['LF', '경방', '대성에너지', '영풍제지', '이마트', '제일연마', '한국내화'], dtype='object', name='ticker'), Index(['노루페인트', '동방아그로', '동일산업', '사조대림', '신도리코', '태경화학', '현대위아'], dtype='object', name='ticker'), Index(['경농', '케이씨씨', '텔코웨어', '한라'], dtype='object', name='ticker'), Index(['백광산업', '삼양홀딩스', '현대종합상사'], dtype='object', name='ticker'), Index(['S&TC', '광전자', '엔에이치엔', '이건산업', '일진전기'], dtype='object', name='ticker'), Index(['SK네트웍스', '롯데정밀화학', '성안', '유수홀딩스', '한성기업'], dtype='object', name='ticker'), Index(['대동공업', '동부제철', '성보화학', '코스모화학', '태림포장', '한화갤러리아타임월드'], dtype='object', name='ticker'), Index(['GS', 'SK가스', '새론오토모티브', '에스엘', '한화', '한화솔루션'], dtype='object', name='ticker'), Index(['SK이노베이션', '광주신세계', '대영포장', '진도', '한라홀딩스', '현대건설'], dtype='object', name='ticker'), Index(['LG', '동아지질', '삼원강재', '영원무역홀딩스', '현대에이치씨엔'], dtype='object', name='ticker'), Index(['KG케미칼', 'KSS해운', 'KTcs', 'KTis', '국도화학', '대림산업', '대상홀딩스', '대한해운',\n",
       "       '동양고속', '조광피혁'],\n",
       "      dtype='object', name='ticker'), Index(['남양유업', '대덕전자', '사조씨푸드', '삼화페인트공업', '이구산업', '인천도시가스', '한국카본'], dtype='object', name='ticker'), Index(['SK렌터카', '대웅', '롯데지주', '이수화학'], dtype='object', name='ticker'), Index(['LG헬로비전', '그린케미칼', '동양', '삼성SDI', '신세계I&C', '휴비스'], dtype='object', name='ticker'), Index(['LG전자', '대림통상', '도화엔지니어링', '삼일제약', '신화실업', '태경산업'], dtype='object', name='ticker'), Index(['대유플러스', '두산중공업', '세원셀론텍', '씨에스윈드', '웰바이오텍', '코리아써키트', '티비에이치글로벌'], dtype='object', name='ticker'), Index(['DB', '동부건설', '한진칼', '휠라홀딩스', '흥아해운'], dtype='object', name='ticker'), Index(['MH에탄올', '국동', '포스코강판', '한국특수형강'], dtype='object', name='ticker'), Index(['극동유화', '다스코', '다우기술', '동성코퍼레이션', '동일고무벨트', '동화약품', '디씨엠', '부산산업',\n",
       "       '상신브레이크', '엘브이엠씨', '지투알', '풍산', '현대모비스'],\n",
       "      dtype='object', name='ticker'), Index(['GS글로벌', '디티알오토모티브', '종근당홀딩스', '콤텍시스템', '태양금속공업', '한농화성', '한미글로벌'], dtype='object', name='ticker'), Index(['LG디스플레이', '두산', '사조산업', '아이마켓코리아', '조흥', '종근당바이오'], dtype='object', name='ticker'), Index(['광동제약', '대림비앤코', '롯데푸드', '아시아나항공', '퍼시스', '한섬', '한솔홈데코', '현대그린푸드'], dtype='object', name='ticker'), Index(['BYC', 'LG상사', '태원물산', '팬오션'], dtype='object', name='ticker'), Index(['SKC', '두산인프라코어', '삼익악기', '선도전기', '이수페타시스'], dtype='object', name='ticker'), Index(['삼성전기', '화인베스틸'], dtype='object', name='ticker'), Index(['덕양산업', '세기상사', '씨아이테크', '우진', '일진홀딩스', '카프로'], dtype='object', name='ticker'), Index(['대성산업', '대우건설', '엔케이', '티에이치엔', '페이퍼코리아'], dtype='object', name='ticker'), Index(['HDC현대EP', '남선알미늄', '동아쏘시오홀딩스', '삼호', '엔피씨', '우진플라임', '조선선재',\n",
       "       '한화에어로스페이스'],\n",
       "      dtype='object', name='ticker'), Index(['NI스틸', '넥센타이어', '동성화학', '미원상사', '비상교육'], dtype='object', name='ticker'), Index(['LG유플러스', 'SK텔레콤', '계양전기', '금호산업', '농심', '사조오양', '삼영무역', '영보화학'], dtype='object', name='ticker'), Index(['DSR제강', 'LG하우시스', 'LS산전', '대상', '디피씨', '모나미', '삼양사', '영원무역', '코오롱인더',\n",
       "       '한솔로지스틱스'],\n",
       "      dtype='object', name='ticker'), Index(['서원', '율촌화학', '필룩스', '환인제약'], dtype='object', name='ticker'), Index(['S&T모티브', 'SK', '대교', '빙그레', '삼광글라스', '신세계인터내셔날', '자화전자'], dtype='object', name='ticker'), Index(['KC그린홀딩스', '경인양행', '깨끗한나라', '대원전선', '한세엠케이'], dtype='object', name='ticker'), Index(['유니퀘스트', '현대로템'], dtype='object', name='ticker'), Index(['SG세계물산', 'SG충방', 'YG PLUS', '갤럭시아에스엠', '금호타이어', '넥스트사이언스', '엔케이물산',\n",
       "       '유엔젤', '한독'],\n",
       "      dtype='object', name='ticker'), Index(['대한항공', '웅진에너지', '진양폴리우레탄', '청호컴넷', '현대상선'], dtype='object', name='ticker'), Index(['대한유화', '대현', '롯데케미칼', '선진', '한창제지'], dtype='object', name='ticker'), Index(['F&F', '영화금속', '한국타이어앤테크놀로지'], dtype='object', name='ticker'), Index(['AK홀딩스', 'HDC', 'SK하이닉스', '동남합성', '무학', '송원산업'], dtype='object', name='ticker'), Index(['DSR', 'NICE', '벽산', '한국단자공업'], dtype='object', name='ticker'), Index(['락앤락', '에이프로젠 KIC', '웅진씽크빅', '포스코케미칼', '한신기계공업'], dtype='object', name='ticker'), Index(['SK디스커버리', '삼성출판사', '쌍용자동차', '유니온머티리얼', '일진다이아', '코스맥스비티아이'], dtype='object', name='ticker'), Index(['동원수산', '디아이씨', '수산중공업', '아남전자', '윌비스', '코오롱', '평화산업', '포스코인터내셔널',\n",
       "       '하이트진로', '한솔피엔에스'],\n",
       "      dtype='object', name='ticker'), Index(['KC코트렐', 'LG이노텍', '국제약품', '디아이', '마니커', '삼성물산', '신흥', '아이에이치큐'], dtype='object', name='ticker'), Index(['대유에이텍', '동성제약', '범양건영', '보해양조', '신풍제약', '쌍방울'], dtype='object', name='ticker'), Index(['국보', '동양철관', '부산주공', '에쓰씨엔지니어링', '이스타코', '인디에프', '큐로', '태평양물산',\n",
       "       '한솔테크닉스'],\n",
       "      dtype='object', name='ticker'), Index(['신세계건설', '아이에스동서'], dtype='object', name='ticker'), Index(['S-Oil', '애경유화'], dtype='object', name='ticker'), Index(['만도', '미원홀딩스', '오리온홀딩스', '케이티스카이라이프', '크라운해태홀딩스', '현대글로비스'], dtype='object', name='ticker'), Index(['광명전기', '삼성전자', '삼익THK', '코오롱플라스틱', '쿠쿠홀딩스', '한미반도체', '현대리바트', '효성'], dtype='object', name='ticker'), Index(['LG화학', '고려아연', '대원화성', '동원F&B', '동원산업', '명문제약', '서흥', '유나이티드', '유한양행',\n",
       "       '팜스코', '한익스프레스'],\n",
       "      dtype='object', name='ticker'), Index(['CJ제일제당', '녹십자홀딩스', '보락', '한세예스24홀딩스', '휴켐스'], dtype='object', name='ticker'), Index(['CJ', '금호석유화학', '대웅제약', '덕성', '진양산업', '진양화학'], dtype='object', name='ticker'), Index(['CJ대한통운', '동아에스티', '세우글로벌', '조비', '카카오', '코스모신소재'], dtype='object', name='ticker'), Index(['대호에이엘', '미래산업', '미래아이앤지', '일신석재', '키위미디어그룹', '퍼스텍'], dtype='object', name='ticker'), Index(['KR모터스', '메타랩스', '삼성제약', '이아이디', '일동홀딩스', '일진디스플', '지코', '코아스',\n",
       "       '키다리스튜디오'],\n",
       "      dtype='object', name='ticker'), Index(['DB하이텍'], dtype='object', name='ticker'), Index(['SH에너지화학', '미원화학', '백산', '케이티앤지', '한전산업', '현대엘리베이터', '휴니드테크놀러지스'], dtype='object', name='ticker'), Index(['GS리테일', '일진머티리얼즈', '케이씨', '한국화장품제조', '화승인더스트리'], dtype='object', name='ticker'), Index(['강원랜드', '경동나비엔', '대원제약', '삼양식품', '삼진제약', '알루코', '오뚜기', '한국콜마홀딩스'], dtype='object', name='ticker'), Index(['CJ씨푸드', '고려산업', '동서', '사조동아원', '삼성에스디에스', '삼화콘덴서공업', '에이블씨엔씨', '에이엔피',\n",
       "       '제일기획', '한세실업', '효성 ITX'],\n",
       "      dtype='object', name='ticker'), Index(['녹십자', '대우부품', '삼화전기', '신세계푸드', '신일산업', '이연제약', '티웨이홀딩스'], dtype='object', name='ticker'), Index(['롯데관광개발', '삼성엔지니어링', '서울식품공업', '시디즈', '에넥스', '이월드', '한전기술'], dtype='object', name='ticker'), Index(['JW중외제약', 'JW홀딩스', '대한전선', '비티원', '삼화전자공업', '성문전자', '에이프로젠제약',\n",
       "       '우리들휴브레인', '유양디앤유', '인스코비', '파미셀'],\n",
       "      dtype='object', name='ticker'), Index(['금양', '대우조선해양', '쎌마테라퓨틱스', '진원생명과학', '한일현대시멘트'], dtype='object', name='ticker'), Index(['세하'], dtype='object', name='ticker'), Index(['후성'], dtype='object', name='ticker'), Index(['한국화장품'], dtype='object', name='ticker'), Index(['제이준코스메틱', '한솔케미칼'], dtype='object', name='ticker'), Index(['BGF', 'LG생활건강', '나노메딕스', '대양금속', '더존비즈온', '동원시스템즈', '에스원', '엔씨소프트',\n",
       "       '제이콘텐트리', '종근당', '참엔지니어링', '한국쉘석유', '한국콜마', '한국항공우주', '한온시스템'],\n",
       "      dtype='object', name='ticker'), Index(['NAVER', 'SPC삼립', '모나리자', '아모레퍼시픽', '아모레퍼시픽그룹', '우리들제약', '코스맥스', '코웨이',\n",
       "       '한샘', '한전KPS', '한창'],\n",
       "      dtype='object', name='ticker'), Index(['CJ CGV', '동양물산기업', '보령제약', '부광약품', '셀트리온', '써니전자', '영진약품', '일양약품',\n",
       "       '천일고속', '하나투어', '한미사이언스', '한미약품', '한올바이오파마', '호텔신라'],\n",
       "      dtype='object', name='ticker')])"
      ]
     },
     "execution_count": 65,
     "metadata": {},
     "output_type": "execute_result"
    }
   ],
   "source": [
    "type(g_df_obj.groups)\n",
    "g_df_obj.groups.keys()\n",
    "g_df_obj.groups.values ()"
   ]
  },
  {
   "cell_type": "code",
   "execution_count": 66,
   "metadata": {},
   "outputs": [
    {
     "data": {
      "text/html": [
       "<div>\n",
       "<style scoped>\n",
       "    .dataframe tbody tr th:only-of-type {\n",
       "        vertical-align: middle;\n",
       "    }\n",
       "\n",
       "    .dataframe tbody tr th {\n",
       "        vertical-align: top;\n",
       "    }\n",
       "\n",
       "    .dataframe thead th {\n",
       "        text-align: right;\n",
       "    }\n",
       "</style>\n",
       "<table border=\"1\" class=\"dataframe\">\n",
       "  <thead>\n",
       "    <tr style=\"text-align: right;\">\n",
       "      <th></th>\n",
       "      <th>매출액(억원)</th>\n",
       "      <th>영업이익률(%)</th>\n",
       "      <th>순이익률(%)</th>\n",
       "      <th>당기순이익(억원)</th>\n",
       "      <th>ROE(%)</th>\n",
       "      <th>ROA(%)</th>\n",
       "      <th>ROIC(%)</th>\n",
       "      <th>EPS(원)</th>\n",
       "      <th>BPS(원)</th>\n",
       "      <th>SPS(원)</th>\n",
       "      <th>PER(배)</th>\n",
       "      <th>PBR(배)</th>\n",
       "      <th>PSR(배)</th>\n",
       "      <th>price</th>\n",
       "      <th>price2</th>\n",
       "      <th>rtn</th>\n",
       "      <th>PER_score</th>\n",
       "      <th>PBR_score</th>\n",
       "    </tr>\n",
       "    <tr>\n",
       "      <th>ticker</th>\n",
       "      <th></th>\n",
       "      <th></th>\n",
       "      <th></th>\n",
       "      <th></th>\n",
       "      <th></th>\n",
       "      <th></th>\n",
       "      <th></th>\n",
       "      <th></th>\n",
       "      <th></th>\n",
       "      <th></th>\n",
       "      <th></th>\n",
       "      <th></th>\n",
       "      <th></th>\n",
       "      <th></th>\n",
       "      <th></th>\n",
       "      <th></th>\n",
       "      <th></th>\n",
       "      <th></th>\n",
       "    </tr>\n",
       "  </thead>\n",
       "  <tbody>\n",
       "    <tr>\n",
       "      <th>E1</th>\n",
       "      <td>39959.008</td>\n",
       "      <td>0.277</td>\n",
       "      <td>-0.949</td>\n",
       "      <td>-379.397</td>\n",
       "      <td>-2.350</td>\n",
       "      <td>-1.076</td>\n",
       "      <td>-1.633</td>\n",
       "      <td>-3869.011</td>\n",
       "      <td>191789.690</td>\n",
       "      <td>582492.800</td>\n",
       "      <td>-16.206</td>\n",
       "      <td>0.327</td>\n",
       "      <td>0.108</td>\n",
       "      <td>62700.000</td>\n",
       "      <td>56900.000</td>\n",
       "      <td>-0.093</td>\n",
       "      <td>1</td>\n",
       "      <td>1</td>\n",
       "    </tr>\n",
       "    <tr>\n",
       "      <th>S&amp;T중공업</th>\n",
       "      <td>4680.078</td>\n",
       "      <td>-0.309</td>\n",
       "      <td>-5.221</td>\n",
       "      <td>-244.358</td>\n",
       "      <td>-3.671</td>\n",
       "      <td>-2.697</td>\n",
       "      <td>-0.791</td>\n",
       "      <td>-734.851</td>\n",
       "      <td>21043.785</td>\n",
       "      <td>14074.280</td>\n",
       "      <td>-12.369</td>\n",
       "      <td>0.432</td>\n",
       "      <td>0.646</td>\n",
       "      <td>9089.000</td>\n",
       "      <td>7310.000</td>\n",
       "      <td>-0.196</td>\n",
       "      <td>1</td>\n",
       "      <td>1</td>\n",
       "    </tr>\n",
       "    <tr>\n",
       "      <th>디아이동일</th>\n",
       "      <td>8224.145</td>\n",
       "      <td>2.100</td>\n",
       "      <td>0.132</td>\n",
       "      <td>10.885</td>\n",
       "      <td>-0.753</td>\n",
       "      <td>0.111</td>\n",
       "      <td>0.051</td>\n",
       "      <td>-1523.407</td>\n",
       "      <td>270773.030</td>\n",
       "      <td>333554.280</td>\n",
       "      <td>-37.365</td>\n",
       "      <td>0.210</td>\n",
       "      <td>0.171</td>\n",
       "      <td>56922.000</td>\n",
       "      <td>51884.000</td>\n",
       "      <td>-0.089</td>\n",
       "      <td>1</td>\n",
       "      <td>1</td>\n",
       "    </tr>\n",
       "    <tr>\n",
       "      <th>한국수출포장공업</th>\n",
       "      <td>2282.604</td>\n",
       "      <td>1.344</td>\n",
       "      <td>-0.091</td>\n",
       "      <td>-2.075</td>\n",
       "      <td>-0.092</td>\n",
       "      <td>-0.069</td>\n",
       "      <td>0.152</td>\n",
       "      <td>-51.880</td>\n",
       "      <td>56026.280</td>\n",
       "      <td>57065.100</td>\n",
       "      <td>-345.030</td>\n",
       "      <td>0.319</td>\n",
       "      <td>0.314</td>\n",
       "      <td>17900.000</td>\n",
       "      <td>15650.000</td>\n",
       "      <td>-0.126</td>\n",
       "      <td>1</td>\n",
       "      <td>1</td>\n",
       "    </tr>\n",
       "    <tr>\n",
       "      <th>휴스틸</th>\n",
       "      <td>3640.215</td>\n",
       "      <td>0.370</td>\n",
       "      <td>-0.153</td>\n",
       "      <td>-5.562</td>\n",
       "      <td>-0.143</td>\n",
       "      <td>-0.101</td>\n",
       "      <td>0.059</td>\n",
       "      <td>-80.399</td>\n",
       "      <td>55779.490</td>\n",
       "      <td>52614.773</td>\n",
       "      <td>-191.546</td>\n",
       "      <td>0.276</td>\n",
       "      <td>0.293</td>\n",
       "      <td>15400.000</td>\n",
       "      <td>15450.000</td>\n",
       "      <td>0.003</td>\n",
       "      <td>1</td>\n",
       "      <td>1</td>\n",
       "    </tr>\n",
       "  </tbody>\n",
       "</table>\n",
       "</div>"
      ],
      "text/plain": [
       "           매출액(억원)  영업이익률(%)  순이익률(%)  당기순이익(억원)  ROE(%)  ROA(%)  ROIC(%)  \\\n",
       "ticker                                                                      \n",
       "E1       39959.008     0.277   -0.949   -379.397  -2.350  -1.076   -1.633   \n",
       "S&T중공업    4680.078    -0.309   -5.221   -244.358  -3.671  -2.697   -0.791   \n",
       "디아이동일     8224.145     2.100    0.132     10.885  -0.753   0.111    0.051   \n",
       "한국수출포장공업  2282.604     1.344   -0.091     -2.075  -0.092  -0.069    0.152   \n",
       "휴스틸       3640.215     0.370   -0.153     -5.562  -0.143  -0.101    0.059   \n",
       "\n",
       "            EPS(원)     BPS(원)     SPS(원)   PER(배)  PBR(배)  PSR(배)     price  \\\n",
       "ticker                                                                        \n",
       "E1       -3869.011 191789.690 582492.800  -16.206   0.327   0.108 62700.000   \n",
       "S&T중공업    -734.851  21043.785  14074.280  -12.369   0.432   0.646  9089.000   \n",
       "디아이동일    -1523.407 270773.030 333554.280  -37.365   0.210   0.171 56922.000   \n",
       "한국수출포장공업   -51.880  56026.280  57065.100 -345.030   0.319   0.314 17900.000   \n",
       "휴스틸        -80.399  55779.490  52614.773 -191.546   0.276   0.293 15400.000   \n",
       "\n",
       "            price2    rtn PER_score PBR_score  \n",
       "ticker                                         \n",
       "E1       56900.000 -0.093         1         1  \n",
       "S&T중공업    7310.000 -0.196         1         1  \n",
       "디아이동일    51884.000 -0.089         1         1  \n",
       "한국수출포장공업 15650.000 -0.126         1         1  \n",
       "휴스틸      15450.000  0.003         1         1  "
      ]
     },
     "execution_count": 66,
     "metadata": {},
     "output_type": "execute_result"
    }
   ],
   "source": [
    "# Retrieve specific group\n",
    "g_df_obj.get_group((1, 1))"
   ]
  },
  {
   "cell_type": "markdown",
   "metadata": {},
   "source": [
    "- For loop을 이용해서 grouping된 object 확인해보기 (많이는 안쓰임)"
   ]
  },
  {
   "cell_type": "code",
   "execution_count": 67,
   "metadata": {},
   "outputs": [
    {
     "name": "stdout",
     "output_type": "stream",
     "text": [
      "(1, 1)\n"
     ]
    },
    {
     "data": {
      "text/html": [
       "<div>\n",
       "<style scoped>\n",
       "    .dataframe tbody tr th:only-of-type {\n",
       "        vertical-align: middle;\n",
       "    }\n",
       "\n",
       "    .dataframe tbody tr th {\n",
       "        vertical-align: top;\n",
       "    }\n",
       "\n",
       "    .dataframe thead th {\n",
       "        text-align: right;\n",
       "    }\n",
       "</style>\n",
       "<table border=\"1\" class=\"dataframe\">\n",
       "  <thead>\n",
       "    <tr style=\"text-align: right;\">\n",
       "      <th></th>\n",
       "      <th>매출액(억원)</th>\n",
       "      <th>영업이익률(%)</th>\n",
       "      <th>순이익률(%)</th>\n",
       "      <th>당기순이익(억원)</th>\n",
       "      <th>ROE(%)</th>\n",
       "      <th>ROA(%)</th>\n",
       "      <th>ROIC(%)</th>\n",
       "      <th>EPS(원)</th>\n",
       "      <th>BPS(원)</th>\n",
       "      <th>SPS(원)</th>\n",
       "      <th>PER(배)</th>\n",
       "      <th>PBR(배)</th>\n",
       "      <th>PSR(배)</th>\n",
       "      <th>price</th>\n",
       "      <th>price2</th>\n",
       "      <th>rtn</th>\n",
       "      <th>PER_score</th>\n",
       "      <th>PBR_score</th>\n",
       "    </tr>\n",
       "    <tr>\n",
       "      <th>ticker</th>\n",
       "      <th></th>\n",
       "      <th></th>\n",
       "      <th></th>\n",
       "      <th></th>\n",
       "      <th></th>\n",
       "      <th></th>\n",
       "      <th></th>\n",
       "      <th></th>\n",
       "      <th></th>\n",
       "      <th></th>\n",
       "      <th></th>\n",
       "      <th></th>\n",
       "      <th></th>\n",
       "      <th></th>\n",
       "      <th></th>\n",
       "      <th></th>\n",
       "      <th></th>\n",
       "      <th></th>\n",
       "    </tr>\n",
       "  </thead>\n",
       "  <tbody>\n",
       "    <tr>\n",
       "      <th>E1</th>\n",
       "      <td>39959.008</td>\n",
       "      <td>0.277</td>\n",
       "      <td>-0.949</td>\n",
       "      <td>-379.397</td>\n",
       "      <td>-2.350</td>\n",
       "      <td>-1.076</td>\n",
       "      <td>-1.633</td>\n",
       "      <td>-3869.011</td>\n",
       "      <td>191789.690</td>\n",
       "      <td>582492.800</td>\n",
       "      <td>-16.206</td>\n",
       "      <td>0.327</td>\n",
       "      <td>0.108</td>\n",
       "      <td>62700.000</td>\n",
       "      <td>56900.000</td>\n",
       "      <td>-0.093</td>\n",
       "      <td>1</td>\n",
       "      <td>1</td>\n",
       "    </tr>\n",
       "    <tr>\n",
       "      <th>S&amp;T중공업</th>\n",
       "      <td>4680.078</td>\n",
       "      <td>-0.309</td>\n",
       "      <td>-5.221</td>\n",
       "      <td>-244.358</td>\n",
       "      <td>-3.671</td>\n",
       "      <td>-2.697</td>\n",
       "      <td>-0.791</td>\n",
       "      <td>-734.851</td>\n",
       "      <td>21043.785</td>\n",
       "      <td>14074.280</td>\n",
       "      <td>-12.369</td>\n",
       "      <td>0.432</td>\n",
       "      <td>0.646</td>\n",
       "      <td>9089.000</td>\n",
       "      <td>7310.000</td>\n",
       "      <td>-0.196</td>\n",
       "      <td>1</td>\n",
       "      <td>1</td>\n",
       "    </tr>\n",
       "  </tbody>\n",
       "</table>\n",
       "</div>"
      ],
      "text/plain": [
       "         매출액(억원)  영업이익률(%)  순이익률(%)  당기순이익(억원)  ROE(%)  ROA(%)  ROIC(%)  \\\n",
       "ticker                                                                    \n",
       "E1     39959.008     0.277   -0.949   -379.397  -2.350  -1.076   -1.633   \n",
       "S&T중공업  4680.078    -0.309   -5.221   -244.358  -3.671  -2.697   -0.791   \n",
       "\n",
       "          EPS(원)     BPS(원)     SPS(원)  PER(배)  PBR(배)  PSR(배)     price  \\\n",
       "ticker                                                                     \n",
       "E1     -3869.011 191789.690 582492.800 -16.206   0.327   0.108 62700.000   \n",
       "S&T중공업  -734.851  21043.785  14074.280 -12.369   0.432   0.646  9089.000   \n",
       "\n",
       "          price2    rtn PER_score PBR_score  \n",
       "ticker                                       \n",
       "E1     56900.000 -0.093         1         1  \n",
       "S&T중공업  7310.000 -0.196         1         1  "
      ]
     },
     "execution_count": 67,
     "metadata": {},
     "output_type": "execute_result"
    }
   ],
   "source": [
    "for name, group in g_df_obj:\n",
    "    print(name)\n",
    "    group.head(2)\n",
    "    break"
   ]
  },
  {
   "cell_type": "code",
   "execution_count": 68,
   "metadata": {},
   "outputs": [
    {
     "data": {
      "text/html": [
       "<div>\n",
       "<style scoped>\n",
       "    .dataframe tbody tr th:only-of-type {\n",
       "        vertical-align: middle;\n",
       "    }\n",
       "\n",
       "    .dataframe tbody tr th {\n",
       "        vertical-align: top;\n",
       "    }\n",
       "\n",
       "    .dataframe thead th {\n",
       "        text-align: right;\n",
       "    }\n",
       "</style>\n",
       "<table border=\"1\" class=\"dataframe\">\n",
       "  <thead>\n",
       "    <tr style=\"text-align: right;\">\n",
       "      <th></th>\n",
       "      <th>매출액(억원)</th>\n",
       "      <th>영업이익률(%)</th>\n",
       "      <th>순이익률(%)</th>\n",
       "      <th>당기순이익(억원)</th>\n",
       "      <th>ROE(%)</th>\n",
       "      <th>ROA(%)</th>\n",
       "      <th>ROIC(%)</th>\n",
       "      <th>EPS(원)</th>\n",
       "      <th>BPS(원)</th>\n",
       "      <th>SPS(원)</th>\n",
       "      <th>PER(배)</th>\n",
       "      <th>PBR(배)</th>\n",
       "      <th>PSR(배)</th>\n",
       "      <th>price</th>\n",
       "      <th>price2</th>\n",
       "      <th>rtn</th>\n",
       "      <th>PER_score</th>\n",
       "      <th>PBR_score</th>\n",
       "    </tr>\n",
       "    <tr>\n",
       "      <th>ticker</th>\n",
       "      <th></th>\n",
       "      <th></th>\n",
       "      <th></th>\n",
       "      <th></th>\n",
       "      <th></th>\n",
       "      <th></th>\n",
       "      <th></th>\n",
       "      <th></th>\n",
       "      <th></th>\n",
       "      <th></th>\n",
       "      <th></th>\n",
       "      <th></th>\n",
       "      <th></th>\n",
       "      <th></th>\n",
       "      <th></th>\n",
       "      <th></th>\n",
       "      <th></th>\n",
       "      <th></th>\n",
       "    </tr>\n",
       "  </thead>\n",
       "  <tbody>\n",
       "    <tr>\n",
       "      <th>AK홀딩스</th>\n",
       "      <td>29218.310</td>\n",
       "      <td>7.313</td>\n",
       "      <td>4.563</td>\n",
       "      <td>1333.223</td>\n",
       "      <td>12.193</td>\n",
       "      <td>5.091</td>\n",
       "      <td>15.515</td>\n",
       "      <td>5436.413</td>\n",
       "      <td>48112.402</td>\n",
       "      <td>220556.160</td>\n",
       "      <td>10.301</td>\n",
       "      <td>1.164</td>\n",
       "      <td>0.254</td>\n",
       "      <td>56000.000</td>\n",
       "      <td>68500.000</td>\n",
       "      <td>0.223</td>\n",
       "      <td>5</td>\n",
       "      <td>7</td>\n",
       "    </tr>\n",
       "    <tr>\n",
       "      <th>BGF</th>\n",
       "      <td>860.773</td>\n",
       "      <td>9.315</td>\n",
       "      <td>214.481</td>\n",
       "      <td>1846.192</td>\n",
       "      <td>21.624</td>\n",
       "      <td>10.433</td>\n",
       "      <td>8.015</td>\n",
       "      <td>3703.577</td>\n",
       "      <td>18648.623</td>\n",
       "      <td>1737.263</td>\n",
       "      <td>22.757</td>\n",
       "      <td>4.519</td>\n",
       "      <td>48.514</td>\n",
       "      <td>42140.000</td>\n",
       "      <td>15250.000</td>\n",
       "      <td>-0.638</td>\n",
       "      <td>8</td>\n",
       "      <td>10</td>\n",
       "    </tr>\n",
       "    <tr>\n",
       "      <th>BYC</th>\n",
       "      <td>2118.576</td>\n",
       "      <td>7.625</td>\n",
       "      <td>8.281</td>\n",
       "      <td>175.433</td>\n",
       "      <td>4.543</td>\n",
       "      <td>2.463</td>\n",
       "      <td>10.748</td>\n",
       "      <td>20872.312</td>\n",
       "      <td>471887.000</td>\n",
       "      <td>252211.450</td>\n",
       "      <td>19.020</td>\n",
       "      <td>0.841</td>\n",
       "      <td>1.574</td>\n",
       "      <td>397000.000</td>\n",
       "      <td>306000.000</td>\n",
       "      <td>-0.229</td>\n",
       "      <td>8</td>\n",
       "      <td>5</td>\n",
       "    </tr>\n",
       "    <tr>\n",
       "      <th>CJ</th>\n",
       "      <td>239541.970</td>\n",
       "      <td>5.230</td>\n",
       "      <td>2.379</td>\n",
       "      <td>5698.234</td>\n",
       "      <td>6.080</td>\n",
       "      <td>2.253</td>\n",
       "      <td>5.158</td>\n",
       "      <td>6257.152</td>\n",
       "      <td>114276.080</td>\n",
       "      <td>672045.900</td>\n",
       "      <td>28.181</td>\n",
       "      <td>1.543</td>\n",
       "      <td>0.262</td>\n",
       "      <td>176334.000</td>\n",
       "      <td>171148.000</td>\n",
       "      <td>-0.029</td>\n",
       "      <td>9</td>\n",
       "      <td>8</td>\n",
       "    </tr>\n",
       "    <tr>\n",
       "      <th>CJ CGV</th>\n",
       "      <td>14322.454</td>\n",
       "      <td>4.911</td>\n",
       "      <td>0.393</td>\n",
       "      <td>56.217</td>\n",
       "      <td>3.105</td>\n",
       "      <td>0.284</td>\n",
       "      <td>2.919</td>\n",
       "      <td>583.051</td>\n",
       "      <td>17654.154</td>\n",
       "      <td>67682.260</td>\n",
       "      <td>120.744</td>\n",
       "      <td>3.988</td>\n",
       "      <td>1.040</td>\n",
       "      <td>70400.000</td>\n",
       "      <td>74200.000</td>\n",
       "      <td>0.054</td>\n",
       "      <td>10</td>\n",
       "      <td>10</td>\n",
       "    </tr>\n",
       "    <tr>\n",
       "      <th>CJ대한통운</th>\n",
       "      <td>60819.457</td>\n",
       "      <td>3.756</td>\n",
       "      <td>1.122</td>\n",
       "      <td>682.101</td>\n",
       "      <td>2.390</td>\n",
       "      <td>1.361</td>\n",
       "      <td>4.947</td>\n",
       "      <td>2445.658</td>\n",
       "      <td>133105.080</td>\n",
       "      <td>266607.660</td>\n",
       "      <td>73.191</td>\n",
       "      <td>1.345</td>\n",
       "      <td>0.671</td>\n",
       "      <td>179000.000</td>\n",
       "      <td>140000.000</td>\n",
       "      <td>-0.218</td>\n",
       "      <td>10</td>\n",
       "      <td>8</td>\n",
       "    </tr>\n",
       "    <tr>\n",
       "      <th>CS홀딩스</th>\n",
       "      <td>1231.450</td>\n",
       "      <td>16.105</td>\n",
       "      <td>13.918</td>\n",
       "      <td>171.388</td>\n",
       "      <td>4.409</td>\n",
       "      <td>5.921</td>\n",
       "      <td>12.719</td>\n",
       "      <td>7994.886</td>\n",
       "      <td>186451.840</td>\n",
       "      <td>106666.850</td>\n",
       "      <td>10.094</td>\n",
       "      <td>0.433</td>\n",
       "      <td>0.757</td>\n",
       "      <td>80700.000</td>\n",
       "      <td>80200.000</td>\n",
       "      <td>-0.006</td>\n",
       "      <td>5</td>\n",
       "      <td>1</td>\n",
       "    </tr>\n",
       "    <tr>\n",
       "      <th>DB</th>\n",
       "      <td>2048.100</td>\n",
       "      <td>5.324</td>\n",
       "      <td>-10.113</td>\n",
       "      <td>-207.128</td>\n",
       "      <td>-13.052</td>\n",
       "      <td>-8.434</td>\n",
       "      <td>66.574</td>\n",
       "      <td>-113.728</td>\n",
       "      <td>881.178</td>\n",
       "      <td>1124.549</td>\n",
       "      <td>-6.454</td>\n",
       "      <td>0.833</td>\n",
       "      <td>0.653</td>\n",
       "      <td>734.000</td>\n",
       "      <td>658.000</td>\n",
       "      <td>-0.104</td>\n",
       "      <td>2</td>\n",
       "      <td>5</td>\n",
       "    </tr>\n",
       "    <tr>\n",
       "      <th>DB하이텍</th>\n",
       "      <td>7731.402</td>\n",
       "      <td>22.302</td>\n",
       "      <td>11.427</td>\n",
       "      <td>883.440</td>\n",
       "      <td>29.647</td>\n",
       "      <td>8.962</td>\n",
       "      <td>24.540</td>\n",
       "      <td>1984.761</td>\n",
       "      <td>7900.009</td>\n",
       "      <td>17369.578</td>\n",
       "      <td>8.011</td>\n",
       "      <td>2.013</td>\n",
       "      <td>0.915</td>\n",
       "      <td>15900.000</td>\n",
       "      <td>12000.000</td>\n",
       "      <td>-0.245</td>\n",
       "      <td>4</td>\n",
       "      <td>9</td>\n",
       "    </tr>\n",
       "    <tr>\n",
       "      <th>DRB동일</th>\n",
       "      <td>5512.525</td>\n",
       "      <td>12.239</td>\n",
       "      <td>8.873</td>\n",
       "      <td>489.136</td>\n",
       "      <td>12.550</td>\n",
       "      <td>7.299</td>\n",
       "      <td>10.930</td>\n",
       "      <td>1975.509</td>\n",
       "      <td>17210.008</td>\n",
       "      <td>27659.432</td>\n",
       "      <td>5.959</td>\n",
       "      <td>0.684</td>\n",
       "      <td>0.426</td>\n",
       "      <td>11772.000</td>\n",
       "      <td>7682.000</td>\n",
       "      <td>-0.347</td>\n",
       "      <td>3</td>\n",
       "      <td>3</td>\n",
       "    </tr>\n",
       "    <tr>\n",
       "      <th>DSR</th>\n",
       "      <td>2010.601</td>\n",
       "      <td>6.643</td>\n",
       "      <td>5.343</td>\n",
       "      <td>107.433</td>\n",
       "      <td>8.503</td>\n",
       "      <td>5.760</td>\n",
       "      <td>8.083</td>\n",
       "      <td>671.637</td>\n",
       "      <td>8252.385</td>\n",
       "      <td>12566.254</td>\n",
       "      <td>13.847</td>\n",
       "      <td>1.127</td>\n",
       "      <td>0.740</td>\n",
       "      <td>9300.000</td>\n",
       "      <td>5170.000</td>\n",
       "      <td>-0.444</td>\n",
       "      <td>6</td>\n",
       "      <td>7</td>\n",
       "    </tr>\n",
       "    <tr>\n",
       "      <th>DSR제강</th>\n",
       "      <td>1725.359</td>\n",
       "      <td>4.442</td>\n",
       "      <td>5.036</td>\n",
       "      <td>86.884</td>\n",
       "      <td>7.107</td>\n",
       "      <td>4.640</td>\n",
       "      <td>5.689</td>\n",
       "      <td>603.364</td>\n",
       "      <td>8780.054</td>\n",
       "      <td>11981.659</td>\n",
       "      <td>14.618</td>\n",
       "      <td>1.005</td>\n",
       "      <td>0.736</td>\n",
       "      <td>8820.000</td>\n",
       "      <td>5240.000</td>\n",
       "      <td>-0.406</td>\n",
       "      <td>6</td>\n",
       "      <td>6</td>\n",
       "    </tr>\n",
       "    <tr>\n",
       "      <th>E1</th>\n",
       "      <td>39959.008</td>\n",
       "      <td>0.277</td>\n",
       "      <td>-0.949</td>\n",
       "      <td>-379.397</td>\n",
       "      <td>-2.350</td>\n",
       "      <td>-1.076</td>\n",
       "      <td>-1.633</td>\n",
       "      <td>-3869.011</td>\n",
       "      <td>191789.690</td>\n",
       "      <td>582492.800</td>\n",
       "      <td>-16.206</td>\n",
       "      <td>0.327</td>\n",
       "      <td>0.108</td>\n",
       "      <td>62700.000</td>\n",
       "      <td>56900.000</td>\n",
       "      <td>-0.093</td>\n",
       "      <td>1</td>\n",
       "      <td>1</td>\n",
       "    </tr>\n",
       "    <tr>\n",
       "      <th>F&amp;F</th>\n",
       "      <td>4389.796</td>\n",
       "      <td>10.393</td>\n",
       "      <td>6.886</td>\n",
       "      <td>302.279</td>\n",
       "      <td>14.180</td>\n",
       "      <td>9.461</td>\n",
       "      <td>18.376</td>\n",
       "      <td>1962.851</td>\n",
       "      <td>14721.138</td>\n",
       "      <td>28505.172</td>\n",
       "      <td>8.890</td>\n",
       "      <td>1.185</td>\n",
       "      <td>0.612</td>\n",
       "      <td>17450.000</td>\n",
       "      <td>41950.000</td>\n",
       "      <td>1.404</td>\n",
       "      <td>4</td>\n",
       "      <td>7</td>\n",
       "    </tr>\n",
       "    <tr>\n",
       "      <th>GS</th>\n",
       "      <td>134624.270</td>\n",
       "      <td>13.031</td>\n",
       "      <td>6.858</td>\n",
       "      <td>9233.110</td>\n",
       "      <td>12.129</td>\n",
       "      <td>4.691</td>\n",
       "      <td>9.875</td>\n",
       "      <td>8507.933</td>\n",
       "      <td>73559.050</td>\n",
       "      <td>142158.360</td>\n",
       "      <td>6.359</td>\n",
       "      <td>0.735</td>\n",
       "      <td>0.381</td>\n",
       "      <td>54100.000</td>\n",
       "      <td>62200.000</td>\n",
       "      <td>0.150</td>\n",
       "      <td>3</td>\n",
       "      <td>4</td>\n",
       "    </tr>\n",
       "    <tr>\n",
       "      <th>GS건설</th>\n",
       "      <td>110355.960</td>\n",
       "      <td>1.296</td>\n",
       "      <td>-0.185</td>\n",
       "      <td>-204.315</td>\n",
       "      <td>-0.786</td>\n",
       "      <td>-0.155</td>\n",
       "      <td>-5.159</td>\n",
       "      <td>-363.118</td>\n",
       "      <td>47135.676</td>\n",
       "      <td>155430.940</td>\n",
       "      <td>-72.979</td>\n",
       "      <td>0.562</td>\n",
       "      <td>0.170</td>\n",
       "      <td>26500.000</td>\n",
       "      <td>28300.000</td>\n",
       "      <td>0.068</td>\n",
       "      <td>1</td>\n",
       "      <td>2</td>\n",
       "    </tr>\n",
       "    <tr>\n",
       "      <th>KC그린홀딩스</th>\n",
       "      <td>3913.715</td>\n",
       "      <td>6.611</td>\n",
       "      <td>1.722</td>\n",
       "      <td>67.377</td>\n",
       "      <td>2.994</td>\n",
       "      <td>1.476</td>\n",
       "      <td>6.935</td>\n",
       "      <td>208.142</td>\n",
       "      <td>7143.173</td>\n",
       "      <td>17444.697</td>\n",
       "      <td>36.225</td>\n",
       "      <td>1.056</td>\n",
       "      <td>0.432</td>\n",
       "      <td>7540.000</td>\n",
       "      <td>5200.000</td>\n",
       "      <td>-0.310</td>\n",
       "      <td>9</td>\n",
       "      <td>6</td>\n",
       "    </tr>\n",
       "    <tr>\n",
       "      <th>KR모터스</th>\n",
       "      <td>847.754</td>\n",
       "      <td>-9.604</td>\n",
       "      <td>-11.771</td>\n",
       "      <td>-99.786</td>\n",
       "      <td>-15.817</td>\n",
       "      <td>-6.513</td>\n",
       "      <td>-6.457</td>\n",
       "      <td>-356.975</td>\n",
       "      <td>2085.488</td>\n",
       "      <td>3033.090</td>\n",
       "      <td>-11.752</td>\n",
       "      <td>2.012</td>\n",
       "      <td>1.383</td>\n",
       "      <td>1298.000</td>\n",
       "      <td>489.000</td>\n",
       "      <td>-0.623</td>\n",
       "      <td>2</td>\n",
       "      <td>9</td>\n",
       "    </tr>\n",
       "    <tr>\n",
       "      <th>LG화학</th>\n",
       "      <td>206592.950</td>\n",
       "      <td>9.642</td>\n",
       "      <td>6.201</td>\n",
       "      <td>12809.940</td>\n",
       "      <td>9.515</td>\n",
       "      <td>6.558</td>\n",
       "      <td>10.113</td>\n",
       "      <td>17335.908</td>\n",
       "      <td>192954.620</td>\n",
       "      <td>279557.380</td>\n",
       "      <td>15.055</td>\n",
       "      <td>1.353</td>\n",
       "      <td>0.934</td>\n",
       "      <td>261000.000</td>\n",
       "      <td>405000.000</td>\n",
       "      <td>0.552</td>\n",
       "      <td>7</td>\n",
       "      <td>8</td>\n",
       "    </tr>\n",
       "    <tr>\n",
       "      <th>강원랜드</th>\n",
       "      <td>16965.324</td>\n",
       "      <td>36.464</td>\n",
       "      <td>26.792</td>\n",
       "      <td>4545.336</td>\n",
       "      <td>14.547</td>\n",
       "      <td>11.853</td>\n",
       "      <td>57.869</td>\n",
       "      <td>2124.841</td>\n",
       "      <td>16042.903</td>\n",
       "      <td>7929.927</td>\n",
       "      <td>16.825</td>\n",
       "      <td>2.228</td>\n",
       "      <td>4.508</td>\n",
       "      <td>35750.000</td>\n",
       "      <td>34800.000</td>\n",
       "      <td>-0.027</td>\n",
       "      <td>7</td>\n",
       "      <td>9</td>\n",
       "    </tr>\n",
       "  </tbody>\n",
       "</table>\n",
       "</div>"
      ],
      "text/plain": [
       "           매출액(억원)  영업이익률(%)  순이익률(%)  당기순이익(억원)  ROE(%)  ROA(%)  ROIC(%)  \\\n",
       "ticker                                                                      \n",
       "AK홀딩스    29218.310     7.313    4.563   1333.223  12.193   5.091   15.515   \n",
       "BGF        860.773     9.315  214.481   1846.192  21.624  10.433    8.015   \n",
       "BYC       2118.576     7.625    8.281    175.433   4.543   2.463   10.748   \n",
       "CJ      239541.970     5.230    2.379   5698.234   6.080   2.253    5.158   \n",
       "CJ CGV   14322.454     4.911    0.393     56.217   3.105   0.284    2.919   \n",
       "CJ대한통운   60819.457     3.756    1.122    682.101   2.390   1.361    4.947   \n",
       "CS홀딩스     1231.450    16.105   13.918    171.388   4.409   5.921   12.719   \n",
       "DB        2048.100     5.324  -10.113   -207.128 -13.052  -8.434   66.574   \n",
       "DB하이텍     7731.402    22.302   11.427    883.440  29.647   8.962   24.540   \n",
       "DRB동일     5512.525    12.239    8.873    489.136  12.550   7.299   10.930   \n",
       "DSR       2010.601     6.643    5.343    107.433   8.503   5.760    8.083   \n",
       "DSR제강     1725.359     4.442    5.036     86.884   7.107   4.640    5.689   \n",
       "E1       39959.008     0.277   -0.949   -379.397  -2.350  -1.076   -1.633   \n",
       "F&F       4389.796    10.393    6.886    302.279  14.180   9.461   18.376   \n",
       "GS      134624.270    13.031    6.858   9233.110  12.129   4.691    9.875   \n",
       "GS건설    110355.960     1.296   -0.185   -204.315  -0.786  -0.155   -5.159   \n",
       "KC그린홀딩스   3913.715     6.611    1.722     67.377   2.994   1.476    6.935   \n",
       "KR모터스      847.754    -9.604  -11.771    -99.786 -15.817  -6.513   -6.457   \n",
       "LG화학    206592.950     9.642    6.201  12809.940   9.515   6.558   10.113   \n",
       "강원랜드     16965.324    36.464   26.792   4545.336  14.547  11.853   57.869   \n",
       "\n",
       "           EPS(원)     BPS(원)     SPS(원)  PER(배)  PBR(배)  PSR(배)      price  \\\n",
       "ticker                                                                       \n",
       "AK홀딩스    5436.413  48112.402 220556.160  10.301   1.164   0.254  56000.000   \n",
       "BGF      3703.577  18648.623   1737.263  22.757   4.519  48.514  42140.000   \n",
       "BYC     20872.312 471887.000 252211.450  19.020   0.841   1.574 397000.000   \n",
       "CJ       6257.152 114276.080 672045.900  28.181   1.543   0.262 176334.000   \n",
       "CJ CGV    583.051  17654.154  67682.260 120.744   3.988   1.040  70400.000   \n",
       "CJ대한통운   2445.658 133105.080 266607.660  73.191   1.345   0.671 179000.000   \n",
       "CS홀딩스    7994.886 186451.840 106666.850  10.094   0.433   0.757  80700.000   \n",
       "DB       -113.728    881.178   1124.549  -6.454   0.833   0.653    734.000   \n",
       "DB하이텍    1984.761   7900.009  17369.578   8.011   2.013   0.915  15900.000   \n",
       "DRB동일    1975.509  17210.008  27659.432   5.959   0.684   0.426  11772.000   \n",
       "DSR       671.637   8252.385  12566.254  13.847   1.127   0.740   9300.000   \n",
       "DSR제강     603.364   8780.054  11981.659  14.618   1.005   0.736   8820.000   \n",
       "E1      -3869.011 191789.690 582492.800 -16.206   0.327   0.108  62700.000   \n",
       "F&F      1962.851  14721.138  28505.172   8.890   1.185   0.612  17450.000   \n",
       "GS       8507.933  73559.050 142158.360   6.359   0.735   0.381  54100.000   \n",
       "GS건설     -363.118  47135.676 155430.940 -72.979   0.562   0.170  26500.000   \n",
       "KC그린홀딩스   208.142   7143.173  17444.697  36.225   1.056   0.432   7540.000   \n",
       "KR모터스    -356.975   2085.488   3033.090 -11.752   2.012   1.383   1298.000   \n",
       "LG화학    17335.908 192954.620 279557.380  15.055   1.353   0.934 261000.000   \n",
       "강원랜드     2124.841  16042.903   7929.927  16.825   2.228   4.508  35750.000   \n",
       "\n",
       "            price2    rtn PER_score PBR_score  \n",
       "ticker                                         \n",
       "AK홀딩스    68500.000  0.223         5         7  \n",
       "BGF      15250.000 -0.638         8        10  \n",
       "BYC     306000.000 -0.229         8         5  \n",
       "CJ      171148.000 -0.029         9         8  \n",
       "CJ CGV   74200.000  0.054        10        10  \n",
       "CJ대한통운  140000.000 -0.218        10         8  \n",
       "CS홀딩스    80200.000 -0.006         5         1  \n",
       "DB         658.000 -0.104         2         5  \n",
       "DB하이텍    12000.000 -0.245         4         9  \n",
       "DRB동일     7682.000 -0.347         3         3  \n",
       "DSR       5170.000 -0.444         6         7  \n",
       "DSR제강     5240.000 -0.406         6         6  \n",
       "E1       56900.000 -0.093         1         1  \n",
       "F&F      41950.000  1.404         4         7  \n",
       "GS       62200.000  0.150         3         4  \n",
       "GS건설     28300.000  0.068         1         2  \n",
       "KC그린홀딩스   5200.000 -0.310         9         6  \n",
       "KR모터스      489.000 -0.623         2         9  \n",
       "LG화학    405000.000  0.552         7         8  \n",
       "강원랜드     34800.000 -0.027         7         9  "
      ]
     },
     "execution_count": 68,
     "metadata": {},
     "output_type": "execute_result"
    }
   ],
   "source": [
    "# 참고 :groupby()에 대해 head()를 적용하면, 기존이 head()가 작동하는 방식, 즉, 최상위 2개를 가지고 오는게 아니라\n",
    "# 각 그룹별 최상위 2개를 무작위로 섞어서 하나로 합친 DataFrame을 리턴함\n",
    "g_df.groupby('PER_score').head(2)"
   ]
  },
  {
   "cell_type": "markdown",
   "metadata": {},
   "source": [
    " "
   ]
  },
  {
   "cell_type": "markdown",
   "metadata": {},
   "source": [
    "### aggreggation"
   ]
  },
  {
   "cell_type": "markdown",
   "metadata": {},
   "source": [
    "- 반드시 \"aggregating\" 기능이 있는 function 을 써야함\n",
    "    - min, max, mean, median, sum, var, size, nunique, idxmax"
   ]
  },
  {
   "cell_type": "code",
   "execution_count": 69,
   "metadata": {},
   "outputs": [
    {
     "data": {
      "text/html": [
       "<div>\n",
       "<style scoped>\n",
       "    .dataframe tbody tr th:only-of-type {\n",
       "        vertical-align: middle;\n",
       "    }\n",
       "\n",
       "    .dataframe tbody tr th {\n",
       "        vertical-align: top;\n",
       "    }\n",
       "\n",
       "    .dataframe thead th {\n",
       "        text-align: right;\n",
       "    }\n",
       "</style>\n",
       "<table border=\"1\" class=\"dataframe\">\n",
       "  <thead>\n",
       "    <tr style=\"text-align: right;\">\n",
       "      <th></th>\n",
       "      <th>rtn</th>\n",
       "    </tr>\n",
       "    <tr>\n",
       "      <th>PBR_score</th>\n",
       "      <th></th>\n",
       "    </tr>\n",
       "  </thead>\n",
       "  <tbody>\n",
       "    <tr>\n",
       "      <th>1</th>\n",
       "      <td>-0.001</td>\n",
       "    </tr>\n",
       "    <tr>\n",
       "      <th>2</th>\n",
       "      <td>0.020</td>\n",
       "    </tr>\n",
       "    <tr>\n",
       "      <th>3</th>\n",
       "      <td>-0.021</td>\n",
       "    </tr>\n",
       "    <tr>\n",
       "      <th>4</th>\n",
       "      <td>0.161</td>\n",
       "    </tr>\n",
       "    <tr>\n",
       "      <th>5</th>\n",
       "      <td>-0.012</td>\n",
       "    </tr>\n",
       "    <tr>\n",
       "      <th>6</th>\n",
       "      <td>-0.043</td>\n",
       "    </tr>\n",
       "    <tr>\n",
       "      <th>7</th>\n",
       "      <td>0.150</td>\n",
       "    </tr>\n",
       "    <tr>\n",
       "      <th>8</th>\n",
       "      <td>0.058</td>\n",
       "    </tr>\n",
       "    <tr>\n",
       "      <th>9</th>\n",
       "      <td>0.139</td>\n",
       "    </tr>\n",
       "    <tr>\n",
       "      <th>10</th>\n",
       "      <td>0.054</td>\n",
       "    </tr>\n",
       "  </tbody>\n",
       "</table>\n",
       "</div>"
      ],
      "text/plain": [
       "             rtn\n",
       "PBR_score       \n",
       "1         -0.001\n",
       "2          0.020\n",
       "3         -0.021\n",
       "4          0.161\n",
       "5         -0.012\n",
       "6         -0.043\n",
       "7          0.150\n",
       "8          0.058\n",
       "9          0.139\n",
       "10         0.054"
      ]
     },
     "execution_count": 69,
     "metadata": {},
     "output_type": "execute_result"
    }
   ],
   "source": [
    "g_df.groupby(\"PBR_score\").agg(\n",
    "    {\n",
    "        \"rtn\": \"mean\", # =  np.mean\n",
    "    }\n",
    ")"
   ]
  },
  {
   "cell_type": "code",
   "execution_count": 70,
   "metadata": {},
   "outputs": [],
   "source": [
    "pbr_rtn_df = g_df.groupby(\"PBR_score\").agg({'rtn': 'mean'})\n",
    "per_rtn_df = g_df.groupby(\"PER_score\").agg({'rtn': 'mean'})"
   ]
  },
  {
   "cell_type": "code",
   "execution_count": 71,
   "metadata": {},
   "outputs": [
    {
     "data": {
      "text/html": [
       "<div>\n",
       "<style scoped>\n",
       "    .dataframe tbody tr th:only-of-type {\n",
       "        vertical-align: middle;\n",
       "    }\n",
       "\n",
       "    .dataframe tbody tr th {\n",
       "        vertical-align: top;\n",
       "    }\n",
       "\n",
       "    .dataframe thead th {\n",
       "        text-align: right;\n",
       "    }\n",
       "</style>\n",
       "<table border=\"1\" class=\"dataframe\">\n",
       "  <thead>\n",
       "    <tr style=\"text-align: right;\">\n",
       "      <th></th>\n",
       "      <th>rtn</th>\n",
       "    </tr>\n",
       "    <tr>\n",
       "      <th>PBR_score</th>\n",
       "      <th></th>\n",
       "    </tr>\n",
       "  </thead>\n",
       "  <tbody>\n",
       "    <tr>\n",
       "      <th>1</th>\n",
       "      <td>-0.001</td>\n",
       "    </tr>\n",
       "    <tr>\n",
       "      <th>2</th>\n",
       "      <td>0.020</td>\n",
       "    </tr>\n",
       "    <tr>\n",
       "      <th>3</th>\n",
       "      <td>-0.021</td>\n",
       "    </tr>\n",
       "    <tr>\n",
       "      <th>4</th>\n",
       "      <td>0.161</td>\n",
       "    </tr>\n",
       "    <tr>\n",
       "      <th>5</th>\n",
       "      <td>-0.012</td>\n",
       "    </tr>\n",
       "  </tbody>\n",
       "</table>\n",
       "</div>"
      ],
      "text/plain": [
       "             rtn\n",
       "PBR_score       \n",
       "1         -0.001\n",
       "2          0.020\n",
       "3         -0.021\n",
       "4          0.161\n",
       "5         -0.012"
      ]
     },
     "execution_count": 71,
     "metadata": {},
     "output_type": "execute_result"
    }
   ],
   "source": [
    "pbr_rtn_df.head()"
   ]
  },
  {
   "cell_type": "code",
   "execution_count": 72,
   "metadata": {},
   "outputs": [
    {
     "data": {
      "text/plain": [
       "PER_score\n",
       "1   -0.062\n",
       "2   -0.083\n",
       "3   -0.038\n",
       "4    0.056\n",
       "5    0.000\n",
       "Name: rtn, dtype: float64"
      ]
     },
     "execution_count": 72,
     "metadata": {},
     "output_type": "execute_result"
    },
    {
     "data": {
      "text/plain": [
       "PER_score\n",
       "1   -0.062\n",
       "2   -0.083\n",
       "3   -0.038\n",
       "4    0.056\n",
       "5    0.000\n",
       "Name: rtn, dtype: float64"
      ]
     },
     "execution_count": 72,
     "metadata": {},
     "output_type": "execute_result"
    },
    {
     "data": {
      "text/plain": [
       "PER_score\n",
       "1   -0.062\n",
       "2   -0.083\n",
       "3   -0.038\n",
       "4    0.056\n",
       "5    0.000\n",
       "Name: rtn, dtype: float64"
      ]
     },
     "execution_count": 72,
     "metadata": {},
     "output_type": "execute_result"
    }
   ],
   "source": [
    "# 다양한 방법으로 진행하기 (같은 결과)\n",
    "g_df.groupby(\"PER_score\")['rtn'].agg('mean').head()\n",
    "g_df.groupby(\"PER_score\")['rtn'].agg(np.mean).head()\n",
    "g_df.groupby(\"PER_score\")['rtn'].mean().head()"
   ]
  },
  {
   "cell_type": "code",
   "execution_count": 73,
   "metadata": {},
   "outputs": [
    {
     "data": {
      "text/plain": [
       "PER_score\n",
       "1   -0.062\n",
       "2   -0.083\n",
       "Name: rtn, dtype: float64"
      ]
     },
     "execution_count": 73,
     "metadata": {},
     "output_type": "execute_result"
    },
    {
     "data": {
      "text/html": [
       "<div>\n",
       "<style scoped>\n",
       "    .dataframe tbody tr th:only-of-type {\n",
       "        vertical-align: middle;\n",
       "    }\n",
       "\n",
       "    .dataframe tbody tr th {\n",
       "        vertical-align: top;\n",
       "    }\n",
       "\n",
       "    .dataframe thead th {\n",
       "        text-align: right;\n",
       "    }\n",
       "</style>\n",
       "<table border=\"1\" class=\"dataframe\">\n",
       "  <thead>\n",
       "    <tr style=\"text-align: right;\">\n",
       "      <th></th>\n",
       "      <th>rtn</th>\n",
       "    </tr>\n",
       "    <tr>\n",
       "      <th>PER_score</th>\n",
       "      <th></th>\n",
       "    </tr>\n",
       "  </thead>\n",
       "  <tbody>\n",
       "    <tr>\n",
       "      <th>1</th>\n",
       "      <td>-0.062</td>\n",
       "    </tr>\n",
       "    <tr>\n",
       "      <th>2</th>\n",
       "      <td>-0.083</td>\n",
       "    </tr>\n",
       "  </tbody>\n",
       "</table>\n",
       "</div>"
      ],
      "text/plain": [
       "             rtn\n",
       "PER_score       \n",
       "1         -0.062\n",
       "2         -0.083"
      ]
     },
     "execution_count": 73,
     "metadata": {},
     "output_type": "execute_result"
    }
   ],
   "source": [
    "# return type이 다를 수 있음에 주의\n",
    "g_df.groupby(\"PER_score\")['rtn'].agg(\"mean\").head(2)   # Series로 return\n",
    "g_df.groupby(\"PER_score\")[['rtn']].agg(\"mean\").head(2)  # DataFrame으로 return"
   ]
  },
  {
   "cell_type": "code",
   "execution_count": 74,
   "metadata": {},
   "outputs": [
    {
     "data": {
      "text/html": [
       "<div>\n",
       "<style scoped>\n",
       "    .dataframe tbody tr th:only-of-type {\n",
       "        vertical-align: middle;\n",
       "    }\n",
       "\n",
       "    .dataframe tbody tr th {\n",
       "        vertical-align: top;\n",
       "    }\n",
       "\n",
       "    .dataframe thead th {\n",
       "        text-align: right;\n",
       "    }\n",
       "</style>\n",
       "<table border=\"1\" class=\"dataframe\">\n",
       "  <thead>\n",
       "    <tr style=\"text-align: right;\">\n",
       "      <th></th>\n",
       "      <th>rtn</th>\n",
       "      <th>PBR(배)</th>\n",
       "    </tr>\n",
       "    <tr>\n",
       "      <th>PER_score</th>\n",
       "      <th></th>\n",
       "      <th></th>\n",
       "    </tr>\n",
       "  </thead>\n",
       "  <tbody>\n",
       "    <tr>\n",
       "      <th>1</th>\n",
       "      <td>-0.062</td>\n",
       "      <td>1.839</td>\n",
       "    </tr>\n",
       "    <tr>\n",
       "      <th>2</th>\n",
       "      <td>-0.083</td>\n",
       "      <td>1.323</td>\n",
       "    </tr>\n",
       "  </tbody>\n",
       "</table>\n",
       "</div>"
      ],
      "text/plain": [
       "             rtn  PBR(배)\n",
       "PER_score               \n",
       "1         -0.062   1.839\n",
       "2         -0.083   1.323"
      ]
     },
     "execution_count": 74,
     "metadata": {},
     "output_type": "execute_result"
    }
   ],
   "source": [
    "# 2개 이상의 컬럼에 대해 aggregation\n",
    "g_df.groupby(\"PER_score\")[['rtn', 'PBR(배)']].agg(\"mean\").head(2)"
   ]
  },
  {
   "cell_type": "code",
   "execution_count": 75,
   "metadata": {},
   "outputs": [
    {
     "data": {
      "text/html": [
       "<div>\n",
       "<style scoped>\n",
       "    .dataframe tbody tr th:only-of-type {\n",
       "        vertical-align: middle;\n",
       "    }\n",
       "\n",
       "    .dataframe tbody tr th {\n",
       "        vertical-align: top;\n",
       "    }\n",
       "\n",
       "    .dataframe thead tr th {\n",
       "        text-align: left;\n",
       "    }\n",
       "\n",
       "    .dataframe thead tr:last-of-type th {\n",
       "        text-align: right;\n",
       "    }\n",
       "</style>\n",
       "<table border=\"1\" class=\"dataframe\">\n",
       "  <thead>\n",
       "    <tr>\n",
       "      <th></th>\n",
       "      <th colspan=\"2\" halign=\"left\">rtn</th>\n",
       "      <th colspan=\"2\" halign=\"left\">PBR(배)</th>\n",
       "    </tr>\n",
       "    <tr>\n",
       "      <th></th>\n",
       "      <th>mean</th>\n",
       "      <th>std</th>\n",
       "      <th>mean</th>\n",
       "      <th>std</th>\n",
       "    </tr>\n",
       "    <tr>\n",
       "      <th>PER_score</th>\n",
       "      <th></th>\n",
       "      <th></th>\n",
       "      <th></th>\n",
       "      <th></th>\n",
       "    </tr>\n",
       "  </thead>\n",
       "  <tbody>\n",
       "    <tr>\n",
       "      <th>1</th>\n",
       "      <td>-0.062</td>\n",
       "      <td>0.328</td>\n",
       "      <td>1.839</td>\n",
       "      <td>2.215</td>\n",
       "    </tr>\n",
       "    <tr>\n",
       "      <th>2</th>\n",
       "      <td>-0.083</td>\n",
       "      <td>0.781</td>\n",
       "      <td>1.323</td>\n",
       "      <td>1.167</td>\n",
       "    </tr>\n",
       "  </tbody>\n",
       "</table>\n",
       "</div>"
      ],
      "text/plain": [
       "             rtn       PBR(배)      \n",
       "            mean   std   mean   std\n",
       "PER_score                          \n",
       "1         -0.062 0.328  1.839 2.215\n",
       "2         -0.083 0.781  1.323 1.167"
      ]
     },
     "execution_count": 75,
     "metadata": {},
     "output_type": "execute_result"
    }
   ],
   "source": [
    "# 2개 이상의 aggregation\n",
    "g_df.groupby(\"PER_score\")[['rtn', 'PBR(배)']].agg([\"mean\", \"std\"]).head(2)"
   ]
  },
  {
   "cell_type": "code",
   "execution_count": 76,
   "metadata": {},
   "outputs": [
    {
     "data": {
      "text/html": [
       "<div>\n",
       "<style scoped>\n",
       "    .dataframe tbody tr th:only-of-type {\n",
       "        vertical-align: middle;\n",
       "    }\n",
       "\n",
       "    .dataframe tbody tr th {\n",
       "        vertical-align: top;\n",
       "    }\n",
       "\n",
       "    .dataframe thead tr th {\n",
       "        text-align: left;\n",
       "    }\n",
       "\n",
       "    .dataframe thead tr:last-of-type th {\n",
       "        text-align: right;\n",
       "    }\n",
       "</style>\n",
       "<table border=\"1\" class=\"dataframe\">\n",
       "  <thead>\n",
       "    <tr>\n",
       "      <th></th>\n",
       "      <th colspan=\"2\" halign=\"left\">rtn</th>\n",
       "      <th>PER(배)</th>\n",
       "    </tr>\n",
       "    <tr>\n",
       "      <th></th>\n",
       "      <th>mean</th>\n",
       "      <th>std</th>\n",
       "      <th>min</th>\n",
       "    </tr>\n",
       "    <tr>\n",
       "      <th>PBR_score</th>\n",
       "      <th></th>\n",
       "      <th></th>\n",
       "      <th></th>\n",
       "    </tr>\n",
       "  </thead>\n",
       "  <tbody>\n",
       "    <tr>\n",
       "      <th>1</th>\n",
       "      <td>-0.001</td>\n",
       "      <td>0.262</td>\n",
       "      <td>-345.030</td>\n",
       "    </tr>\n",
       "    <tr>\n",
       "      <th>2</th>\n",
       "      <td>0.020</td>\n",
       "      <td>0.280</td>\n",
       "      <td>-319.356</td>\n",
       "    </tr>\n",
       "    <tr>\n",
       "      <th>3</th>\n",
       "      <td>-0.021</td>\n",
       "      <td>0.219</td>\n",
       "      <td>-10.614</td>\n",
       "    </tr>\n",
       "    <tr>\n",
       "      <th>4</th>\n",
       "      <td>0.161</td>\n",
       "      <td>0.770</td>\n",
       "      <td>-938.983</td>\n",
       "    </tr>\n",
       "    <tr>\n",
       "      <th>5</th>\n",
       "      <td>-0.012</td>\n",
       "      <td>0.265</td>\n",
       "      <td>-62.397</td>\n",
       "    </tr>\n",
       "    <tr>\n",
       "      <th>6</th>\n",
       "      <td>-0.043</td>\n",
       "      <td>0.251</td>\n",
       "      <td>-310.606</td>\n",
       "    </tr>\n",
       "    <tr>\n",
       "      <th>7</th>\n",
       "      <td>0.150</td>\n",
       "      <td>0.704</td>\n",
       "      <td>-107.741</td>\n",
       "    </tr>\n",
       "    <tr>\n",
       "      <th>8</th>\n",
       "      <td>0.058</td>\n",
       "      <td>0.472</td>\n",
       "      <td>-27857.496</td>\n",
       "    </tr>\n",
       "    <tr>\n",
       "      <th>9</th>\n",
       "      <td>0.139</td>\n",
       "      <td>0.669</td>\n",
       "      <td>-352.735</td>\n",
       "    </tr>\n",
       "    <tr>\n",
       "      <th>10</th>\n",
       "      <td>0.054</td>\n",
       "      <td>0.464</td>\n",
       "      <td>-442.464</td>\n",
       "    </tr>\n",
       "  </tbody>\n",
       "</table>\n",
       "</div>"
      ],
      "text/plain": [
       "             rtn           PER(배)\n",
       "            mean   std        min\n",
       "PBR_score                        \n",
       "1         -0.001 0.262   -345.030\n",
       "2          0.020 0.280   -319.356\n",
       "3         -0.021 0.219    -10.614\n",
       "4          0.161 0.770   -938.983\n",
       "5         -0.012 0.265    -62.397\n",
       "6         -0.043 0.251   -310.606\n",
       "7          0.150 0.704   -107.741\n",
       "8          0.058 0.472 -27857.496\n",
       "9          0.139 0.669   -352.735\n",
       "10         0.054 0.464   -442.464"
      ]
     },
     "execution_count": 76,
     "metadata": {},
     "output_type": "execute_result"
    }
   ],
   "source": [
    "# 2개 이상의 컬럼 & 각각에 대해 다른 aggregation\n",
    "g_df.groupby(\"PBR_score\").agg(\n",
    "    {\n",
    "        'rtn': ['mean', 'std'],\n",
    "        'PER(배)': ['min']\n",
    "        \n",
    "    }\n",
    ")"
   ]
  },
  {
   "cell_type": "markdown",
   "metadata": {},
   "source": [
    "- aggregation function이 아닌경우 => `agg()`가 error를 발생시킴\n"
   ]
  },
  {
   "cell_type": "code",
   "execution_count": 77,
   "metadata": {},
   "outputs": [
    {
     "data": {
      "text/plain": [
       "array([1.        , 1.41421356, 1.73205081, 2.        ])"
      ]
     },
     "execution_count": 77,
     "metadata": {},
     "output_type": "execute_result"
    }
   ],
   "source": [
    "# sqrt는 aggregation 방식의 연산이 아님!\n",
    "np.sqrt([1, 2, 3, 4])"
   ]
  },
  {
   "cell_type": "code",
   "execution_count": 78,
   "metadata": {},
   "outputs": [
    {
     "name": "stderr",
     "output_type": "stream",
     "text": [
      "C:\\Users\\pacific\\miniconda3\\envs\\py39_64bits\\lib\\site-packages\\pandas\\core\\arraylike.py:364: RuntimeWarning: invalid value encountered in sqrt\n",
      "  result = getattr(ufunc, method)(*inputs, **kwargs)\n"
     ]
    },
    {
     "ename": "ValueError",
     "evalue": "Must produce aggregated value",
     "output_type": "error",
     "traceback": [
      "\u001b[1;31m---------------------------------------------------------------------------\u001b[0m",
      "\u001b[1;31mValueError\u001b[0m                                Traceback (most recent call last)",
      "\u001b[1;32m~\\AppData\\Local\\Temp/ipykernel_7672/4232090379.py\u001b[0m in \u001b[0;36m<module>\u001b[1;34m\u001b[0m\n\u001b[1;32m----> 1\u001b[1;33m \u001b[0mg_df\u001b[0m\u001b[1;33m.\u001b[0m\u001b[0mgroupby\u001b[0m\u001b[1;33m(\u001b[0m\u001b[1;34m\"PER_score\"\u001b[0m\u001b[1;33m)\u001b[0m\u001b[1;33m[\u001b[0m\u001b[1;34m'rtn'\u001b[0m\u001b[1;33m]\u001b[0m\u001b[1;33m.\u001b[0m\u001b[0magg\u001b[0m\u001b[1;33m(\u001b[0m\u001b[0mnp\u001b[0m\u001b[1;33m.\u001b[0m\u001b[0msqrt\u001b[0m\u001b[1;33m)\u001b[0m\u001b[1;33m\u001b[0m\u001b[1;33m\u001b[0m\u001b[0m\n\u001b[0m",
      "\u001b[1;32m~\\miniconda3\\envs\\py39_64bits\\lib\\site-packages\\pandas\\core\\groupby\\generic.py\u001b[0m in \u001b[0;36maggregate\u001b[1;34m(self, func, engine, engine_kwargs, *args, **kwargs)\u001b[0m\n\u001b[0;32m    263\u001b[0m \u001b[1;33m\u001b[0m\u001b[0m\n\u001b[0;32m    264\u001b[0m             \u001b[1;32mtry\u001b[0m\u001b[1;33m:\u001b[0m\u001b[1;33m\u001b[0m\u001b[1;33m\u001b[0m\u001b[0m\n\u001b[1;32m--> 265\u001b[1;33m                 \u001b[1;32mreturn\u001b[0m \u001b[0mself\u001b[0m\u001b[1;33m.\u001b[0m\u001b[0m_python_agg_general\u001b[0m\u001b[1;33m(\u001b[0m\u001b[0mfunc\u001b[0m\u001b[1;33m,\u001b[0m \u001b[1;33m*\u001b[0m\u001b[0margs\u001b[0m\u001b[1;33m,\u001b[0m \u001b[1;33m**\u001b[0m\u001b[0mkwargs\u001b[0m\u001b[1;33m)\u001b[0m\u001b[1;33m\u001b[0m\u001b[1;33m\u001b[0m\u001b[0m\n\u001b[0m\u001b[0;32m    266\u001b[0m             \u001b[1;32mexcept\u001b[0m \u001b[0mKeyError\u001b[0m\u001b[1;33m:\u001b[0m\u001b[1;33m\u001b[0m\u001b[1;33m\u001b[0m\u001b[0m\n\u001b[0;32m    267\u001b[0m                 \u001b[1;31m# TODO: KeyError is raised in _python_agg_general,\u001b[0m\u001b[1;33m\u001b[0m\u001b[1;33m\u001b[0m\u001b[0m\n",
      "\u001b[1;32m~\\miniconda3\\envs\\py39_64bits\\lib\\site-packages\\pandas\\core\\groupby\\groupby.py\u001b[0m in \u001b[0;36m_python_agg_general\u001b[1;34m(self, func, *args, **kwargs)\u001b[0m\n\u001b[0;32m   1330\u001b[0m             \u001b[1;32mtry\u001b[0m\u001b[1;33m:\u001b[0m\u001b[1;33m\u001b[0m\u001b[1;33m\u001b[0m\u001b[0m\n\u001b[0;32m   1331\u001b[0m                 \u001b[1;31m# if this function is invalid for this dtype, we will ignore it.\u001b[0m\u001b[1;33m\u001b[0m\u001b[1;33m\u001b[0m\u001b[0m\n\u001b[1;32m-> 1332\u001b[1;33m                 \u001b[0mresult\u001b[0m \u001b[1;33m=\u001b[0m \u001b[0mself\u001b[0m\u001b[1;33m.\u001b[0m\u001b[0mgrouper\u001b[0m\u001b[1;33m.\u001b[0m\u001b[0magg_series\u001b[0m\u001b[1;33m(\u001b[0m\u001b[0mobj\u001b[0m\u001b[1;33m,\u001b[0m \u001b[0mf\u001b[0m\u001b[1;33m)\u001b[0m\u001b[1;33m\u001b[0m\u001b[1;33m\u001b[0m\u001b[0m\n\u001b[0m\u001b[0;32m   1333\u001b[0m             \u001b[1;32mexcept\u001b[0m \u001b[0mTypeError\u001b[0m\u001b[1;33m:\u001b[0m\u001b[1;33m\u001b[0m\u001b[1;33m\u001b[0m\u001b[0m\n\u001b[0;32m   1334\u001b[0m                 warnings.warn(\n",
      "\u001b[1;32m~\\miniconda3\\envs\\py39_64bits\\lib\\site-packages\\pandas\\core\\groupby\\ops.py\u001b[0m in \u001b[0;36magg_series\u001b[1;34m(self, obj, func, preserve_dtype)\u001b[0m\n\u001b[0;32m   1047\u001b[0m \u001b[1;33m\u001b[0m\u001b[0m\n\u001b[0;32m   1048\u001b[0m         \u001b[1;32melse\u001b[0m\u001b[1;33m:\u001b[0m\u001b[1;33m\u001b[0m\u001b[1;33m\u001b[0m\u001b[0m\n\u001b[1;32m-> 1049\u001b[1;33m             \u001b[0mresult\u001b[0m \u001b[1;33m=\u001b[0m \u001b[0mself\u001b[0m\u001b[1;33m.\u001b[0m\u001b[0m_aggregate_series_fast\u001b[0m\u001b[1;33m(\u001b[0m\u001b[0mobj\u001b[0m\u001b[1;33m,\u001b[0m \u001b[0mfunc\u001b[0m\u001b[1;33m)\u001b[0m\u001b[1;33m\u001b[0m\u001b[1;33m\u001b[0m\u001b[0m\n\u001b[0m\u001b[0;32m   1050\u001b[0m \u001b[1;33m\u001b[0m\u001b[0m\n\u001b[0;32m   1051\u001b[0m         \u001b[0mnpvalues\u001b[0m \u001b[1;33m=\u001b[0m \u001b[0mlib\u001b[0m\u001b[1;33m.\u001b[0m\u001b[0mmaybe_convert_objects\u001b[0m\u001b[1;33m(\u001b[0m\u001b[0mresult\u001b[0m\u001b[1;33m,\u001b[0m \u001b[0mtry_float\u001b[0m\u001b[1;33m=\u001b[0m\u001b[1;32mFalse\u001b[0m\u001b[1;33m)\u001b[0m\u001b[1;33m\u001b[0m\u001b[1;33m\u001b[0m\u001b[0m\n",
      "\u001b[1;32m~\\miniconda3\\envs\\py39_64bits\\lib\\site-packages\\pandas\\core\\groupby\\ops.py\u001b[0m in \u001b[0;36m_aggregate_series_fast\u001b[1;34m(self, obj, func)\u001b[0m\n\u001b[0;32m   1072\u001b[0m         \u001b[0mids\u001b[0m \u001b[1;33m=\u001b[0m \u001b[0mids\u001b[0m\u001b[1;33m.\u001b[0m\u001b[0mtake\u001b[0m\u001b[1;33m(\u001b[0m\u001b[0mindexer\u001b[0m\u001b[1;33m)\u001b[0m\u001b[1;33m\u001b[0m\u001b[1;33m\u001b[0m\u001b[0m\n\u001b[0;32m   1073\u001b[0m         \u001b[0msgrouper\u001b[0m \u001b[1;33m=\u001b[0m \u001b[0mlibreduction\u001b[0m\u001b[1;33m.\u001b[0m\u001b[0mSeriesGrouper\u001b[0m\u001b[1;33m(\u001b[0m\u001b[0mobj\u001b[0m\u001b[1;33m,\u001b[0m \u001b[0mfunc\u001b[0m\u001b[1;33m,\u001b[0m \u001b[0mids\u001b[0m\u001b[1;33m,\u001b[0m \u001b[0mngroups\u001b[0m\u001b[1;33m)\u001b[0m\u001b[1;33m\u001b[0m\u001b[1;33m\u001b[0m\u001b[0m\n\u001b[1;32m-> 1074\u001b[1;33m         \u001b[0mresult\u001b[0m\u001b[1;33m,\u001b[0m \u001b[0m_\u001b[0m \u001b[1;33m=\u001b[0m \u001b[0msgrouper\u001b[0m\u001b[1;33m.\u001b[0m\u001b[0mget_result\u001b[0m\u001b[1;33m(\u001b[0m\u001b[1;33m)\u001b[0m\u001b[1;33m\u001b[0m\u001b[1;33m\u001b[0m\u001b[0m\n\u001b[0m\u001b[0;32m   1075\u001b[0m         \u001b[1;32mreturn\u001b[0m \u001b[0mresult\u001b[0m\u001b[1;33m\u001b[0m\u001b[1;33m\u001b[0m\u001b[0m\n\u001b[0;32m   1076\u001b[0m \u001b[1;33m\u001b[0m\u001b[0m\n",
      "\u001b[1;32m~\\miniconda3\\envs\\py39_64bits\\lib\\site-packages\\pandas\\_libs\\reduction.pyx\u001b[0m in \u001b[0;36mpandas._libs.reduction.SeriesGrouper.get_result\u001b[1;34m()\u001b[0m\n",
      "\u001b[1;32m~\\miniconda3\\envs\\py39_64bits\\lib\\site-packages\\pandas\\_libs\\reduction.pyx\u001b[0m in \u001b[0;36mpandas._libs.reduction._BaseGrouper._apply_to_group\u001b[1;34m()\u001b[0m\n",
      "\u001b[1;32m~\\miniconda3\\envs\\py39_64bits\\lib\\site-packages\\pandas\\_libs\\reduction.pyx\u001b[0m in \u001b[0;36mpandas._libs.reduction.check_result_array\u001b[1;34m()\u001b[0m\n",
      "\u001b[1;31mValueError\u001b[0m: Must produce aggregated value"
     ]
    }
   ],
   "source": [
    "g_df.groupby(\"PER_score\")['rtn'].agg(np.sqrt)"
   ]
  },
  {
   "cell_type": "markdown",
   "metadata": {},
   "source": [
    " "
   ]
  },
  {
   "cell_type": "markdown",
   "metadata": {},
   "source": [
    " "
   ]
  },
  {
   "cell_type": "markdown",
   "metadata": {},
   "source": [
    "- Visualization(시각화) 맛보기"
   ]
  },
  {
   "cell_type": "code",
   "execution_count": 79,
   "metadata": {},
   "outputs": [],
   "source": [
    "%matplotlib inline"
   ]
  },
  {
   "cell_type": "code",
   "execution_count": 80,
   "metadata": {},
   "outputs": [
    {
     "data": {
      "text/plain": [
       "<AxesSubplot:xlabel='PBR_score'>"
      ]
     },
     "execution_count": 80,
     "metadata": {},
     "output_type": "execute_result"
    },
    {
     "data": {
      "image/png": "[encoded data removed]",
      "text/plain": [
       "<Figure size 432x288 with 1 Axes>"
      ]
     },
     "metadata": {
      "needs_background": "light"
     },
     "output_type": "display_data"
    }
   ],
   "source": [
    "pbr_rtn_df.plot(kind='bar')"
   ]
  },
  {
   "cell_type": "code",
   "execution_count": 81,
   "metadata": {},
   "outputs": [
    {
     "data": {
      "image/png": "[encoded data removed]",
      "text/plain": [
       "<Figure size 432x288 with 1 Axes>"
      ]
     },
     "metadata": {
      "needs_background": "light"
     },
     "output_type": "display_data"
    },
    {
     "data": {
      "image/png": "[encoded data removed]",
      "text/plain": [
       "<Figure size 432x288 with 1 Axes>"
      ]
     },
     "metadata": {
      "needs_background": "light"
     },
     "output_type": "display_data"
    }
   ],
   "source": [
    "pbr_rtn_df.plot(kind='bar');\n",
    "per_rtn_df.plot(kind='bar');"
   ]
  },
  {
   "cell_type": "markdown",
   "metadata": {},
   "source": [
    " "
   ]
  },
  {
   "cell_type": "markdown",
   "metadata": {},
   "source": [
    " "
   ]
  },
  {
   "cell_type": "markdown",
   "metadata": {},
   "source": [
    " "
   ]
  },
  {
   "cell_type": "markdown",
   "metadata": {},
   "source": [
    " "
   ]
  },
  {
   "cell_type": "markdown",
   "metadata": {},
   "source": [
    " "
   ]
  },
  {
   "cell_type": "markdown",
   "metadata": {},
   "source": [
    " "
   ]
  },
  {
   "cell_type": "markdown",
   "metadata": {},
   "source": [
    "### Examples"
   ]
  },
  {
   "cell_type": "code",
   "execution_count": 82,
   "metadata": {},
   "outputs": [
    {
     "data": {
      "text/html": [
       "<div>\n",
       "<style scoped>\n",
       "    .dataframe tbody tr th:only-of-type {\n",
       "        vertical-align: middle;\n",
       "    }\n",
       "\n",
       "    .dataframe tbody tr th {\n",
       "        vertical-align: top;\n",
       "    }\n",
       "\n",
       "    .dataframe thead tr th {\n",
       "        text-align: left;\n",
       "    }\n",
       "\n",
       "    .dataframe thead tr:last-of-type th {\n",
       "        text-align: right;\n",
       "    }\n",
       "</style>\n",
       "<table border=\"1\" class=\"dataframe\">\n",
       "  <thead>\n",
       "    <tr>\n",
       "      <th></th>\n",
       "      <th></th>\n",
       "      <th colspan=\"4\" halign=\"left\">rtn</th>\n",
       "      <th colspan=\"4\" halign=\"left\">ROE(%)</th>\n",
       "    </tr>\n",
       "    <tr>\n",
       "      <th></th>\n",
       "      <th></th>\n",
       "      <th>mean</th>\n",
       "      <th>std</th>\n",
       "      <th>min</th>\n",
       "      <th>max</th>\n",
       "      <th>mean</th>\n",
       "      <th>size</th>\n",
       "      <th>nunique</th>\n",
       "      <th>idxmax</th>\n",
       "    </tr>\n",
       "    <tr>\n",
       "      <th>PBR_score</th>\n",
       "      <th>PER_score</th>\n",
       "      <th></th>\n",
       "      <th></th>\n",
       "      <th></th>\n",
       "      <th></th>\n",
       "      <th></th>\n",
       "      <th></th>\n",
       "      <th></th>\n",
       "      <th></th>\n",
       "    </tr>\n",
       "  </thead>\n",
       "  <tbody>\n",
       "    <tr>\n",
       "      <th rowspan=\"5\" valign=\"top\">1</th>\n",
       "      <th>1</th>\n",
       "      <td>-0.100</td>\n",
       "      <td>0.072</td>\n",
       "      <td>-0.196</td>\n",
       "      <td>0.003</td>\n",
       "      <td>-1.402</td>\n",
       "      <td>5</td>\n",
       "      <td>5</td>\n",
       "      <td>한국수출포장공업</td>\n",
       "    </tr>\n",
       "    <tr>\n",
       "      <th>2</th>\n",
       "      <td>-0.093</td>\n",
       "      <td>0.266</td>\n",
       "      <td>-0.482</td>\n",
       "      <td>0.437</td>\n",
       "      <td>154.967</td>\n",
       "      <td>11</td>\n",
       "      <td>11</td>\n",
       "      <td>삼부토건</td>\n",
       "    </tr>\n",
       "    <tr>\n",
       "      <th>3</th>\n",
       "      <td>0.117</td>\n",
       "      <td>0.359</td>\n",
       "      <td>-0.556</td>\n",
       "      <td>0.683</td>\n",
       "      <td>6.952</td>\n",
       "      <td>11</td>\n",
       "      <td>11</td>\n",
       "      <td>한국전력공사</td>\n",
       "    </tr>\n",
       "    <tr>\n",
       "      <th>4</th>\n",
       "      <td>0.106</td>\n",
       "      <td>0.295</td>\n",
       "      <td>-0.273</td>\n",
       "      <td>0.882</td>\n",
       "      <td>5.104</td>\n",
       "      <td>11</td>\n",
       "      <td>11</td>\n",
       "      <td>한국공항</td>\n",
       "    </tr>\n",
       "    <tr>\n",
       "      <th>5</th>\n",
       "      <td>-0.039</td>\n",
       "      <td>0.120</td>\n",
       "      <td>-0.206</td>\n",
       "      <td>0.113</td>\n",
       "      <td>3.941</td>\n",
       "      <td>7</td>\n",
       "      <td>7</td>\n",
       "      <td>성창기업지주</td>\n",
       "    </tr>\n",
       "  </tbody>\n",
       "</table>\n",
       "</div>"
      ],
      "text/plain": [
       "                       rtn                     ROE(%)                       \n",
       "                      mean   std    min   max    mean size nunique    idxmax\n",
       "PBR_score PER_score                                                         \n",
       "1         1         -0.100 0.072 -0.196 0.003  -1.402    5       5  한국수출포장공업\n",
       "          2         -0.093 0.266 -0.482 0.437 154.967   11      11      삼부토건\n",
       "          3          0.117 0.359 -0.556 0.683   6.952   11      11    한국전력공사\n",
       "          4          0.106 0.295 -0.273 0.882   5.104   11      11      한국공항\n",
       "          5         -0.039 0.120 -0.206 0.113   3.941    7       7    성창기업지주"
      ]
     },
     "execution_count": 82,
     "metadata": {},
     "output_type": "execute_result"
    }
   ],
   "source": [
    "g_df1 = g_df.groupby([\"PBR_score\", \"PER_score\"])\\\n",
    "            .agg(\n",
    "                {\n",
    "                    'rtn': ['mean', 'std', 'min', 'max'],\n",
    "                    'ROE(%)': [np.mean, 'size', 'nunique', 'idxmax'] \n",
    "                 }\n",
    "            )\n",
    "g_df1.head()"
   ]
  },
  {
   "cell_type": "code",
   "execution_count": 83,
   "metadata": {},
   "outputs": [
    {
     "name": "stderr",
     "output_type": "stream",
     "text": [
      "C:\\Users\\pacific\\AppData\\Local\\Temp/ipykernel_7672/3376508614.py:1: FutureWarning: Indexing with multiple keys (implicitly converted to a tuple of keys) will be deprecated, use a list instead.\n",
      "  a = g_df.groupby([\"PBR_score\", \"PER_score\"])['rtn', 'ROE(%)'].agg(['sum', 'mean'])\n"
     ]
    }
   ],
   "source": [
    "a = g_df.groupby([\"PBR_score\", \"PER_score\"])['rtn', 'ROE(%)'].agg(['sum', 'mean'])"
   ]
  },
  {
   "cell_type": "code",
   "execution_count": 84,
   "metadata": {},
   "outputs": [
    {
     "data": {
      "text/html": [
       "<div>\n",
       "<style scoped>\n",
       "    .dataframe tbody tr th:only-of-type {\n",
       "        vertical-align: middle;\n",
       "    }\n",
       "\n",
       "    .dataframe tbody tr th {\n",
       "        vertical-align: top;\n",
       "    }\n",
       "\n",
       "    .dataframe thead tr th {\n",
       "        text-align: left;\n",
       "    }\n",
       "\n",
       "    .dataframe thead tr:last-of-type th {\n",
       "        text-align: right;\n",
       "    }\n",
       "</style>\n",
       "<table border=\"1\" class=\"dataframe\">\n",
       "  <thead>\n",
       "    <tr>\n",
       "      <th></th>\n",
       "      <th colspan=\"2\" halign=\"left\">rtn</th>\n",
       "      <th colspan=\"2\" halign=\"left\">ROE(%)</th>\n",
       "    </tr>\n",
       "    <tr>\n",
       "      <th></th>\n",
       "      <th>sum</th>\n",
       "      <th>mean</th>\n",
       "      <th>sum</th>\n",
       "      <th>mean</th>\n",
       "    </tr>\n",
       "    <tr>\n",
       "      <th>PER_score</th>\n",
       "      <th></th>\n",
       "      <th></th>\n",
       "      <th></th>\n",
       "      <th></th>\n",
       "    </tr>\n",
       "  </thead>\n",
       "  <tbody>\n",
       "    <tr>\n",
       "      <th>1</th>\n",
       "      <td>-0.499</td>\n",
       "      <td>-0.100</td>\n",
       "      <td>-7.009</td>\n",
       "      <td>-1.402</td>\n",
       "    </tr>\n",
       "    <tr>\n",
       "      <th>2</th>\n",
       "      <td>-1.025</td>\n",
       "      <td>-0.093</td>\n",
       "      <td>1704.634</td>\n",
       "      <td>154.967</td>\n",
       "    </tr>\n",
       "    <tr>\n",
       "      <th>3</th>\n",
       "      <td>1.290</td>\n",
       "      <td>0.117</td>\n",
       "      <td>76.477</td>\n",
       "      <td>6.952</td>\n",
       "    </tr>\n",
       "    <tr>\n",
       "      <th>4</th>\n",
       "      <td>1.165</td>\n",
       "      <td>0.106</td>\n",
       "      <td>56.146</td>\n",
       "      <td>5.104</td>\n",
       "    </tr>\n",
       "    <tr>\n",
       "      <th>5</th>\n",
       "      <td>-0.275</td>\n",
       "      <td>-0.039</td>\n",
       "      <td>27.590</td>\n",
       "      <td>3.941</td>\n",
       "    </tr>\n",
       "    <tr>\n",
       "      <th>6</th>\n",
       "      <td>-0.666</td>\n",
       "      <td>-0.333</td>\n",
       "      <td>6.710</td>\n",
       "      <td>3.355</td>\n",
       "    </tr>\n",
       "    <tr>\n",
       "      <th>7</th>\n",
       "      <td>-0.126</td>\n",
       "      <td>-0.031</td>\n",
       "      <td>11.435</td>\n",
       "      <td>2.859</td>\n",
       "    </tr>\n",
       "    <tr>\n",
       "      <th>8</th>\n",
       "      <td>0.000</td>\n",
       "      <td>NaN</td>\n",
       "      <td>0.000</td>\n",
       "      <td>NaN</td>\n",
       "    </tr>\n",
       "    <tr>\n",
       "      <th>9</th>\n",
       "      <td>-0.175</td>\n",
       "      <td>-0.058</td>\n",
       "      <td>3.039</td>\n",
       "      <td>1.013</td>\n",
       "    </tr>\n",
       "    <tr>\n",
       "      <th>10</th>\n",
       "      <td>0.226</td>\n",
       "      <td>0.032</td>\n",
       "      <td>2.873</td>\n",
       "      <td>0.410</td>\n",
       "    </tr>\n",
       "  </tbody>\n",
       "</table>\n",
       "</div>"
      ],
      "text/plain": [
       "             rtn          ROE(%)        \n",
       "             sum   mean      sum    mean\n",
       "PER_score                               \n",
       "1         -0.499 -0.100   -7.009  -1.402\n",
       "2         -1.025 -0.093 1704.634 154.967\n",
       "3          1.290  0.117   76.477   6.952\n",
       "4          1.165  0.106   56.146   5.104\n",
       "5         -0.275 -0.039   27.590   3.941\n",
       "6         -0.666 -0.333    6.710   3.355\n",
       "7         -0.126 -0.031   11.435   2.859\n",
       "8          0.000    NaN    0.000     NaN\n",
       "9         -0.175 -0.058    3.039   1.013\n",
       "10         0.226  0.032    2.873   0.410"
      ]
     },
     "execution_count": 84,
     "metadata": {},
     "output_type": "execute_result"
    },
    {
     "data": {
      "text/plain": [
       "rtn     sum     1.290\n",
       "        mean    0.117\n",
       "ROE(%)  sum    76.477\n",
       "        mean    6.952\n",
       "Name: (1, 3), dtype: float64"
      ]
     },
     "execution_count": 84,
     "metadata": {},
     "output_type": "execute_result"
    },
    {
     "data": {
      "text/html": [
       "<div>\n",
       "<style scoped>\n",
       "    .dataframe tbody tr th:only-of-type {\n",
       "        vertical-align: middle;\n",
       "    }\n",
       "\n",
       "    .dataframe tbody tr th {\n",
       "        vertical-align: top;\n",
       "    }\n",
       "\n",
       "    .dataframe thead tr th {\n",
       "        text-align: left;\n",
       "    }\n",
       "\n",
       "    .dataframe thead tr:last-of-type th {\n",
       "        text-align: right;\n",
       "    }\n",
       "</style>\n",
       "<table border=\"1\" class=\"dataframe\">\n",
       "  <thead>\n",
       "    <tr>\n",
       "      <th></th>\n",
       "      <th></th>\n",
       "      <th colspan=\"2\" halign=\"left\">rtn</th>\n",
       "      <th colspan=\"2\" halign=\"left\">ROE(%)</th>\n",
       "    </tr>\n",
       "    <tr>\n",
       "      <th></th>\n",
       "      <th></th>\n",
       "      <th>sum</th>\n",
       "      <th>mean</th>\n",
       "      <th>sum</th>\n",
       "      <th>mean</th>\n",
       "    </tr>\n",
       "    <tr>\n",
       "      <th>PBR_score</th>\n",
       "      <th>PER_score</th>\n",
       "      <th></th>\n",
       "      <th></th>\n",
       "      <th></th>\n",
       "      <th></th>\n",
       "    </tr>\n",
       "  </thead>\n",
       "  <tbody>\n",
       "    <tr>\n",
       "      <th rowspan=\"2\" valign=\"top\">1</th>\n",
       "      <th>3</th>\n",
       "      <td>1.290</td>\n",
       "      <td>0.117</td>\n",
       "      <td>76.477</td>\n",
       "      <td>6.952</td>\n",
       "    </tr>\n",
       "    <tr>\n",
       "      <th>4</th>\n",
       "      <td>1.165</td>\n",
       "      <td>0.106</td>\n",
       "      <td>56.146</td>\n",
       "      <td>5.104</td>\n",
       "    </tr>\n",
       "  </tbody>\n",
       "</table>\n",
       "</div>"
      ],
      "text/plain": [
       "                      rtn       ROE(%)      \n",
       "                      sum  mean    sum  mean\n",
       "PBR_score PER_score                         \n",
       "1         3         1.290 0.117 76.477 6.952\n",
       "          4         1.165 0.106 56.146 5.104"
      ]
     },
     "execution_count": 84,
     "metadata": {},
     "output_type": "execute_result"
    }
   ],
   "source": [
    "# Multi-index라고 해서 쫄 것 없음!\n",
    "a.loc[1]\n",
    "a.loc[(1, 3)]\n",
    "a.loc[[(1, 3), (1, 4 )]]"
   ]
  },
  {
   "cell_type": "markdown",
   "metadata": {},
   "source": [
    " "
   ]
  },
  {
   "cell_type": "markdown",
   "metadata": {},
   "source": [
    " "
   ]
  },
  {
   "cell_type": "markdown",
   "metadata": {},
   "source": [
    " "
   ]
  },
  {
   "cell_type": "markdown",
   "metadata": {},
   "source": [
    " "
   ]
  },
  {
   "cell_type": "markdown",
   "metadata": {},
   "source": [
    "### 주의: nan은 groupby시 자동으로 filter out 되기 때문에, 미리 전처리 다 하는게 좋음 "
   ]
  },
  {
   "cell_type": "code",
   "execution_count": 85,
   "metadata": {},
   "outputs": [
    {
     "data": {
      "text/html": [
       "<div>\n",
       "<style scoped>\n",
       "    .dataframe tbody tr th:only-of-type {\n",
       "        vertical-align: middle;\n",
       "    }\n",
       "\n",
       "    .dataframe tbody tr th {\n",
       "        vertical-align: top;\n",
       "    }\n",
       "\n",
       "    .dataframe thead th {\n",
       "        text-align: right;\n",
       "    }\n",
       "</style>\n",
       "<table border=\"1\" class=\"dataframe\">\n",
       "  <thead>\n",
       "    <tr style=\"text-align: right;\">\n",
       "      <th></th>\n",
       "      <th>a</th>\n",
       "      <th>b</th>\n",
       "    </tr>\n",
       "  </thead>\n",
       "  <tbody>\n",
       "    <tr>\n",
       "      <th>0</th>\n",
       "      <td>소형주</td>\n",
       "      <td>NaN</td>\n",
       "    </tr>\n",
       "    <tr>\n",
       "      <th>1</th>\n",
       "      <td>NaN</td>\n",
       "      <td>2.000</td>\n",
       "    </tr>\n",
       "    <tr>\n",
       "      <th>2</th>\n",
       "      <td>대형주</td>\n",
       "      <td>3.000</td>\n",
       "    </tr>\n",
       "    <tr>\n",
       "      <th>3</th>\n",
       "      <td>대형주</td>\n",
       "      <td>NaN</td>\n",
       "    </tr>\n",
       "  </tbody>\n",
       "</table>\n",
       "</div>"
      ],
      "text/plain": [
       "     a     b\n",
       "0  소형주   NaN\n",
       "1  NaN 2.000\n",
       "2  대형주 3.000\n",
       "3  대형주   NaN"
      ]
     },
     "execution_count": 85,
     "metadata": {},
     "output_type": "execute_result"
    }
   ],
   "source": [
    "df = pd.DataFrame({\n",
    "    'a':['소형주', np.nan, '대형주', '대형주'],\n",
    "    'b':[np.nan, 2,         3,     np.nan],\n",
    "})\n",
    "df"
   ]
  },
  {
   "cell_type": "code",
   "execution_count": 86,
   "metadata": {},
   "outputs": [
    {
     "data": {
      "text/plain": [
       "a\n",
       "대형주   3.000\n",
       "소형주     NaN\n",
       "Name: b, dtype: float64"
      ]
     },
     "execution_count": 86,
     "metadata": {},
     "output_type": "execute_result"
    }
   ],
   "source": [
    "df.groupby(['a'])['b'].mean()"
   ]
  },
  {
   "cell_type": "markdown",
   "metadata": {},
   "source": [
    " "
   ]
  },
  {
   "cell_type": "markdown",
   "metadata": {},
   "source": [
    " "
   ]
  },
  {
   "cell_type": "markdown",
   "metadata": {},
   "source": [
    " "
   ]
  },
  {
   "cell_type": "markdown",
   "metadata": {},
   "source": [
    " "
   ]
  },
  {
   "cell_type": "markdown",
   "metadata": {},
   "source": [
    " "
   ]
  },
  {
   "cell_type": "markdown",
   "metadata": {},
   "source": [
    " "
   ]
  },
  {
   "cell_type": "markdown",
   "metadata": {},
   "source": [
    "###  `as_index = False` : group cols들이 index가 아니라 하나의 col이 됨 (aggregate하고 reset_index()를 취한 것)"
   ]
  },
  {
   "cell_type": "code",
   "execution_count": 87,
   "metadata": {},
   "outputs": [],
   "source": [
    "a = g_df.groupby([\"PER_score\"]                ).agg({'rtn': ['mean', 'std']}).head(2)\n",
    "b = g_df.groupby([\"PER_score\"], as_index=False).agg({'rtn': ['mean', 'std']}).head(2)"
   ]
  },
  {
   "cell_type": "code",
   "execution_count": 88,
   "metadata": {},
   "outputs": [
    {
     "data": {
      "text/html": [
       "<div>\n",
       "<style scoped>\n",
       "    .dataframe tbody tr th:only-of-type {\n",
       "        vertical-align: middle;\n",
       "    }\n",
       "\n",
       "    .dataframe tbody tr th {\n",
       "        vertical-align: top;\n",
       "    }\n",
       "\n",
       "    .dataframe thead tr th {\n",
       "        text-align: left;\n",
       "    }\n",
       "\n",
       "    .dataframe thead tr:last-of-type th {\n",
       "        text-align: right;\n",
       "    }\n",
       "</style>\n",
       "<table border=\"1\" class=\"dataframe\">\n",
       "  <thead>\n",
       "    <tr>\n",
       "      <th></th>\n",
       "      <th colspan=\"2\" halign=\"left\">rtn</th>\n",
       "    </tr>\n",
       "    <tr>\n",
       "      <th></th>\n",
       "      <th>mean</th>\n",
       "      <th>std</th>\n",
       "    </tr>\n",
       "    <tr>\n",
       "      <th>PER_score</th>\n",
       "      <th></th>\n",
       "      <th></th>\n",
       "    </tr>\n",
       "  </thead>\n",
       "  <tbody>\n",
       "    <tr>\n",
       "      <th>1</th>\n",
       "      <td>-0.062</td>\n",
       "      <td>0.328</td>\n",
       "    </tr>\n",
       "    <tr>\n",
       "      <th>2</th>\n",
       "      <td>-0.083</td>\n",
       "      <td>0.781</td>\n",
       "    </tr>\n",
       "  </tbody>\n",
       "</table>\n",
       "</div>"
      ],
      "text/plain": [
       "             rtn      \n",
       "            mean   std\n",
       "PER_score             \n",
       "1         -0.062 0.328\n",
       "2         -0.083 0.781"
      ]
     },
     "execution_count": 88,
     "metadata": {},
     "output_type": "execute_result"
    },
    {
     "data": {
      "text/html": [
       "<div>\n",
       "<style scoped>\n",
       "    .dataframe tbody tr th:only-of-type {\n",
       "        vertical-align: middle;\n",
       "    }\n",
       "\n",
       "    .dataframe tbody tr th {\n",
       "        vertical-align: top;\n",
       "    }\n",
       "\n",
       "    .dataframe thead tr th {\n",
       "        text-align: left;\n",
       "    }\n",
       "</style>\n",
       "<table border=\"1\" class=\"dataframe\">\n",
       "  <thead>\n",
       "    <tr>\n",
       "      <th></th>\n",
       "      <th>PER_score</th>\n",
       "      <th colspan=\"2\" halign=\"left\">rtn</th>\n",
       "    </tr>\n",
       "    <tr>\n",
       "      <th></th>\n",
       "      <th></th>\n",
       "      <th>mean</th>\n",
       "      <th>std</th>\n",
       "    </tr>\n",
       "  </thead>\n",
       "  <tbody>\n",
       "    <tr>\n",
       "      <th>0</th>\n",
       "      <td>1</td>\n",
       "      <td>-0.062</td>\n",
       "      <td>0.328</td>\n",
       "    </tr>\n",
       "    <tr>\n",
       "      <th>1</th>\n",
       "      <td>2</td>\n",
       "      <td>-0.083</td>\n",
       "      <td>0.781</td>\n",
       "    </tr>\n",
       "  </tbody>\n",
       "</table>\n",
       "</div>"
      ],
      "text/plain": [
       "  PER_score    rtn      \n",
       "              mean   std\n",
       "0         1 -0.062 0.328\n",
       "1         2 -0.083 0.781"
      ]
     },
     "execution_count": 88,
     "metadata": {},
     "output_type": "execute_result"
    }
   ],
   "source": [
    "a\n",
    "b"
   ]
  },
  {
   "cell_type": "code",
   "execution_count": 89,
   "metadata": {},
   "outputs": [
    {
     "data": {
      "text/plain": [
       "CategoricalIndex([1, 2], categories=[1, 2, 3, 4, 5, 6, 7, 8, ...], ordered=True, dtype='category', name='PER_score')"
      ]
     },
     "execution_count": 89,
     "metadata": {},
     "output_type": "execute_result"
    },
    {
     "data": {
      "text/plain": [
       "MultiIndex([('rtn', 'mean'),\n",
       "            ('rtn',  'std')],\n",
       "           )"
      ]
     },
     "execution_count": 89,
     "metadata": {},
     "output_type": "execute_result"
    }
   ],
   "source": [
    "a.index\n",
    "a.columns"
   ]
  },
  {
   "cell_type": "code",
   "execution_count": 90,
   "metadata": {},
   "outputs": [
    {
     "data": {
      "text/plain": [
       "RangeIndex(start=0, stop=2, step=1)"
      ]
     },
     "execution_count": 90,
     "metadata": {},
     "output_type": "execute_result"
    },
    {
     "data": {
      "text/plain": [
       "MultiIndex([('PER_score',     ''),\n",
       "            (      'rtn', 'mean'),\n",
       "            (      'rtn',  'std')],\n",
       "           )"
      ]
     },
     "execution_count": 90,
     "metadata": {},
     "output_type": "execute_result"
    }
   ],
   "source": [
    "b.index\n",
    "b.columns"
   ]
  },
  {
   "cell_type": "code",
   "execution_count": 91,
   "metadata": {},
   "outputs": [
    {
     "data": {
      "text/html": [
       "<div>\n",
       "<style scoped>\n",
       "    .dataframe tbody tr th:only-of-type {\n",
       "        vertical-align: middle;\n",
       "    }\n",
       "\n",
       "    .dataframe tbody tr th {\n",
       "        vertical-align: top;\n",
       "    }\n",
       "\n",
       "    .dataframe thead th {\n",
       "        text-align: right;\n",
       "    }\n",
       "</style>\n",
       "<table border=\"1\" class=\"dataframe\">\n",
       "  <thead>\n",
       "    <tr style=\"text-align: right;\">\n",
       "      <th></th>\n",
       "      <th>mean</th>\n",
       "      <th>std</th>\n",
       "    </tr>\n",
       "    <tr>\n",
       "      <th>PER_score</th>\n",
       "      <th></th>\n",
       "      <th></th>\n",
       "    </tr>\n",
       "  </thead>\n",
       "  <tbody>\n",
       "    <tr>\n",
       "      <th>1</th>\n",
       "      <td>-0.062</td>\n",
       "      <td>0.328</td>\n",
       "    </tr>\n",
       "    <tr>\n",
       "      <th>2</th>\n",
       "      <td>-0.083</td>\n",
       "      <td>0.781</td>\n",
       "    </tr>\n",
       "  </tbody>\n",
       "</table>\n",
       "</div>"
      ],
      "text/plain": [
       "            mean   std\n",
       "PER_score             \n",
       "1         -0.062 0.328\n",
       "2         -0.083 0.781"
      ]
     },
     "execution_count": 91,
     "metadata": {},
     "output_type": "execute_result"
    }
   ],
   "source": [
    "a['rtn']"
   ]
  },
  {
   "cell_type": "code",
   "execution_count": 92,
   "metadata": {},
   "outputs": [
    {
     "data": {
      "text/plain": [
       "PER_score\n",
       "1   -0.062\n",
       "2   -0.083\n",
       "Name: (rtn, mean), dtype: float64"
      ]
     },
     "execution_count": 92,
     "metadata": {},
     "output_type": "execute_result"
    }
   ],
   "source": [
    "a[('rtn', 'mean')].head()"
   ]
  },
  {
   "cell_type": "markdown",
   "metadata": {},
   "source": [
    " "
   ]
  },
  {
   "cell_type": "markdown",
   "metadata": {},
   "source": [
    " "
   ]
  },
  {
   "cell_type": "markdown",
   "metadata": {},
   "source": [
    "### Multi-index columns을 하나로 병합하기"
   ]
  },
  {
   "cell_type": "code",
   "execution_count": 93,
   "metadata": {},
   "outputs": [
    {
     "data": {
      "text/html": [
       "<div>\n",
       "<style scoped>\n",
       "    .dataframe tbody tr th:only-of-type {\n",
       "        vertical-align: middle;\n",
       "    }\n",
       "\n",
       "    .dataframe tbody tr th {\n",
       "        vertical-align: top;\n",
       "    }\n",
       "\n",
       "    .dataframe thead tr th {\n",
       "        text-align: left;\n",
       "    }\n",
       "\n",
       "    .dataframe thead tr:last-of-type th {\n",
       "        text-align: right;\n",
       "    }\n",
       "</style>\n",
       "<table border=\"1\" class=\"dataframe\">\n",
       "  <thead>\n",
       "    <tr>\n",
       "      <th></th>\n",
       "      <th></th>\n",
       "      <th colspan=\"4\" halign=\"left\">rtn</th>\n",
       "      <th colspan=\"4\" halign=\"left\">ROE(%)</th>\n",
       "    </tr>\n",
       "    <tr>\n",
       "      <th></th>\n",
       "      <th></th>\n",
       "      <th>mean</th>\n",
       "      <th>std</th>\n",
       "      <th>min</th>\n",
       "      <th>max</th>\n",
       "      <th>mean</th>\n",
       "      <th>size</th>\n",
       "      <th>nunique</th>\n",
       "      <th>idxmax</th>\n",
       "    </tr>\n",
       "    <tr>\n",
       "      <th>PBR_score</th>\n",
       "      <th>PER_score</th>\n",
       "      <th></th>\n",
       "      <th></th>\n",
       "      <th></th>\n",
       "      <th></th>\n",
       "      <th></th>\n",
       "      <th></th>\n",
       "      <th></th>\n",
       "      <th></th>\n",
       "    </tr>\n",
       "  </thead>\n",
       "  <tbody>\n",
       "    <tr>\n",
       "      <th rowspan=\"5\" valign=\"top\">1</th>\n",
       "      <th>1</th>\n",
       "      <td>-0.100</td>\n",
       "      <td>0.072</td>\n",
       "      <td>-0.196</td>\n",
       "      <td>0.003</td>\n",
       "      <td>-1.402</td>\n",
       "      <td>5</td>\n",
       "      <td>5</td>\n",
       "      <td>한국수출포장공업</td>\n",
       "    </tr>\n",
       "    <tr>\n",
       "      <th>2</th>\n",
       "      <td>-0.093</td>\n",
       "      <td>0.266</td>\n",
       "      <td>-0.482</td>\n",
       "      <td>0.437</td>\n",
       "      <td>154.967</td>\n",
       "      <td>11</td>\n",
       "      <td>11</td>\n",
       "      <td>삼부토건</td>\n",
       "    </tr>\n",
       "    <tr>\n",
       "      <th>3</th>\n",
       "      <td>0.117</td>\n",
       "      <td>0.359</td>\n",
       "      <td>-0.556</td>\n",
       "      <td>0.683</td>\n",
       "      <td>6.952</td>\n",
       "      <td>11</td>\n",
       "      <td>11</td>\n",
       "      <td>한국전력공사</td>\n",
       "    </tr>\n",
       "    <tr>\n",
       "      <th>4</th>\n",
       "      <td>0.106</td>\n",
       "      <td>0.295</td>\n",
       "      <td>-0.273</td>\n",
       "      <td>0.882</td>\n",
       "      <td>5.104</td>\n",
       "      <td>11</td>\n",
       "      <td>11</td>\n",
       "      <td>한국공항</td>\n",
       "    </tr>\n",
       "    <tr>\n",
       "      <th>5</th>\n",
       "      <td>-0.039</td>\n",
       "      <td>0.120</td>\n",
       "      <td>-0.206</td>\n",
       "      <td>0.113</td>\n",
       "      <td>3.941</td>\n",
       "      <td>7</td>\n",
       "      <td>7</td>\n",
       "      <td>성창기업지주</td>\n",
       "    </tr>\n",
       "  </tbody>\n",
       "</table>\n",
       "</div>"
      ],
      "text/plain": [
       "                       rtn                     ROE(%)                       \n",
       "                      mean   std    min   max    mean size nunique    idxmax\n",
       "PBR_score PER_score                                                         \n",
       "1         1         -0.100 0.072 -0.196 0.003  -1.402    5       5  한국수출포장공업\n",
       "          2         -0.093 0.266 -0.482 0.437 154.967   11      11      삼부토건\n",
       "          3          0.117 0.359 -0.556 0.683   6.952   11      11    한국전력공사\n",
       "          4          0.106 0.295 -0.273 0.882   5.104   11      11      한국공항\n",
       "          5         -0.039 0.120 -0.206 0.113   3.941    7       7    성창기업지주"
      ]
     },
     "execution_count": 93,
     "metadata": {},
     "output_type": "execute_result"
    }
   ],
   "source": [
    "g_df1.head()"
   ]
  },
  {
   "cell_type": "code",
   "execution_count": 95,
   "metadata": {},
   "outputs": [
    {
     "data": {
      "text/plain": [
       "Index(['rtn', 'rtn', 'rtn', 'rtn', 'ROE(%)', 'ROE(%)', 'ROE(%)', 'ROE(%)'], dtype='object')"
      ]
     },
     "execution_count": 95,
     "metadata": {},
     "output_type": "execute_result"
    },
    {
     "data": {
      "text/plain": [
       "Index(['mean', 'std', 'min', 'max', 'mean', 'size', 'nunique', 'idxmax'], dtype='object')"
      ]
     },
     "execution_count": 95,
     "metadata": {},
     "output_type": "execute_result"
    }
   ],
   "source": [
    "level0 = g_df1.columns.get_level_values(0)\n",
    "level1 = g_df1.columns.get_level_values(1)\n",
    "\n",
    "level0\n",
    "level1"
   ]
  },
  {
   "cell_type": "code",
   "execution_count": 96,
   "metadata": {},
   "outputs": [],
   "source": [
    "g_df1.columns = level0 + '_' + level1"
   ]
  },
  {
   "cell_type": "code",
   "execution_count": 97,
   "metadata": {},
   "outputs": [
    {
     "data": {
      "text/html": [
       "<div>\n",
       "<style scoped>\n",
       "    .dataframe tbody tr th:only-of-type {\n",
       "        vertical-align: middle;\n",
       "    }\n",
       "\n",
       "    .dataframe tbody tr th {\n",
       "        vertical-align: top;\n",
       "    }\n",
       "\n",
       "    .dataframe thead th {\n",
       "        text-align: right;\n",
       "    }\n",
       "</style>\n",
       "<table border=\"1\" class=\"dataframe\">\n",
       "  <thead>\n",
       "    <tr style=\"text-align: right;\">\n",
       "      <th></th>\n",
       "      <th></th>\n",
       "      <th>rtn_mean</th>\n",
       "      <th>rtn_std</th>\n",
       "      <th>rtn_min</th>\n",
       "      <th>rtn_max</th>\n",
       "      <th>ROE(%)_mean</th>\n",
       "      <th>ROE(%)_size</th>\n",
       "      <th>ROE(%)_nunique</th>\n",
       "      <th>ROE(%)_idxmax</th>\n",
       "    </tr>\n",
       "    <tr>\n",
       "      <th>PBR_score</th>\n",
       "      <th>PER_score</th>\n",
       "      <th></th>\n",
       "      <th></th>\n",
       "      <th></th>\n",
       "      <th></th>\n",
       "      <th></th>\n",
       "      <th></th>\n",
       "      <th></th>\n",
       "      <th></th>\n",
       "    </tr>\n",
       "  </thead>\n",
       "  <tbody>\n",
       "    <tr>\n",
       "      <th rowspan=\"2\" valign=\"top\">1</th>\n",
       "      <th>1</th>\n",
       "      <td>-0.100</td>\n",
       "      <td>0.072</td>\n",
       "      <td>-0.196</td>\n",
       "      <td>0.003</td>\n",
       "      <td>-1.402</td>\n",
       "      <td>5</td>\n",
       "      <td>5</td>\n",
       "      <td>한국수출포장공업</td>\n",
       "    </tr>\n",
       "    <tr>\n",
       "      <th>2</th>\n",
       "      <td>-0.093</td>\n",
       "      <td>0.266</td>\n",
       "      <td>-0.482</td>\n",
       "      <td>0.437</td>\n",
       "      <td>154.967</td>\n",
       "      <td>11</td>\n",
       "      <td>11</td>\n",
       "      <td>삼부토건</td>\n",
       "    </tr>\n",
       "  </tbody>\n",
       "</table>\n",
       "</div>"
      ],
      "text/plain": [
       "                     rtn_mean  rtn_std  rtn_min  rtn_max  ROE(%)_mean  \\\n",
       "PBR_score PER_score                                                     \n",
       "1         1            -0.100    0.072   -0.196    0.003       -1.402   \n",
       "          2            -0.093    0.266   -0.482    0.437      154.967   \n",
       "\n",
       "                     ROE(%)_size  ROE(%)_nunique ROE(%)_idxmax  \n",
       "PBR_score PER_score                                             \n",
       "1         1                    5               5      한국수출포장공업  \n",
       "          2                   11              11          삼부토건  "
      ]
     },
     "execution_count": 97,
     "metadata": {},
     "output_type": "execute_result"
    }
   ],
   "source": [
    "g_df1.head(2)"
   ]
  },
  {
   "cell_type": "code",
   "execution_count": 98,
   "metadata": {},
   "outputs": [
    {
     "data": {
      "text/html": [
       "<div>\n",
       "<style scoped>\n",
       "    .dataframe tbody tr th:only-of-type {\n",
       "        vertical-align: middle;\n",
       "    }\n",
       "\n",
       "    .dataframe tbody tr th {\n",
       "        vertical-align: top;\n",
       "    }\n",
       "\n",
       "    .dataframe thead th {\n",
       "        text-align: right;\n",
       "    }\n",
       "</style>\n",
       "<table border=\"1\" class=\"dataframe\">\n",
       "  <thead>\n",
       "    <tr style=\"text-align: right;\">\n",
       "      <th></th>\n",
       "      <th>PBR_score</th>\n",
       "      <th>PER_score</th>\n",
       "      <th>rtn_mean</th>\n",
       "      <th>rtn_std</th>\n",
       "      <th>rtn_min</th>\n",
       "      <th>rtn_max</th>\n",
       "      <th>ROE(%)_mean</th>\n",
       "      <th>ROE(%)_size</th>\n",
       "      <th>ROE(%)_nunique</th>\n",
       "      <th>ROE(%)_idxmax</th>\n",
       "    </tr>\n",
       "  </thead>\n",
       "  <tbody>\n",
       "    <tr>\n",
       "      <th>0</th>\n",
       "      <td>1</td>\n",
       "      <td>1</td>\n",
       "      <td>-0.100</td>\n",
       "      <td>0.072</td>\n",
       "      <td>-0.196</td>\n",
       "      <td>0.003</td>\n",
       "      <td>-1.402</td>\n",
       "      <td>5</td>\n",
       "      <td>5</td>\n",
       "      <td>한국수출포장공업</td>\n",
       "    </tr>\n",
       "    <tr>\n",
       "      <th>1</th>\n",
       "      <td>1</td>\n",
       "      <td>2</td>\n",
       "      <td>-0.093</td>\n",
       "      <td>0.266</td>\n",
       "      <td>-0.482</td>\n",
       "      <td>0.437</td>\n",
       "      <td>154.967</td>\n",
       "      <td>11</td>\n",
       "      <td>11</td>\n",
       "      <td>삼부토건</td>\n",
       "    </tr>\n",
       "    <tr>\n",
       "      <th>2</th>\n",
       "      <td>1</td>\n",
       "      <td>3</td>\n",
       "      <td>0.117</td>\n",
       "      <td>0.359</td>\n",
       "      <td>-0.556</td>\n",
       "      <td>0.683</td>\n",
       "      <td>6.952</td>\n",
       "      <td>11</td>\n",
       "      <td>11</td>\n",
       "      <td>한국전력공사</td>\n",
       "    </tr>\n",
       "    <tr>\n",
       "      <th>3</th>\n",
       "      <td>1</td>\n",
       "      <td>4</td>\n",
       "      <td>0.106</td>\n",
       "      <td>0.295</td>\n",
       "      <td>-0.273</td>\n",
       "      <td>0.882</td>\n",
       "      <td>5.104</td>\n",
       "      <td>11</td>\n",
       "      <td>11</td>\n",
       "      <td>한국공항</td>\n",
       "    </tr>\n",
       "    <tr>\n",
       "      <th>4</th>\n",
       "      <td>1</td>\n",
       "      <td>5</td>\n",
       "      <td>-0.039</td>\n",
       "      <td>0.120</td>\n",
       "      <td>-0.206</td>\n",
       "      <td>0.113</td>\n",
       "      <td>3.941</td>\n",
       "      <td>7</td>\n",
       "      <td>7</td>\n",
       "      <td>성창기업지주</td>\n",
       "    </tr>\n",
       "  </tbody>\n",
       "</table>\n",
       "</div>"
      ],
      "text/plain": [
       "  PBR_score PER_score  rtn_mean  rtn_std  rtn_min  rtn_max  ROE(%)_mean  \\\n",
       "0         1         1    -0.100    0.072   -0.196    0.003       -1.402   \n",
       "1         1         2    -0.093    0.266   -0.482    0.437      154.967   \n",
       "2         1         3     0.117    0.359   -0.556    0.683        6.952   \n",
       "3         1         4     0.106    0.295   -0.273    0.882        5.104   \n",
       "4         1         5    -0.039    0.120   -0.206    0.113        3.941   \n",
       "\n",
       "   ROE(%)_size  ROE(%)_nunique ROE(%)_idxmax  \n",
       "0            5               5      한국수출포장공업  \n",
       "1           11              11          삼부토건  \n",
       "2           11              11        한국전력공사  \n",
       "3           11              11          한국공항  \n",
       "4            7               7        성창기업지주  "
      ]
     },
     "execution_count": 98,
     "metadata": {},
     "output_type": "execute_result"
    }
   ],
   "source": [
    "g_df1 = g_df1.reset_index()\n",
    "g_df1.head()"
   ]
  },
  {
   "cell_type": "markdown",
   "metadata": {},
   "source": [
    " "
   ]
  },
  {
   "cell_type": "markdown",
   "metadata": {},
   "source": [
    " "
   ]
  },
  {
   "cell_type": "markdown",
   "metadata": {},
   "source": [
    " "
   ]
  },
  {
   "cell_type": "markdown",
   "metadata": {},
   "source": [
    " "
   ]
  },
  {
   "cell_type": "markdown",
   "metadata": {},
   "source": [
    "\n"
   ]
  },
  {
   "cell_type": "markdown",
   "metadata": {},
   "source": [
    " "
   ]
  },
  {
   "cell_type": "markdown",
   "metadata": {},
   "source": [
    " "
   ]
  },
  {
   "cell_type": "markdown",
   "metadata": {},
   "source": [
    "# 실전예제: 시가총액으로 Small and Big 나누기 "
   ]
  },
  {
   "cell_type": "code",
   "execution_count": 99,
   "metadata": {},
   "outputs": [
    {
     "data": {
      "text/html": [
       "<div>\n",
       "<style scoped>\n",
       "    .dataframe tbody tr th:only-of-type {\n",
       "        vertical-align: middle;\n",
       "    }\n",
       "\n",
       "    .dataframe tbody tr th {\n",
       "        vertical-align: top;\n",
       "    }\n",
       "\n",
       "    .dataframe thead th {\n",
       "        text-align: right;\n",
       "    }\n",
       "</style>\n",
       "<table border=\"1\" class=\"dataframe\">\n",
       "  <thead>\n",
       "    <tr style=\"text-align: right;\">\n",
       "      <th></th>\n",
       "      <th>date</th>\n",
       "      <th>종목명</th>\n",
       "      <th>PBR(IFRS-연결)</th>\n",
       "      <th>베타 (M,5Yr)</th>\n",
       "      <th>수익률(%)</th>\n",
       "      <th>시가총액 (보통)(평균)(원)</th>\n",
       "    </tr>\n",
       "  </thead>\n",
       "  <tbody>\n",
       "    <tr>\n",
       "      <th>0</th>\n",
       "      <td>2000-07-31</td>\n",
       "      <td>BYC</td>\n",
       "      <td>0.210</td>\n",
       "      <td>0.479</td>\n",
       "      <td>-0.580</td>\n",
       "      <td>27786000000.000</td>\n",
       "    </tr>\n",
       "    <tr>\n",
       "      <th>1</th>\n",
       "      <td>2000-07-31</td>\n",
       "      <td>CJ</td>\n",
       "      <td>0.510</td>\n",
       "      <td>1.166</td>\n",
       "      <td>-9.000</td>\n",
       "      <td>1160889000000.000</td>\n",
       "    </tr>\n",
       "    <tr>\n",
       "      <th>2</th>\n",
       "      <td>2000-07-31</td>\n",
       "      <td>CJ ENM</td>\n",
       "      <td>6.560</td>\n",
       "      <td>NaN</td>\n",
       "      <td>17.400</td>\n",
       "      <td>400467000000.000</td>\n",
       "    </tr>\n",
       "    <tr>\n",
       "      <th>3</th>\n",
       "      <td>2000-07-31</td>\n",
       "      <td>CJ대한통운</td>\n",
       "      <td>0.170</td>\n",
       "      <td>1.314</td>\n",
       "      <td>-7.960</td>\n",
       "      <td>194962000000.000</td>\n",
       "    </tr>\n",
       "    <tr>\n",
       "      <th>4</th>\n",
       "      <td>2000-07-31</td>\n",
       "      <td>CJ씨푸드</td>\n",
       "      <td>NaN</td>\n",
       "      <td>0.227</td>\n",
       "      <td>32.000</td>\n",
       "      <td>1987000000.000</td>\n",
       "    </tr>\n",
       "  </tbody>\n",
       "</table>\n",
       "</div>"
      ],
      "text/plain": [
       "         date     종목명  PBR(IFRS-연결)  베타 (M,5Yr)  수익률(%)  시가총액 (보통)(평균)(원)\n",
       "0  2000-07-31     BYC         0.210       0.479  -0.580   27786000000.000\n",
       "1  2000-07-31      CJ         0.510       1.166  -9.000 1160889000000.000\n",
       "2  2000-07-31  CJ ENM         6.560         NaN  17.400  400467000000.000\n",
       "3  2000-07-31  CJ대한통운         0.170       1.314  -7.960  194962000000.000\n",
       "4  2000-07-31   CJ씨푸드           NaN       0.227  32.000    1987000000.000"
      ]
     },
     "execution_count": 99,
     "metadata": {},
     "output_type": "execute_result"
    }
   ],
   "source": [
    "a_df = pd.read_csv(\"my_data/Small_and_Big.csv\", index_col=[0])\n",
    "a_df.head()"
   ]
  },
  {
   "cell_type": "code",
   "execution_count": 100,
   "metadata": {},
   "outputs": [
    {
     "data": {
      "text/html": [
       "<div>\n",
       "<style scoped>\n",
       "    .dataframe tbody tr th:only-of-type {\n",
       "        vertical-align: middle;\n",
       "    }\n",
       "\n",
       "    .dataframe tbody tr th {\n",
       "        vertical-align: top;\n",
       "    }\n",
       "\n",
       "    .dataframe thead th {\n",
       "        text-align: right;\n",
       "    }\n",
       "</style>\n",
       "<table border=\"1\" class=\"dataframe\">\n",
       "  <thead>\n",
       "    <tr style=\"text-align: right;\">\n",
       "      <th></th>\n",
       "      <th>date</th>\n",
       "      <th>종목명</th>\n",
       "      <th>PBR(IFRS-연결)</th>\n",
       "      <th>베타 (M,5Yr)</th>\n",
       "      <th>수익률(%)</th>\n",
       "      <th>시가총액 (보통)(평균)(원)</th>\n",
       "    </tr>\n",
       "  </thead>\n",
       "  <tbody>\n",
       "    <tr>\n",
       "      <th>235924</th>\n",
       "      <td>2018-06-30</td>\n",
       "      <td>흥국에프엔비</td>\n",
       "      <td>0.950</td>\n",
       "      <td>1.364</td>\n",
       "      <td>-1.690</td>\n",
       "      <td>64926000000.000</td>\n",
       "    </tr>\n",
       "    <tr>\n",
       "      <th>235925</th>\n",
       "      <td>2018-06-30</td>\n",
       "      <td>흥국화재</td>\n",
       "      <td>0.650</td>\n",
       "      <td>0.721</td>\n",
       "      <td>8.890</td>\n",
       "      <td>383175000000.000</td>\n",
       "    </tr>\n",
       "    <tr>\n",
       "      <th>235926</th>\n",
       "      <td>2018-06-30</td>\n",
       "      <td>흥아해운</td>\n",
       "      <td>0.920</td>\n",
       "      <td>1.240</td>\n",
       "      <td>-5.750</td>\n",
       "      <td>134473000000.000</td>\n",
       "    </tr>\n",
       "    <tr>\n",
       "      <th>235927</th>\n",
       "      <td>2018-06-30</td>\n",
       "      <td>희림</td>\n",
       "      <td>1.390</td>\n",
       "      <td>0.216</td>\n",
       "      <td>2.230</td>\n",
       "      <td>86250000000.000</td>\n",
       "    </tr>\n",
       "    <tr>\n",
       "      <th>235928</th>\n",
       "      <td>2018-06-30</td>\n",
       "      <td>힘스</td>\n",
       "      <td>1.420</td>\n",
       "      <td>NaN</td>\n",
       "      <td>-15.820</td>\n",
       "      <td>82748000000.000</td>\n",
       "    </tr>\n",
       "  </tbody>\n",
       "</table>\n",
       "</div>"
      ],
      "text/plain": [
       "              date     종목명  PBR(IFRS-연결)  베타 (M,5Yr)  수익률(%)  시가총액 (보통)(평균)(원)\n",
       "235924  2018-06-30  흥국에프엔비         0.950       1.364  -1.690   64926000000.000\n",
       "235925  2018-06-30    흥국화재         0.650       0.721   8.890  383175000000.000\n",
       "235926  2018-06-30    흥아해운         0.920       1.240  -5.750  134473000000.000\n",
       "235927  2018-06-30      희림         1.390       0.216   2.230   86250000000.000\n",
       "235928  2018-06-30      힘스         1.420         NaN -15.820   82748000000.000"
      ]
     },
     "execution_count": 100,
     "metadata": {},
     "output_type": "execute_result"
    }
   ],
   "source": [
    "a_df.tail()"
   ]
  },
  {
   "cell_type": "code",
   "execution_count": 101,
   "metadata": {},
   "outputs": [
    {
     "data": {
      "text/html": [
       "<div>\n",
       "<style scoped>\n",
       "    .dataframe tbody tr th:only-of-type {\n",
       "        vertical-align: middle;\n",
       "    }\n",
       "\n",
       "    .dataframe tbody tr th {\n",
       "        vertical-align: top;\n",
       "    }\n",
       "\n",
       "    .dataframe thead th {\n",
       "        text-align: right;\n",
       "    }\n",
       "</style>\n",
       "<table border=\"1\" class=\"dataframe\">\n",
       "  <thead>\n",
       "    <tr style=\"text-align: right;\">\n",
       "      <th></th>\n",
       "      <th>시가총액 (보통)(평균)(원)</th>\n",
       "    </tr>\n",
       "    <tr>\n",
       "      <th>date</th>\n",
       "      <th></th>\n",
       "    </tr>\n",
       "  </thead>\n",
       "  <tbody>\n",
       "    <tr>\n",
       "      <th>2000-07-31</th>\n",
       "      <td>34947000000.000</td>\n",
       "    </tr>\n",
       "    <tr>\n",
       "      <th>2000-08-31</th>\n",
       "      <td>33684000000.000</td>\n",
       "    </tr>\n",
       "    <tr>\n",
       "      <th>2000-09-30</th>\n",
       "      <td>33684000000.000</td>\n",
       "    </tr>\n",
       "    <tr>\n",
       "      <th>2000-10-31</th>\n",
       "      <td>30523000000.000</td>\n",
       "    </tr>\n",
       "    <tr>\n",
       "      <th>2000-11-30</th>\n",
       "      <td>30798000000.000</td>\n",
       "    </tr>\n",
       "    <tr>\n",
       "      <th>...</th>\n",
       "      <td>...</td>\n",
       "    </tr>\n",
       "    <tr>\n",
       "      <th>2018-02-28</th>\n",
       "      <td>155664000000.000</td>\n",
       "    </tr>\n",
       "    <tr>\n",
       "      <th>2018-03-31</th>\n",
       "      <td>155664000000.000</td>\n",
       "    </tr>\n",
       "    <tr>\n",
       "      <th>2018-04-30</th>\n",
       "      <td>159550000000.000</td>\n",
       "    </tr>\n",
       "    <tr>\n",
       "      <th>2018-05-31</th>\n",
       "      <td>164650000000.000</td>\n",
       "    </tr>\n",
       "    <tr>\n",
       "      <th>2018-06-30</th>\n",
       "      <td>164650000000.000</td>\n",
       "    </tr>\n",
       "  </tbody>\n",
       "</table>\n",
       "<p>216 rows × 1 columns</p>\n",
       "</div>"
      ],
      "text/plain": [
       "            시가총액 (보통)(평균)(원)\n",
       "date                        \n",
       "2000-07-31   34947000000.000\n",
       "2000-08-31   33684000000.000\n",
       "2000-09-30   33684000000.000\n",
       "2000-10-31   30523000000.000\n",
       "2000-11-30   30798000000.000\n",
       "...                      ...\n",
       "2018-02-28  155664000000.000\n",
       "2018-03-31  155664000000.000\n",
       "2018-04-30  159550000000.000\n",
       "2018-05-31  164650000000.000\n",
       "2018-06-30  164650000000.000\n",
       "\n",
       "[216 rows x 1 columns]"
      ]
     },
     "execution_count": 101,
     "metadata": {},
     "output_type": "execute_result"
    }
   ],
   "source": [
    "median_df = a_df.groupby(['date']).agg({'시가총액 (보통)(평균)(원)': 'median'})\n",
    "median_df"
   ]
  },
  {
   "cell_type": "code",
   "execution_count": 102,
   "metadata": {},
   "outputs": [
    {
     "data": {
      "text/html": [
       "<div>\n",
       "<style scoped>\n",
       "    .dataframe tbody tr th:only-of-type {\n",
       "        vertical-align: middle;\n",
       "    }\n",
       "\n",
       "    .dataframe tbody tr th {\n",
       "        vertical-align: top;\n",
       "    }\n",
       "\n",
       "    .dataframe thead th {\n",
       "        text-align: right;\n",
       "    }\n",
       "</style>\n",
       "<table border=\"1\" class=\"dataframe\">\n",
       "  <thead>\n",
       "    <tr style=\"text-align: right;\">\n",
       "      <th></th>\n",
       "      <th>시가총액_median</th>\n",
       "    </tr>\n",
       "    <tr>\n",
       "      <th>date</th>\n",
       "      <th></th>\n",
       "    </tr>\n",
       "  </thead>\n",
       "  <tbody>\n",
       "    <tr>\n",
       "      <th>2000-07-31</th>\n",
       "      <td>34947000000.000</td>\n",
       "    </tr>\n",
       "    <tr>\n",
       "      <th>2000-08-31</th>\n",
       "      <td>33684000000.000</td>\n",
       "    </tr>\n",
       "    <tr>\n",
       "      <th>2000-09-30</th>\n",
       "      <td>33684000000.000</td>\n",
       "    </tr>\n",
       "    <tr>\n",
       "      <th>2000-10-31</th>\n",
       "      <td>30523000000.000</td>\n",
       "    </tr>\n",
       "    <tr>\n",
       "      <th>2000-11-30</th>\n",
       "      <td>30798000000.000</td>\n",
       "    </tr>\n",
       "  </tbody>\n",
       "</table>\n",
       "</div>"
      ],
      "text/plain": [
       "               시가총액_median\n",
       "date                      \n",
       "2000-07-31 34947000000.000\n",
       "2000-08-31 33684000000.000\n",
       "2000-09-30 33684000000.000\n",
       "2000-10-31 30523000000.000\n",
       "2000-11-30 30798000000.000"
      ]
     },
     "execution_count": 102,
     "metadata": {},
     "output_type": "execute_result"
    }
   ],
   "source": [
    "median_df.columns = ['시가총액_median']\n",
    "median_df.head()"
   ]
  },
  {
   "cell_type": "markdown",
   "metadata": {},
   "source": [
    "- 구한 median dataframe을 어떻게 가존의 원본 dataframe과 연결 시킬수있을까?\n",
    "=> 다음 노트북!"
   ]
  }
 ],
 "metadata": {
  "kernelspec": {
   "display_name": "Python 3 (ipykernel)",
   "language": "python",
   "name": "python3"
  },
  "language_info": {
   "codemirror_mode": {
    "name": "ipython",
    "version": 3
   },
   "file_extension": ".py",
   "mimetype": "text/x-python",
   "name": "python",
   "nbconvert_exporter": "python",
   "pygments_lexer": "ipython3",
   "version": "3.9.7"
  },
  "toc": {
   "base_numbering": 1,
   "nav_menu": {},
   "number_sections": true,
   "sideBar": true,
   "skip_h1_title": false,
   "title_cell": "Table of Contents",
   "title_sidebar": "Contents",
   "toc_cell": false,
   "toc_position": {
    "height": "calc(100% - 180px)",
    "left": "10px",
    "top": "150px",
    "width": "256px"
   },
   "toc_section_display": true,
   "toc_window_display": true
  },
  "toc-autonumbering": true
 },
 "nbformat": 4,
 "nbformat_minor": 4
}
